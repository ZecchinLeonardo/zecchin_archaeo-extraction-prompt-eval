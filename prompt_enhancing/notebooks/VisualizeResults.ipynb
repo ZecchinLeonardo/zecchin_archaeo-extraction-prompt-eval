{
 "cells": [
  {
   "cell_type": "markdown",
   "id": "0",
   "metadata": {},
   "source": [
    "# Pipeline try\n",
    "\n",
    "We have selected some PDF samples with already-encoded text to test a complete pipeline worflow until the structured data extraction"
   ]
  },
  {
   "cell_type": "markdown",
   "id": "1",
   "metadata": {},
   "source": [
    "## Evaluation result inspection"
   ]
  },
  {
   "cell_type": "code",
   "execution_count": null,
   "id": "2",
   "metadata": {},
   "outputs": [],
   "source": [
    "import pandas as pd\n",
    "from archaeo_super_prompt.utils.result import get_report_dir\n",
    "from archaeo_super_prompt.visualization import (\n",
    "        init_complete_vizualisation_engine, run_display_server\n",
    ")\n",
    "\n",
    "\n",
    "# the file must be saved in the reports/results/ directory from the root of the\n",
    "# prompt_enhancing project\n",
    "score_results = pd.read_csv(get_report_dir() /\n",
    "                            \"results/2.0-legacy-vllm-extended.csv\")\n",
    "init_complete_vizualisation_engine(score_results)"
   ]
  },
  {
   "cell_type": "code",
   "execution_count": null,
   "id": "3",
   "metadata": {},
   "outputs": [],
   "source": [
    "run_display_server()"
   ]
  },
  {
   "cell_type": "code",
   "execution_count": null,
   "id": "4",
   "metadata": {},
   "outputs": [],
   "source": []
  }
 ],
 "metadata": {
  "kernelspec": {
   "display_name": "Poetry",
   "language": "python",
   "name": "poetry-kernel"
  },
  "language_info": {
   "codemirror_mode": {
    "name": "ipython",
    "version": 3
   },
   "file_extension": ".py",
   "mimetype": "text/x-python",
   "name": "python",
   "nbconvert_exporter": "python",
   "pygments_lexer": "ipython3",
   "version": "3.13.5"
  }
 },
 "nbformat": 4,
 "nbformat_minor": 5
}
