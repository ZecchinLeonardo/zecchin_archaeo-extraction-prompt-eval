{
 "cells": [
  {
   "cell_type": "code",
   "execution_count": null,
   "id": "0",
   "metadata": {},
   "outputs": [],
   "source": [
    "%load_ext autoreload\n",
    "%autoreload 2"
   ]
  },
  {
   "cell_type": "code",
   "execution_count": null,
   "id": "1",
   "metadata": {},
   "outputs": [],
   "source": [
    "from pathlib import Path\n",
    "import pandas as pd\n",
    "from archaeo_super_prompt.dataset.normalization.intervention_date import utils, transforms\n",
    "from archaeo_super_prompt.dataset.normalization.intervention_date import duration\n",
    "\n",
    "\n",
    "pd.set_option('display.max_columns', None)"
   ]
  },
  {
   "cell_type": "code",
   "execution_count": null,
   "id": "2",
   "metadata": {},
   "outputs": [],
   "source": [
    "df = pd.read_csv(Path(\"~/Documents/Mappa/ressources/interventi_thomas.csv\"),\n",
    "                 sep=\";\").drop(columns=[\"geojson\", \"centroid\", \"raster_wms\", \"matrix\", \"geom_edit\"]).astype({\"anno\": pd.Int32Dtype()})\n",
    "print(\"Records number:\", len(df))"
   ]
  },
  {
   "cell_type": "markdown",
   "id": "3",
   "metadata": {},
   "source": [
    "## Normalization of the duration\n",
    "\n",
    "### Duration data to keep\n",
    "\n",
    "For the training and the evaluation of a model predicting the duration of an excavation, only keep the records which were inserted during the `Progetto MAGOH`. In fact, in these records, the `durata_intervento` value was empty only when the information was not available the documents. So, with these records, we can teach to the model when to answer \"I don't know\"."
   ]
  },
  {
   "cell_type": "code",
   "execution_count": null,
   "id": "4",
   "metadata": {},
   "outputs": [],
   "source": [
    "df[\"motivazione_aggiornamento\"].unique()"
   ]
  },
  {
   "cell_type": "code",
   "execution_count": null,
   "id": "5",
   "metadata": {},
   "outputs": [],
   "source": [
    "normalized = df.assign(\n",
    "    norm_duration=df[\"durata_intervento\"].apply(\n",
    "        lambda k: None if isinstance(k, float) else k\n",
    "    ).apply(duration.parse_duration)\n",
    ")\n",
    "normalized = normalized[\n",
    "    normalized[\"norm_duration\"].isnull() |\n",
    "    normalized[\"norm_duration\"].apply(lambda k: isinstance(k, tuple))\n",
    "    ]\n",
    "print(\"Records number:\", len(df))"
   ]
  },
  {
   "cell_type": "markdown",
   "id": "6",
   "metadata": {},
   "source": [
    "## Normalization of the intervention start date\n",
    "\n",
    "We want to store a digital estimation of the start of an intervention with the form of a time interval."
   ]
  },
  {
   "cell_type": "code",
   "execution_count": null,
   "id": "7",
   "metadata": {},
   "outputs": [],
   "source": [
    "gettable_data = normalized[[\n",
    "    \"idscheda\", \"data_protocollo\", \"data_intervento\", \"anno\", \"norm_duration\"\n",
    "]]\n",
    "gettable_data = gettable_data[\n",
    "    # (gettable_data[\"data_protocollo\"].notnull()) &\n",
    "    (gettable_data[\"data_intervento\"].notnull())\n",
    "    & (gettable_data[\"anno\"].notnull())\n",
    "    ]\n",
    "len(gettable_data)"
   ]
  },
  {
   "cell_type": "code",
   "execution_count": null,
   "id": "8",
   "metadata": {},
   "outputs": [],
   "source": [
    "normalized = utils.pipe(gettable_data, (\n",
    "    transforms.generic_period,\n",
    "    transforms.generic_single_period,\n",
    "    transforms.precised_numeric_start_date,\n",
    "    transforms.before_day_month,\n",
    "))\n",
    "is_date_processed = normalized[\"norm_date\"].apply(\n",
    "    lambda s: s is not None\n",
    ")\n",
    "print(\"covered_dates:\", sum(is_date_processed)/len(is_date_processed)*100, \"%\")\n",
    "normalized[~is_date_processed]"
   ]
  },
  {
   "cell_type": "code",
   "execution_count": null,
   "id": "9",
   "metadata": {},
   "outputs": [],
   "source": [
    "for i, d in enumerate(\n",
    "    normalized[~is_date_processed][\"data_intervento\"].unique()\n",
    "):\n",
    "    print(d)"
   ]
  },
  {
   "cell_type": "code",
   "execution_count": null,
   "id": "10",
   "metadata": {},
   "outputs": [],
   "source": [
    "normalized = normalized[is_date_processed]\n",
    "print(\"Records number:\", len(normalized))"
   ]
  },
  {
   "cell_type": "markdown",
   "id": "11",
   "metadata": {},
   "source": [
    "### Pre-normalized date to digital datetime\n",
    "\n",
    "After this normalization, the column `norm_date` is a tuple with the following elements:\n",
    "- a date string or a the `<UNKNOWN>` string when we cannot give a starting date to the intervention\n",
    "- a date string for the most recent date before which the intervention could have started\n",
    "- a precision string with the value `day`, `month`, `year`\n",
    "\n",
    "The date string has thist format for now: `d/m/y`, with `d` a one-or-two-digits integer for the day, `y` a 4-digit integer for the year and `m` a string for the month to be normalized into a digit between 1 and 12.\n",
    "\n",
    "**The aim of this section is to convert the date strings into a processable datetime object.**"
   ]
  },
  {
   "cell_type": "code",
   "execution_count": null,
   "id": "12",
   "metadata": {},
   "outputs": [],
   "source": [
    "from datetime import date as ddate\n",
    "from archaeo_super_prompt.dataset.normalization.intervention_date import month_normalization\n",
    "from logging import warning\n",
    "\n",
    "bad_words = set()\n",
    "\n",
    "def to_datetime(date):\n",
    "    if date == \"<UNKNOWN>\":\n",
    "        return None\n",
    "    d, m, y = date.split(\"/\")\n",
    "    m = month_normalization.to_int_month(m)\n",
    "    return ddate(int(y), m, int(d))\n",
    "\n",
    "normalized = normalized.assign(\n",
    "    start_date=lambda df: df[\"norm_date\"].apply(lambda nd: to_datetime(nd.start_date)),\n",
    "    end_date=lambda df: df[\"norm_date\"].apply(lambda nd: to_datetime(nd.end_date)),\n",
    "    precision=lambda df: df[\"norm_date\"].apply(lambda nd: nd.precision)\n",
    ")"
   ]
  },
  {
   "cell_type": "markdown",
   "id": "13",
   "metadata": {},
   "source": [
    "### Fix human insertion noise\n",
    "\n",
    "The got duration and date of intervention estimations are not always representing both these fields.\n",
    "\n",
    "Indeed, instead of inputing a time interval for the estimation of the start of the intervention, a period has usually been inserted to represent the whole period of the intervention.\n",
    "In this case, we do the following:\n",
    "- we only keep the earlier date as the start date of the intervention\n",
    "- with the initial couple (`start_date` - `end_date`), we infer the duration, if not input.\n",
    "\n",
    "We apply this fix for each got pre-processed record."
   ]
  },
  {
   "cell_type": "code",
   "execution_count": null,
   "id": "14",
   "metadata": {},
   "outputs": [],
   "source": [
    "from archaeo_super_prompt.dataset.normalization.intervention_date import period_to_dd\n",
    "from datetime import timedelta\n",
    "\n",
    "normalized = period_to_dd.fix_start_and_duration(normalized)\n",
    "print(\"Records number:\", len(normalized))"
   ]
  },
  {
   "cell_type": "markdown",
   "id": "15",
   "metadata": {},
   "source": [
    "## Final dataframe\n",
    "\n",
    "We export a new training set with the window of intervention start\n",
    "\n",
    "### Renaming"
   ]
  },
  {
   "cell_type": "code",
   "execution_count": null,
   "id": "16",
   "metadata": {},
   "outputs": [],
   "source": [
    "complete_table = normalized.rename(columns={\n",
    "    \"start_date\": \"intervention_start_date_min\",\n",
    "    \"end_date\": \"intervention_start_date_max\",\n",
    "    \"precision\": \"intervention_start_date_precision\"\n",
    "    }).assign(\n",
    "    duration_value=normalized[\"norm_duration\"].apply(\n",
    "        lambda d: None if d is None else d[0],\n",
    "    ),\n",
    "    duration_precision=normalized[\"norm_duration\"].apply(\n",
    "        lambda d: None if d is None else d[1],\n",
    "    )\n",
    ")[[\n",
    "    \"idscheda\",\n",
    "    \"intervention_start_date_min\",\n",
    "    \"intervention_start_date_max\",\n",
    "    \"intervention_start_date_precision\",\n",
    "    \"duration_value\",\n",
    "    \"duration_precision\"\n",
    "]]\n",
    "print(\"Normalized record number:\", len(complete_table))\n",
    "complete_table"
   ]
  },
  {
   "cell_type": "code",
   "execution_count": null,
   "id": "17",
   "metadata": {},
   "outputs": [],
   "source": [
    "from archaeo_super_prompt.dataset.postgresql_engine import get_entries"
   ]
  },
  {
   "cell_type": "code",
   "execution_count": null,
   "id": "18",
   "metadata": {},
   "outputs": [],
   "source": [
    "it, findings = get_entries(10000, 0.1, False)"
   ]
  },
  {
   "cell_type": "code",
   "execution_count": null,
   "id": "19",
   "metadata": {},
   "outputs": [],
   "source": [
    "complete_table = complete_table.merge(df, on=\"idscheda\").merge(\n",
    "    it, left_on=\"idscheda\", right_on=\"scheda_intervento.id\"\n",
    ")"
   ]
  },
  {
   "cell_type": "code",
   "execution_count": null,
   "id": "20",
   "metadata": {},
   "outputs": [],
   "source": [
    "complete_table"
   ]
  },
  {
   "cell_type": "code",
   "execution_count": null,
   "id": "21",
   "metadata": {},
   "outputs": [],
   "source": [
    "from archaeo_super_prompt.config.env import getenv_or_throw\n",
    "from sqlalchemy import create_engine\n",
    "\n",
    "def _create_engine_from_credentials():\n",
    "    DIALECT = \"postgresql\"\n",
    "    DRIVER = \"psycopg2\"\n",
    "    writing_db_user = getenv_or_throw(\"PG_SUPERUSER\")\n",
    "    db_name = getenv_or_throw(\"PG_DB_NAME\")\n",
    "    db_user_password = getenv_or_throw(\"PG_DB_PASSWORD\")\n",
    "\n",
    "    db_host = getenv_or_throw(\"PG_DB_HOST\")\n",
    "    db_port = getenv_or_throw(\"PG_DB_PORT\")\n",
    "\n",
    "    return create_engine(\n",
    "        f\"{DIALECT}+{DRIVER}://{writing_db_user}:{db_user_password}@{db_host}:{db_port}/{db_name}\"\n",
    "    )\n",
    "connection = _create_engine_from_credentials()"
   ]
  },
  {
   "cell_type": "code",
   "execution_count": null,
   "id": "22",
   "metadata": {},
   "outputs": [],
   "source": [
    "complete_table.to_sql(\"featured__intervention_data\", connection)"
   ]
  },
  {
   "cell_type": "code",
   "execution_count": null,
   "id": "23",
   "metadata": {},
   "outputs": [],
   "source": [
    "    "
   ]
  }
 ],
 "metadata": {
  "kernelspec": {
   "display_name": "Poetry",
   "language": "python",
   "name": "poetry-kernel"
  },
  "language_info": {
   "codemirror_mode": {
    "name": "ipython",
    "version": 3
   },
   "file_extension": ".py",
   "mimetype": "text/x-python",
   "name": "python",
   "nbconvert_exporter": "python",
   "pygments_lexer": "ipython3",
   "version": "3.13.5"
  }
 },
 "nbformat": 4,
 "nbformat_minor": 5
}
