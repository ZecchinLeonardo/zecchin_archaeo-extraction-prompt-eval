{
 "cells": [
  {
   "cell_type": "code",
   "execution_count": null,
   "id": "0",
   "metadata": {},
   "outputs": [],
   "source": [
    "%load_ext autoreload\n",
    "%autoreload 2"
   ]
  },
  {
   "cell_type": "code",
   "execution_count": null,
   "id": "1",
   "metadata": {},
   "outputs": [],
   "source": [
    "from pathlib import Path\n",
    "import pandas as pd\n",
    "from archaeo_super_prompt.dataset.normalization.intervention_date import utils, transforms"
   ]
  },
  {
   "cell_type": "code",
   "execution_count": null,
   "id": "2",
   "metadata": {},
   "outputs": [],
   "source": [
    "df = pd.read_csv(Path(\"~/Documents/Mappa/ressources/interventi_thomas.csv\"),\n",
    "                 sep=\";\")"
   ]
  },
  {
   "cell_type": "code",
   "execution_count": null,
   "id": "3",
   "metadata": {},
   "outputs": [],
   "source": [
    "gettable_data = df[[\"idscheda\", \"data_protocollo\", \"data_intervento\", \"anno\"]].astype({\"anno\": pd.Int32Dtype()})\n",
    "gettable_data = gettable_data[\n",
    "    (gettable_data[\"data_protocollo\"].notnull()) &\n",
    "    (gettable_data[\"data_intervento\"].notnull())\n",
    "    & (gettable_data[\"anno\"].notnull())\n",
    "    ]\n",
    "len(gettable_data)"
   ]
  },
  {
   "cell_type": "code",
   "execution_count": null,
   "id": "4",
   "metadata": {},
   "outputs": [],
   "source": [
    "normalized = utils.pipe(gettable_data, (\n",
    "    transforms.generic_period,\n",
    "    transforms.generic_single_period,\n",
    "    transforms.precised_numeric_start_date\n",
    "))\n",
    "is_date_processed = normalized[\"norm_date\"].apply(\n",
    "    lambda s: s is not None\n",
    ")\n",
    "print(\"covered_dates:\", sum(is_date_processed)/len(is_date_processed)*100, \"%\")\n",
    "normalized[~is_date_processed]"
   ]
  },
  {
   "cell_type": "code",
   "execution_count": null,
   "id": "5",
   "metadata": {},
   "outputs": [],
   "source": [
    "for i, d in enumerate(\n",
    "    normalized[~is_date_processed][\"data_intervento\"].unique()\n",
    "):\n",
    "    print(d)"
   ]
  },
  {
   "cell_type": "code",
   "execution_count": null,
   "id": "6",
   "metadata": {},
   "outputs": [],
   "source": [
    "\"2006 \".strip()"
   ]
  }
 ],
 "metadata": {
  "kernelspec": {
   "display_name": "Poetry",
   "language": "python",
   "name": "poetry-kernel"
  },
  "language_info": {
   "codemirror_mode": {
    "name": "ipython",
    "version": 3
   },
   "file_extension": ".py",
   "mimetype": "text/x-python",
   "name": "python",
   "nbconvert_exporter": "python",
   "pygments_lexer": "ipython3",
   "version": "3.13.5"
  }
 },
 "nbformat": 4,
 "nbformat_minor": 5
}
