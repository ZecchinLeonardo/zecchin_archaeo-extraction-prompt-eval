{
 "cells": [
  {
   "cell_type": "code",
   "execution_count": null,
   "id": "0",
   "metadata": {},
   "outputs": [],
   "source": [
    "%load_ext autoreload\n",
    "%autoreload 2"
   ]
  },
  {
   "cell_type": "code",
   "execution_count": null,
   "id": "1",
   "metadata": {},
   "outputs": [],
   "source": [
    "from pathlib import Path\n",
    "import pandas as pd\n",
    "from archaeo_super_prompt.dataset.normalization.intervention_date import utils, transforms"
   ]
  },
  {
   "cell_type": "code",
   "execution_count": null,
   "id": "2",
   "metadata": {},
   "outputs": [],
   "source": [
    "df = pd.read_csv(Path(\"~/Documents/Mappa/ressources/interventi_thomas.csv\"),\n",
    "                 sep=\";\")"
   ]
  },
  {
   "cell_type": "code",
   "execution_count": null,
   "id": "3",
   "metadata": {},
   "outputs": [],
   "source": [
    "gettable_data = df[[\"idscheda\", \"data_protocollo\", \"data_intervento\", \"anno\"]].astype({\"anno\": pd.Int32Dtype()})\n",
    "gettable_data = gettable_data[\n",
    "    (gettable_data[\"data_protocollo\"].notnull()) &\n",
    "    (gettable_data[\"data_intervento\"].notnull())\n",
    "    & (gettable_data[\"anno\"].notnull())\n",
    "    ]\n",
    "len(gettable_data)"
   ]
  },
  {
   "cell_type": "code",
   "execution_count": null,
   "id": "4",
   "metadata": {},
   "outputs": [],
   "source": [
    "normalized = utils.pipe(gettable_data, (\n",
    "    transforms.generic_period,\n",
    "    transforms.generic_single_period,\n",
    "    transforms.precised_numeric_start_date,\n",
    "    transforms.before_day_month,\n",
    "))\n",
    "is_date_processed = normalized[\"norm_date\"].apply(\n",
    "    lambda s: s is not None\n",
    ")\n",
    "print(\"covered_dates:\", sum(is_date_processed)/len(is_date_processed)*100, \"%\")\n",
    "normalized[~is_date_processed]"
   ]
  },
  {
   "cell_type": "code",
   "execution_count": null,
   "id": "5",
   "metadata": {},
   "outputs": [],
   "source": [
    "for i, d in enumerate(\n",
    "    normalized[~is_date_processed][\"data_intervento\"].unique()\n",
    "):\n",
    "    print(d)"
   ]
  },
  {
   "cell_type": "markdown",
   "id": "6",
   "metadata": {},
   "source": [
    "### Pre-normalized date to digital datetime\n",
    "\n",
    "After this normalization, the column `norm_date` is a tuple with the following elements:\n",
    "- a date string or a the `<UNKNOWN>` string when we cannot give a starting date to the intervention\n",
    "- a date string for the most recent date before which the intervention could have started\n",
    "- a precision string with the value `day`, `month`, `year`\n",
    "\n",
    "The date string has thist format for now: `d/m/y`, with `d` a one-or-two-digits integer for the day, `y` a 4-digit integer for the year and `m` a string for the month to be normalized into a digit between 1 and 12.\n",
    "\n",
    "**The aim of this section is to convert the date strings into a processable datetime object.**"
   ]
  },
  {
   "cell_type": "code",
   "execution_count": null,
   "id": "7",
   "metadata": {},
   "outputs": [],
   "source": [
    "from datetime import date as ddate\n",
    "from archaeo_super_prompt.dataset.normalization.intervention_date import month_normalization\n",
    "from logging import warning\n",
    "\n",
    "bad_words = set()\n",
    "\n",
    "def to_datetime(date):\n",
    "    if date == \"<UNKNOWN>\":\n",
    "        return None\n",
    "    d, m, y = date.split(\"/\")\n",
    "    m = month_normalization.to_int_month(m)\n",
    "    return ddate(int(y), m, int(d))\n",
    "\n",
    "normalized[is_date_processed].assign(\n",
    "    start_date=lambda df: pd.to_datetime(df[\"norm_date\"].apply(lambda nd: to_datetime(nd.start_date))),\n",
    "    end_date=lambda df: pd.to_datetime(df[\"norm_date\"].apply(lambda nd: to_datetime(nd.end_date))),\n",
    "    precision=lambda df: df[\"norm_date\"].apply(lambda nd: nd.precision)\n",
    ")"
   ]
  }
 ],
 "metadata": {
  "kernelspec": {
   "display_name": "Poetry",
   "language": "python",
   "name": "poetry-kernel"
  },
  "language_info": {
   "codemirror_mode": {
    "name": "ipython",
    "version": 3
   },
   "file_extension": ".py",
   "mimetype": "text/x-python",
   "name": "python",
   "nbconvert_exporter": "python",
   "pygments_lexer": "ipython3",
   "version": "3.13.5"
  }
 },
 "nbformat": 4,
 "nbformat_minor": 5
}
