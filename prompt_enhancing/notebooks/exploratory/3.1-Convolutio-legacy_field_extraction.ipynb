{
 "cells": [
  {
   "cell_type": "markdown",
   "metadata": {},
   "source": [
    "# 3.1 Convolutio - Legacy Field Extraction\n",
    "\n",
    "This notebook demonstrates how to run the legacy field extractor within the current pipeline setup. It yields the full set of structured fields that were available in the original Magoh pipeline."
   ]
  },
  {
   "cell_type": "code",
   "execution_count": null,
   "metadata": {},
   "outputs": [],
   "source": [
    "from archae_super_prompt.modeling.legacy_predict import get_legacy_model\n",
    "import pandas as pd\n",
    "\n",
    "pdf_path = '../sample_docs/your_document.pdf'  # TODO: replace with actual PDF path\n",
    "\n",
    "# Prepare dataframe expected by the pipeline\n",
    "pdf_df = pd.DataFrame([{ 'id': 0, 'filepath': pdf_path }])\n",
    "\n",
    "legacy_model = get_legacy_model()\n",
    "# Run the pipeline to obtain all legacy fields\n",
    "legacy_results = legacy_model.transform(pdf_df)\n",
    "legacy_results\n"
   ]
  }
 ],
 "metadata": {
  "kernelspec": {
   "display_name": "Python 3",
   "language": "python",
   "name": "python3"
  },
  "language_info": {
   "name": "python",
   "version": "3.10"
  }
 },
 "nbformat": 4,
 "nbformat_minor": 5
}
