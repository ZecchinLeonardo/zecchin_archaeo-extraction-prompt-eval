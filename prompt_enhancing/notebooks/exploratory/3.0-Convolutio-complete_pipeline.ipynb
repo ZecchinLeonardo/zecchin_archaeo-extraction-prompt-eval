{
 "cells": [
  {
   "cell_type": "code",
   "execution_count": null,
   "id": "0",
   "metadata": {},
   "outputs": [],
   "source": [
    "%load_ext autoreload\n",
    "%autoreload 2"
   ]
  },
  {
   "cell_type": "code",
   "execution_count": null,
   "id": "1",
   "metadata": {},
   "outputs": [],
   "source": [
    "from archaeo_super_prompt.dataset import MagohDataset\n",
    "import archaeo_super_prompt.modeling.predict as modeling\n",
    "import mlflow\n",
    "import pandas as pd\n",
    "from archaeo_super_prompt.visualization import mlflow_logging as mmlflow\n",
    "from archaeo_super_prompt.config.env import getenv_or_throw\n",
    "from sklearn.pipeline import Pipeline"
   ]
  },
  {
   "cell_type": "code",
   "execution_count": null,
   "id": "2",
   "metadata": {},
   "outputs": [],
   "source": [
    "EXP_NAME = \"Comune dspy training - working\"\n",
    "mlflow.set_tracking_uri(f\"http://{getenv_or_throw(\"MLFLOW_HOST\")}:{getenv_or_throw(\"MLFLOW_PORT\")}\")\n",
    "mlflow.set_experiment(EXP_NAME)\n",
    "mlflow.dspy.autolog(log_compiles=True, log_evals=True, log_traces_from_compile=True)\n",
    "pd.set_option('display.max_columns', None)"
   ]
  },
  {
   "cell_type": "code",
   "execution_count": null,
   "id": "3",
   "metadata": {},
   "outputs": [],
   "source": [
    "pipe = modeling.get_pipeline()"
   ]
  },
  {
   "cell_type": "code",
   "execution_count": null,
   "id": "4",
   "metadata": {},
   "outputs": [],
   "source": [
    "_digitally_born_documents = [\n",
    "    # very good\n",
    "    33799, 34439, 38005, 36837, 36937, 37614, 37026, 37971, 36846, 36304, 34423, 36052,\n",
    "    37043, 36554, 989, 37007, 30897, 36351, 36308, 38013, 36011, 33828, 1221,\n",
    "    38039, 35429, 37065, 37116, 34452, 33441, 33062, 34939, 35918, 33689, 34508, 31035,\n",
    "    38220, 38092, 36979, 36854, 36207, 34915, 35688, 36359,\n",
    "    # not that good\n",
    "    31164, 32600, 33760, 32714, 31208, 30712,\n",
    "    ]\n",
    "ok_scanned_pdfs = {\n",
    "    32666, 31298, 33548, 35189, 35399, 30925, 37040, 37379, 33589, 34769,\n",
    "    33858, 34329, 5193, 37706, 30647, 37702, 33540, 36042, 33357, 34959,\n",
    "    30646, 33547, 32581, 30878, 37302, 33560, 35881, 31031, 37381, 242, 34869,\n",
    "    33841, 36465, 33499, 36095, 36068, 33594, 33904, 33644, 33553, 35052,\n",
    "    33630, 34426, 31090, 30716, 31059, 35849, 33813, 34666, 36119, 830,\n",
    "    36187, 31977, 34787, 33749, 35447, 33555, 33846, 34093, 33508,  # 33710\n",
    "}\n",
    "dirty_pdfs = {\n",
    "    36648, 32433, 35131, 33383, 30657, 31312, 30399, 33331, 31234, 30548,\n",
    "    34685, 34237, 35114, 30821, 33708, 33668, 34932, 30697, 38241, 33443,\n",
    "    37305, 33535, 31815, 35203, 33576, 32053, 33761, 37910, 35983, 31314,\n",
    "    37400, 36457, 33582, 31903, 32494, 33184, 36070, 31804, 30861\n",
    "}\n",
    "\n",
    "selected_ids = set(_digitally_born_documents).union(ok_scanned_pdfs, dirty_pdfs)\n",
    "ds = MagohDataset(selected_ids)\n",
    "inputs = ds.files.sample(10)"
   ]
  },
  {
   "cell_type": "code",
   "execution_count": null,
   "id": "5",
   "metadata": {},
   "outputs": [],
   "source": [
    "import logging\n",
    "with mlflow.start_run():\n",
    "    results = pipe.fit(inputs, ds)\n",
    "    comune_extractor = pipe.named_steps[\"extract-comune\"]\n",
    "    mmlflow.save_models(comune_extractor)"
   ]
  }
 ],
 "metadata": {
  "kernelspec": {
   "display_name": "Poetry",
   "language": "python",
   "name": "poetry-kernel"
  },
  "language_info": {
   "codemirror_mode": {
    "name": "ipython",
    "version": 3
   },
   "file_extension": ".py",
   "mimetype": "text/x-python",
   "name": "python",
   "nbconvert_exporter": "python",
   "pygments_lexer": "ipython3",
   "version": "3.13.5"
  }
 },
 "nbformat": 4,
 "nbformat_minor": 5
}
