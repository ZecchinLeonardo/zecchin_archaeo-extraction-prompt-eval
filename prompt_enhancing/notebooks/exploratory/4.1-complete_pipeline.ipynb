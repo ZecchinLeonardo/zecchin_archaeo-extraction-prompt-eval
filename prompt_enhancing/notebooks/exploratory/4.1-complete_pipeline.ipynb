{
 "cells": [
  {
   "cell_type": "code",
   "execution_count": null,
   "id": "1d775551-1613-4ffd-a5a9-493128749eb7",
   "metadata": {},
   "outputs": [],
   "source": [
    "# Stuff to run before this notebook\n",
    "\n",
    "# local pc, make sure postgresql is running with the necessary data\n",
    "# ssh -i ./fair_key -R 5432:localhost:5432 -L 8889:localhost:8889 -L 8887:localhost:8887 -L 8050:localhost:8050 name@host\n",
    "\n",
    "# for conda env and vllm venv\n",
    "\n",
    "# conda activate /raid/ggattiglia/magoh_ai/env\n",
    "# source ./vllm-server/.venv/bin/activate\n",
    "\n",
    "# LLM, needs conda and venv, replace cuda devices with gpus and hf token with your token (need to request permission to use model on huggingface first)\n",
    "# CUDA_VISIBLE_DEVICES=0,1 HF_TOKEN=[hf_token] vllm serve --port 8001 google/gemma-3-27b-it --tensor-parallel-size 2 --gpu-memory-utilization 0.6\n",
    "\n",
    "# mlflow, needs conda\n",
    "# mlflow server --host 127.0.0.1 --port 8887\n",
    "\n",
    "# NER server, needs conda and venv\n",
    "# cd prompt_enhancing/models/custom-remote-models/src/magoh_ai_sup_server\n",
    "# just run-server"
   ]
  },
  {
   "cell_type": "code",
   "execution_count": null,
   "id": "3b0ba742-9f92-4c95-9ab9-8fed48488504",
   "metadata": {},
   "outputs": [],
   "source": [
    "# the functions and code in this notebook should be in the code itself"
   ]
  },
  {
   "cell_type": "code",
   "execution_count": 1,
   "id": "0",
   "metadata": {},
   "outputs": [],
   "source": [
    "%load_ext autoreload\n",
    "%autoreload 2"
   ]
  },
  {
   "cell_type": "code",
   "execution_count": 2,
   "id": "65dda851",
   "metadata": {},
   "outputs": [
    {
     "name": "stdout",
     "output_type": "stream",
     "text": [
      "Current working directory: /raid/ggattiglia/magoh_ai/zecchin_archaeo-extraction-prompt-eval/prompt_enhancing/src\n"
     ]
    }
   ],
   "source": [
    "import os\n",
    "os.chdir(os.path.join(os.getcwd(), '..', '..', 'src'))\n",
    "print(\"Current working directory:\", os.getcwd())"
   ]
  },
  {
   "cell_type": "code",
   "execution_count": 3,
   "id": "1",
   "metadata": {},
   "outputs": [],
   "source": [
    "from archaeo_super_prompt.dataset import MagohDataset, SamplingParams\n",
    "import archaeo_super_prompt.modeling.train as training\n",
    "import archaeo_super_prompt.modeling.predict as infering\n",
    "import mlflow\n",
    "import pandas as pd\n",
    "from archaeo_super_prompt.visualization import mlflow_logging as mmlflow\n",
    "from archaeo_super_prompt import visualization as visualizator\n",
    "from archaeo_super_prompt.config.env import getenv_or_throw\n",
    "from sklearn.pipeline import Pipeline\n",
    "from sklearn import set_config\n",
    "\n",
    "from pathlib import Path\n",
    "from sklearn.base import BaseEstimator, TransformerMixin\n",
    "from archaeo_super_prompt.utils.cache import get_cache_dir_for\n",
    "\n",
    "class LoadScans(BaseEstimator, TransformerMixin):\n",
    "    def __init__(self, cache_csv: Path):\n",
    "        self.cache_csv = Path(cache_csv)\n",
    "    def fit(self, X, y=None):\n",
    "        return self\n",
    "    def transform(self, X):\n",
    "        scans = pd.read_csv(self.cache_csv)\n",
    "        scans = scans.drop_duplicates(subset=[\"id\"])\n",
    "        return X.merge(scans, on=\"id\", how=\"inner\")\n",
    "\n",
    "# cache location\n",
    "CACHE_CSV = get_cache_dir_for(\"interim\", \"miscel\") / \"scans.csv\"\n",
    "SCANS_DF = pd.read_csv(CACHE_CSV)\n"
   ]
  },
  {
   "cell_type": "code",
   "execution_count": 18,
   "id": "2",
   "metadata": {},
   "outputs": [
    {
     "name": "stdout",
     "output_type": "stream",
     "text": [
      "Model store: /raid/ggattiglia/magoh_ai/zecchin_archaeo-extraction-prompt-eval/prompt_enhancing/models/compiled\n"
     ]
    }
   ],
   "source": [
    "EXP_NAME = \"Complete training test\"\n",
    "mlflow.set_tracking_uri(f\"http://{getenv_or_throw('MLFLOW_HOST')}:{getenv_or_throw('MLFLOW_PORT')}\")\n",
    "mlflow.set_experiment(EXP_NAME)\n",
    "mlflow.dspy.autolog(log_compiles=True, log_evals=True, log_traces_from_compile=True)\n",
    "pd.set_option('display.max_columns', None)\n",
    "set_config(display=\"diagram\")\n",
    "\n",
    "from archaeo_super_prompt.utils.cache import get_cache_dir_for\n",
    "store_dir = get_model_store_dir()\n",
    "Path(store_dir).mkdir(parents=True, exist_ok=True)\n",
    "print(\"Model store:\", store_dir)"
   ]
  },
  {
   "cell_type": "code",
   "execution_count": 19,
   "id": "83071939-a5f9-41ce-8e9d-779bda159741",
   "metadata": {},
   "outputs": [
    {
     "name": "stderr",
     "output_type": "stream",
     "text": [
      "2025/09/03 14:01:29 INFO mlflow.tracking.fluent: Experiment with name 'fresh-0773fa' does not exist. Creating a new experiment.\n"
     ]
    },
    {
     "name": "stdout",
     "output_type": "stream",
     "text": [
      "Model store: /raid/ggattiglia/magoh_ai/zecchin_archaeo-extraction-prompt-eval/prompt_enhancing/models/compiled\n"
     ]
    }
   ],
   "source": [
    "# HARD RESET OF CACHES / ARTIFACTS run this when fresh mlflow rerun is needed\n",
    "import os, shutil, pathlib, urllib.parse, uuid\n",
    "import mlflow\n",
    "\n",
    "# wipe compiled DSPy programs used by extractors\n",
    "from archaeo_super_prompt.utils.result import get_model_store_dir\n",
    "shutil.rmtree(get_model_store_dir(), ignore_errors=True)\n",
    "\n",
    "# wipe joblib / skdag caches inside project cache dirs\n",
    "from archaeo_super_prompt.utils.cache import get_cache_dir_for\n",
    "for scope in [\"external\",\"internal\",\"interim\",\"miscel\",\"thesaurus\",\"raw\"]:\n",
    "    try:\n",
    "        base = get_cache_dir_for(scope)\n",
    "    except Exception:\n",
    "        continue\n",
    "    if not base.exists(): \n",
    "        continue\n",
    "    for p in base.rglob(\"*\"):\n",
    "        if p.is_dir() and any(k in p.name for k in (\"joblib\",\"skdag\",\"__joblib_cache__\")):\n",
    "            shutil.rmtree(p, ignore_errors=True)\n",
    "\n",
    "fresh_dir = pathlib.Path.cwd() / f\"mlruns_fresh_{uuid.uuid4().hex[:6]}\"\n",
    "fresh_dir.mkdir(parents=True, exist_ok=True)\n",
    "mlflow.set_tracking_uri(f\"http://{getenv_or_throw('MLFLOW_HOST')}:{getenv_or_throw('MLFLOW_PORT')}\")\n",
    "mlflow.set_experiment(f\"fresh-{uuid.uuid4().hex[:6]}\")\n",
    "mlflow.dspy.autolog(log_compiles=True, log_evals=True, log_traces_from_compile=True)\n",
    "pd.set_option('display.max_columns', None)\n",
    "set_config(display=\"diagram\")\n",
    "\n",
    "store_dir = get_model_store_dir()\n",
    "Path(store_dir).mkdir(parents=True, exist_ok=True)\n",
    "print(\"Model store:\", store_dir)"
   ]
  },
  {
   "cell_type": "code",
   "execution_count": 5,
   "id": "4",
   "metadata": {},
   "outputs": [],
   "source": [
    "from archaeo_super_prompt.dataset import MagohDataset\n",
    "\n",
    "selected_ids = set(map(int, SCANS_DF[\"id\"].dropna().tolist()))\n",
    "ds = MagohDataset(selected_ids)\n",
    "\n",
    "inputs = ds.files.merge(SCANS_DF[[\"id\"]].drop_duplicates(), on=\"id\", how=\"inner\")\n",
    "train_inputs, eval_inputs = inputs.iloc[:10], inputs.iloc[10:]\n"
   ]
  },
  {
   "cell_type": "code",
   "execution_count": 6,
   "id": "a1f349e5",
   "metadata": {},
   "outputs": [],
   "source": [
    "import os, importlib\n",
    "\n",
    "#delete openai in env if present, we have a local model\n",
    "for k in (\"OPENAI_BASE_URL\", \"OPENAI_API_BASE\"):\n",
    "    os.environ.pop(k, None)\n",
    "\n",
    "#should be moved to env\n",
    "os.environ[\"VLLM_SERVER_BASE_URL\"] = \"http://127.0.0.1:8001/v1\"\n",
    "#dspy seems to fall back to openai in case of errors, this is a dummy key\n",
    "os.environ[\"OPENAI_API_KEY\"] = \"sk-local\"\n",
    "\n",
    "from archaeo_super_prompt.modeling.struct_extract import language_model as lm_provider_mod\n",
    "from archaeo_super_prompt.modeling.struct_extract import field_extractor as fe\n",
    "lm_provider_mod = importlib.reload(lm_provider_mod)\n",
    "fe = importlib.reload(fe)\n",
    "\n",
    "import pandas as pd\n",
    "from pathlib import Path\n",
    "from sklearn.base import BaseEstimator, TransformerMixin\n",
    "from archaeo_super_prompt.utils.cache import get_cache_dir_for\n",
    "from archaeo_super_prompt.modeling import pdf_to_text\n",
    "import ast\n",
    "\n",
    "CACHE_CSV = get_cache_dir_for(\"interim\", \"miscel\") / \"scans.csv\"\n",
    "\n",
    "def _as_list(v):\n",
    "    if isinstance(v, list): return v\n",
    "    if pd.isna(v): return []\n",
    "    if isinstance(v, str):\n",
    "        s=v.strip()\n",
    "        if s and s[0] in \"[{(\":\n",
    "            try:\n",
    "                x=ast.literal_eval(s)\n",
    "                return x if isinstance(x, list) else [x]\n",
    "            except Exception:\n",
    "                return [v]\n",
    "        return [v]\n",
    "    return [v]\n",
    "\n",
    "def _as_str_list(v):\n",
    "    return [str(x) for x in _as_list(v)]\n",
    "\n",
    "def _as_int_list(v):\n",
    "    out=[]\n",
    "    for x in _as_list(v):\n",
    "        try:\n",
    "            out.append(int(x))\n",
    "        except Exception:\n",
    "            try:\n",
    "                out.append(int(float(x)))\n",
    "            except Exception:\n",
    "                pass\n",
    "    return out\n",
    "\n",
    "class LoadScans(BaseEstimator, TransformerMixin):\n",
    "    def __init__(self, cache_csv: str | Path):\n",
    "        self.cache_csv = Path(cache_csv)\n",
    "        self._df = None\n",
    "    def fit(self, X, y=None):\n",
    "        df = pd.read_csv(self.cache_csv)\n",
    "        if \"id\" in df.columns:\n",
    "            df[\"id\"] = df[\"id\"].astype(\"int64\").astype(int)\n",
    "        if \"chunk_type\" in df.columns:\n",
    "            df[\"chunk_type\"] = df[\"chunk_type\"].apply(_as_str_list)\n",
    "        if \"chunk_page_position\" in df.columns:\n",
    "            df[\"chunk_page_position\"] = df[\"chunk_page_position\"].apply(_as_int_list)\n",
    "        if \"identified_thesaurus\" in df.columns:\n",
    "            df[\"identified_thesaurus\"] = df[\"identified_thesaurus\"].apply(_as_int_list)\n",
    "        if \"named_entities\" in df.columns:\n",
    "            df[\"named_entities\"] = df[\"named_entities\"].apply(_as_list)\n",
    "        self._df = df\n",
    "        return self\n",
    "    def transform(self, X):\n",
    "        X = X.copy()\n",
    "        if \"id\" in X.columns:\n",
    "            X[\"id\"] = X[\"id\"].astype(int)\n",
    "        return X.merge(self._df, on=\"id\", how=\"inner\")\n",
    "\n",
    "# replace vision lm with preprocessed scans\n",
    "pdf_to_text.VLLM_Preprocessing = lambda **kw: LoadScans(CACHE_CSV)\n",
    "\n",
    "training = importlib.reload(training)"
   ]
  },
  {
   "cell_type": "code",
   "execution_count": 7,
   "id": "ce5cf3d2-d92d-4b08-a938-5d7a55c39b86",
   "metadata": {
    "scrolled": true
   },
   "outputs": [
    {
     "data": {
      "image/jpeg": "[encoded data removed]",
      "image/png": "[encoded data removed]",
      "image/svg+xml": [
       "<?xml version=\"1.0\" encoding=\"UTF-8\" standalone=\"no\"?>\n",
       "<!DOCTYPE svg PUBLIC \"-//W3C//DTD SVG 1.1//EN\"\n",
       " \"http://www.w3.org/Graphics/SVG/1.1/DTD/svg11.dtd\">\n",
       "<!-- Generated by graphviz version 13.1.2 (20250809.0930)\n",
       " -->\n",
       "<!-- Pages: 1 -->\n",
       "<svg width=\"1619pt\" height=\"152pt\"\n",
       " viewBox=\"0.00 0.00 1619.00 152.00\" xmlns=\"http://www.w3.org/2000/svg\" xmlns:xlink=\"http://www.w3.org/1999/xlink\">\n",
       "<g id=\"graph0\" class=\"graph\" transform=\"scale(1 1) rotate(0) translate(4 148)\">\n",
       "<polygon fill=\"white\" stroke=\"none\" points=\"-4,4 -4,-148 1614.71,-148 1614.71,4 -4,4\"/>\n",
       "<!-- vision&#45;lm&#45;Reader -->\n",
       "<g id=\"node1\" class=\"node\">\n",
       "<title>vision&#45;lm&#45;Reader</title>\n",
       "<g id=\"a_node1\"><a xlink:title=\"LoadScans(cache_csv=PosixPath(&#39;/raid/ggattiglia/magoh_ai/zecchin_archaeo&#45;extraction&#45;prompt&#45;eval/prompt_enhancing/data/interim/miscel/scans.csv&#39;))\">\n",
       "<polygon fill=\"none\" stroke=\"black\" points=\"133,-74 0,-74 0,-38 133,-38 133,-74\"/>\n",
       "<text xml:space=\"preserve\" text-anchor=\"middle\" x=\"66.5\" y=\"-51.33\" font-family=\"SANS\" font-size=\"14.00\">vision&#45;lm&#45;Reader</text>\n",
       "</a>\n",
       "</g>\n",
       "</g>\n",
       "<!-- NER&#45;Extractor -->\n",
       "<g id=\"node2\" class=\"node\">\n",
       "<title>NER&#45;Extractor</title>\n",
       "<g id=\"a_node2\"><a xlink:title=\"NerModel()\">\n",
       "<polygon fill=\"none\" stroke=\"black\" points=\"282.5,-120 169,-120 169,-84 282.5,-84 282.5,-120\"/>\n",
       "<text xml:space=\"preserve\" text-anchor=\"middle\" x=\"225.75\" y=\"-97.33\" font-family=\"SANS\" font-size=\"14.00\">NER&#45;Extractor</text>\n",
       "</a>\n",
       "</g>\n",
       "</g>\n",
       "<!-- vision&#45;lm&#45;Reader&#45;&gt;NER&#45;Extractor -->\n",
       "<g id=\"edge1\" class=\"edge\">\n",
       "<title>vision&#45;lm&#45;Reader&#45;&gt;NER&#45;Extractor</title>\n",
       "<path fill=\"none\" stroke=\"black\" d=\"M130.55,-74.44C139.48,-77.06 148.69,-79.75 157.69,-82.38\"/>\n",
       "<polygon fill=\"black\" stroke=\"black\" points=\"156.51,-85.68 167.09,-85.13 158.47,-78.96 156.51,-85.68\"/>\n",
       "</g>\n",
       "<!-- ner&#45;featured -->\n",
       "<g id=\"node3\" class=\"node\">\n",
       "<title>ner&#45;featured</title>\n",
       "<g id=\"a_node3\"><a xlink:title=\"&#39;passthrough&#39;\">\n",
       "<polygon fill=\"none\" stroke=\"black\" points=\"482.93,-87 441.82,-105 359.61,-105 318.5,-87 359.61,-69 441.82,-69 482.93,-87\"/>\n",
       "<text xml:space=\"preserve\" text-anchor=\"middle\" x=\"400.72\" y=\"-82.33\" font-family=\"SANS\" font-size=\"14.00\">ner&#45;featured</text>\n",
       "</a>\n",
       "</g>\n",
       "</g>\n",
       "<!-- vision&#45;lm&#45;Reader&#45;&gt;ner&#45;featured -->\n",
       "<g id=\"edge2\" class=\"edge\">\n",
       "<title>vision&#45;lm&#45;Reader&#45;&gt;ner&#45;featured</title>\n",
       "<path fill=\"none\" stroke=\"black\" d=\"M133.39,-61.58C175.95,-65.25 232.52,-70.23 282.5,-75 295.26,-76.22 308.79,-77.56 321.96,-78.89\"/>\n",
       "<polygon fill=\"black\" stroke=\"black\" points=\"321.59,-82.37 331.9,-79.9 322.3,-75.4 321.59,-82.37\"/>\n",
       "</g>\n",
       "<!-- archiving&#45;date&#45;Oracle -->\n",
       "<g id=\"node4\" class=\"node\">\n",
       "<title>archiving&#45;date&#45;Oracle</title>\n",
       "<g id=\"a_node4\"><a xlink:title=\"ArchivingDateProvider()\">\n",
       "<ellipse fill=\"none\" stroke=\"black\" cx=\"788.63\" cy=\"-18\" rx=\"116.45\" ry=\"18\"/>\n",
       "<text xml:space=\"preserve\" text-anchor=\"middle\" x=\"788.63\" y=\"-13.32\" font-family=\"SANS\" font-size=\"14.00\">archiving&#45;date&#45;Oracle</text>\n",
       "</a>\n",
       "</g>\n",
       "</g>\n",
       "<!-- vision&#45;lm&#45;Reader&#45;&gt;archiving&#45;date&#45;Oracle -->\n",
       "<g id=\"edge3\" class=\"edge\">\n",
       "<title>vision&#45;lm&#45;Reader&#45;&gt;archiving&#45;date&#45;Oracle</title>\n",
       "<path fill=\"none\" stroke=\"black\" d=\"M133.32,-52.53C254.16,-46.15 513.06,-32.49 666.48,-24.39\"/>\n",
       "<polygon fill=\"black\" stroke=\"black\" points=\"666.49,-27.9 676.29,-23.88 666.12,-20.91 666.49,-27.9\"/>\n",
       "</g>\n",
       "<!-- NER&#45;Extractor&#45;&gt;ner&#45;featured -->\n",
       "<g id=\"edge4\" class=\"edge\">\n",
       "<title>NER&#45;Extractor&#45;&gt;ner&#45;featured</title>\n",
       "<path fill=\"none\" stroke=\"black\" d=\"M282.91,-97.13C294.69,-96.11 307.33,-95.01 319.79,-93.93\"/>\n",
       "<polygon fill=\"black\" stroke=\"black\" points=\"319.98,-97.43 329.64,-93.08 319.38,-90.45 319.98,-97.43\"/>\n",
       "</g>\n",
       "<!-- comune&#45;CF -->\n",
       "<g id=\"node5\" class=\"node\">\n",
       "<title>comune&#45;CF</title>\n",
       "<g id=\"a_node5\"><a xlink:title=\"NeSelector(compatible_entities={&#39;LUOGO&#39;, &#39;CODICE_POSTALE&#39;, &#39;INDIRIZZO&#39;},&#10; &#160;&#160;&#160;&#160;&#160;&#160;&#160;&#160;&#160;&#160;field_name=&#39;comune&#39;,&#10; &#160;&#160;&#160;&#160;&#160;&#160;&#160;&#160;&#160;&#160;wanted_matches=&lt;function load_comune at 0x7fecdd5ec4a0&gt;)\">\n",
       "<polygon fill=\"none\" stroke=\"black\" points=\"624.93,-144 530.18,-144 530.18,-108 624.93,-108 624.93,-144\"/>\n",
       "<text xml:space=\"preserve\" text-anchor=\"middle\" x=\"577.56\" y=\"-121.33\" font-family=\"SANS\" font-size=\"14.00\">comune&#45;CF</text>\n",
       "</a>\n",
       "</g>\n",
       "</g>\n",
       "<!-- ner&#45;featured&#45;&gt;comune&#45;CF -->\n",
       "<g id=\"edge5\" class=\"edge\">\n",
       "<title>ner&#45;featured&#45;&gt;comune&#45;CF</title>\n",
       "<path fill=\"none\" stroke=\"black\" d=\"M456.08,-99.13C476.04,-103.58 498.7,-108.63 518.93,-113.15\"/>\n",
       "<polygon fill=\"black\" stroke=\"black\" points=\"517.9,-116.5 528.42,-115.26 519.42,-109.67 517.9,-116.5\"/>\n",
       "</g>\n",
       "<!-- interv&#45;start&#45;CF -->\n",
       "<g id=\"node6\" class=\"node\">\n",
       "<title>interv&#45;start&#45;CF</title>\n",
       "<g id=\"a_node6\"><a xlink:title=\"NeSelector(compatible_entities={&#39;DATA&#39;}, field_name=&#39;data&#39;,&#10; &#160;&#160;&#160;&#160;&#160;&#160;&#160;&#160;&#160;&#160;keep_chunks_without_identified_values=True,&#10; &#160;&#160;&#160;&#160;&#160;&#160;&#160;&#160;&#160;&#160;wanted_matches=&lt;function get_training_dag.&lt;locals&gt;.&lt;lambda&gt; at 0x7fecdd5ec180&gt;)\">\n",
       "<polygon fill=\"none\" stroke=\"black\" points=\"636.18,-90 518.93,-90 518.93,-54 636.18,-54 636.18,-90\"/>\n",
       "<text xml:space=\"preserve\" text-anchor=\"middle\" x=\"577.56\" y=\"-67.33\" font-family=\"SANS\" font-size=\"14.00\">interv&#45;start&#45;CF</text>\n",
       "</a>\n",
       "</g>\n",
       "</g>\n",
       "<!-- ner&#45;featured&#45;&gt;interv&#45;start&#45;CF -->\n",
       "<g id=\"edge6\" class=\"edge\">\n",
       "<title>ner&#45;featured&#45;&gt;interv&#45;start&#45;CF</title>\n",
       "<path fill=\"none\" stroke=\"black\" d=\"M470.57,-81.09C482.59,-80.06 495.1,-78.99 507.14,-77.96\"/>\n",
       "<polygon fill=\"black\" stroke=\"black\" points=\"507.33,-81.45 516.99,-77.11 506.73,-74.48 507.33,-81.45\"/>\n",
       "</g>\n",
       "<!-- interv&#45;start&#45;entrypoint -->\n",
       "<g id=\"node7\" class=\"node\">\n",
       "<title>interv&#45;start&#45;entrypoint</title>\n",
       "<g id=\"a_node7\"><a xlink:title=\"&#39;passthrough&#39;\">\n",
       "<polygon fill=\"none\" stroke=\"black\" points=\"1218.5,-70 1149.14,-88 1010.43,-88 941.07,-70 1010.43,-52 1149.14,-52 1218.5,-70\"/>\n",
       "<text xml:space=\"preserve\" text-anchor=\"middle\" x=\"1079.79\" y=\"-65.33\" font-family=\"SANS\" font-size=\"14.00\">interv&#45;start&#45;entrypoint</text>\n",
       "</a>\n",
       "</g>\n",
       "</g>\n",
       "<!-- archiving&#45;date&#45;Oracle&#45;&gt;interv&#45;start&#45;entrypoint -->\n",
       "<g id=\"edge7\" class=\"edge\">\n",
       "<title>archiving&#45;date&#45;Oracle&#45;&gt;interv&#45;start&#45;entrypoint</title>\n",
       "<path fill=\"none\" stroke=\"black\" d=\"M866.36,-31.8C902.83,-38.36 946.75,-46.26 985.17,-53.16\"/>\n",
       "<polygon fill=\"black\" stroke=\"black\" points=\"984.42,-56.59 994.88,-54.91 985.66,-49.7 984.42,-56.59\"/>\n",
       "</g>\n",
       "<!-- FINAL -->\n",
       "<g id=\"node8\" class=\"node\">\n",
       "<title>FINAL</title>\n",
       "<g id=\"a_node8\"><a xlink:title=\"&#39;passthrough&#39;\">\n",
       "<polygon fill=\"none\" stroke=\"black\" points=\"1610.71,-70 1587.83,-88 1542.06,-88 1519.18,-70 1542.06,-52 1587.83,-52 1610.71,-70\"/>\n",
       "<text xml:space=\"preserve\" text-anchor=\"middle\" x=\"1564.95\" y=\"-65.33\" font-family=\"SANS\" font-size=\"14.00\">FINAL</text>\n",
       "</a>\n",
       "</g>\n",
       "</g>\n",
       "<!-- archiving&#45;date&#45;Oracle&#45;&gt;FINAL -->\n",
       "<g id=\"edge8\" class=\"edge\">\n",
       "<title>archiving&#45;date&#45;Oracle&#45;&gt;FINAL</title>\n",
       "<path fill=\"none\" stroke=\"black\" d=\"M899.68,-12.34C1037.34,-7.45 1279.71,-6.12 1483.18,-43 1496.57,-45.43 1510.77,-49.6 1523.47,-53.95\"/>\n",
       "<polygon fill=\"black\" stroke=\"black\" points=\"1522.17,-57.2 1532.76,-57.27 1524.52,-50.61 1522.17,-57.2\"/>\n",
       "</g>\n",
       "<!-- comune&#45;CM -->\n",
       "<g id=\"node9\" class=\"node\">\n",
       "<title>comune&#45;CM</title>\n",
       "<g id=\"a_node9\"><a xlink:title=\"FunctionTransformer(func=&lt;function ChunksToText.&lt;locals&gt;.ChunksToPromptContent at 0x7feb4ca625c0&gt;)\">\n",
       "<polygon fill=\"none\" stroke=\"black\" points=\"837.88,-144 739.38,-144 739.38,-108 837.88,-108 837.88,-144\"/>\n",
       "<text xml:space=\"preserve\" text-anchor=\"middle\" x=\"788.63\" y=\"-121.33\" font-family=\"SANS\" font-size=\"14.00\">comune&#45;CM</text>\n",
       "</a>\n",
       "</g>\n",
       "</g>\n",
       "<!-- comune&#45;CF&#45;&gt;comune&#45;CM -->\n",
       "<g id=\"edge9\" class=\"edge\">\n",
       "<title>comune&#45;CF&#45;&gt;comune&#45;CM</title>\n",
       "<path fill=\"none\" stroke=\"black\" d=\"M625.22,-126C655.47,-126 695.16,-126 727.73,-126\"/>\n",
       "<polygon fill=\"black\" stroke=\"black\" points=\"727.42,-129.5 737.42,-126 727.42,-122.5 727.42,-129.5\"/>\n",
       "</g>\n",
       "<!-- interv&#45;start&#45;CM -->\n",
       "<g id=\"node10\" class=\"node\">\n",
       "<title>interv&#45;start&#45;CM</title>\n",
       "<g id=\"a_node10\"><a xlink:title=\"FunctionTransformer(func=&lt;function ChunksToText.&lt;locals&gt;.ChunksToPromptContent at 0x7feb4ca62020&gt;)\">\n",
       "<polygon fill=\"none\" stroke=\"black\" points=\"849.13,-90 728.13,-90 728.13,-54 849.13,-54 849.13,-90\"/>\n",
       "<text xml:space=\"preserve\" text-anchor=\"middle\" x=\"788.63\" y=\"-67.33\" font-family=\"SANS\" font-size=\"14.00\">interv&#45;start&#45;CM</text>\n",
       "</a>\n",
       "</g>\n",
       "</g>\n",
       "<!-- interv&#45;start&#45;CF&#45;&gt;interv&#45;start&#45;CM -->\n",
       "<g id=\"edge10\" class=\"edge\">\n",
       "<title>interv&#45;start&#45;CF&#45;&gt;interv&#45;start&#45;CM</title>\n",
       "<path fill=\"none\" stroke=\"black\" d=\"M636.52,-72C661.26,-72 690.37,-72 716.4,-72\"/>\n",
       "<polygon fill=\"black\" stroke=\"black\" points=\"716.22,-75.5 726.22,-72 716.22,-68.5 716.22,-75.5\"/>\n",
       "</g>\n",
       "<!-- interv&#45;start&#45;Extractor -->\n",
       "<g id=\"node11\" class=\"node\">\n",
       "<title>interv&#45;start&#45;Extractor</title>\n",
       "<g id=\"a_node11\"><a xlink:title=\"InterventionStartExtractor(llm_model_id=&#39;google/gemma&#45;3&#45;27b&#45;it&#39;,&#10; &#160;&#160;&#160;&#160;&#160;&#160;&#160;&#160;&#160;&#160;&#160;&#160;&#160;&#160;&#160;&#160;&#160;&#160;&#160;&#160;&#160;&#160;&#160;&#160;&#160;&#160;llm_model_provider=&#39;vllm&#39;, llm_temperature=0.05)\">\n",
       "<ellipse fill=\"none\" stroke=\"black\" cx=\"1368.84\" cy=\"-70\" rx=\"114.34\" ry=\"18\"/>\n",
       "<text xml:space=\"preserve\" text-anchor=\"middle\" x=\"1368.84\" y=\"-65.33\" font-family=\"SANS\" font-size=\"14.00\">interv&#45;start&#45;Extractor</text>\n",
       "</a>\n",
       "</g>\n",
       "</g>\n",
       "<!-- interv&#45;start&#45;entrypoint&#45;&gt;interv&#45;start&#45;Extractor -->\n",
       "<g id=\"edge11\" class=\"edge\">\n",
       "<title>interv&#45;start&#45;entrypoint&#45;&gt;interv&#45;start&#45;Extractor</title>\n",
       "<path fill=\"none\" stroke=\"black\" d=\"M1220.11,-70C1227.7,-70 1235.3,-70 1242.84,-70\"/>\n",
       "<polygon fill=\"black\" stroke=\"black\" points=\"1242.69,-73.5 1252.69,-70 1242.69,-66.5 1242.69,-73.5\"/>\n",
       "</g>\n",
       "<!-- comune&#45;Extractor -->\n",
       "<g id=\"node12\" class=\"node\">\n",
       "<title>comune&#45;Extractor</title>\n",
       "<g id=\"a_node12\"><a xlink:title=\"ComuneExtractor(llm_model_id=&#39;google/gemma&#45;3&#45;27b&#45;it&#39;, llm_model_provider=&#39;vllm&#39;,&#10; &#160;&#160;&#160;&#160;&#160;&#160;&#160;&#160;&#160;&#160;&#160;&#160;&#160;&#160;&#160;llm_temperature=0.05)\">\n",
       "<ellipse fill=\"none\" stroke=\"black\" cx=\"1368.84\" cy=\"-124\" rx=\"98.56\" ry=\"18\"/>\n",
       "<text xml:space=\"preserve\" text-anchor=\"middle\" x=\"1368.84\" y=\"-119.33\" font-family=\"SANS\" font-size=\"14.00\">comune&#45;Extractor</text>\n",
       "</a>\n",
       "</g>\n",
       "</g>\n",
       "<!-- comune&#45;CM&#45;&gt;comune&#45;Extractor -->\n",
       "<g id=\"edge12\" class=\"edge\">\n",
       "<title>comune&#45;CM&#45;&gt;comune&#45;Extractor</title>\n",
       "<path fill=\"none\" stroke=\"black\" d=\"M837.93,-125.83C929.95,-125.51 1132.44,-124.81 1258.76,-124.38\"/>\n",
       "<polygon fill=\"black\" stroke=\"black\" points=\"1258.48,-127.88 1268.47,-124.34 1258.46,-120.88 1258.48,-127.88\"/>\n",
       "</g>\n",
       "<!-- interv&#45;start&#45;CM&#45;&gt;interv&#45;start&#45;entrypoint -->\n",
       "<g id=\"edge13\" class=\"edge\">\n",
       "<title>interv&#45;start&#45;CM&#45;&gt;interv&#45;start&#45;entrypoint</title>\n",
       "<path fill=\"none\" stroke=\"black\" d=\"M849.54,-71.59C873.67,-71.42 902.66,-71.22 931.78,-71.02\"/>\n",
       "<polygon fill=\"black\" stroke=\"black\" points=\"931.44,-74.52 941.42,-70.95 931.4,-67.52 931.44,-74.52\"/>\n",
       "</g>\n",
       "<!-- interv&#45;start&#45;Extractor&#45;&gt;FINAL -->\n",
       "<g id=\"edge14\" class=\"edge\">\n",
       "<title>interv&#45;start&#45;Extractor&#45;&gt;FINAL</title>\n",
       "<path fill=\"none\" stroke=\"black\" d=\"M1483.59,-70C1491.63,-70 1499.51,-70 1507,-70\"/>\n",
       "<polygon fill=\"black\" stroke=\"black\" points=\"1506.91,-73.5 1516.91,-70 1506.91,-66.5 1506.91,-73.5\"/>\n",
       "</g>\n",
       "<!-- comune&#45;Extractor&#45;&gt;FINAL -->\n",
       "<g id=\"edge15\" class=\"edge\">\n",
       "<title>comune&#45;Extractor&#45;&gt;FINAL</title>\n",
       "<path fill=\"none\" stroke=\"black\" d=\"M1433.05,-109.99C1449.45,-106.07 1467.04,-101.61 1483.18,-97 1495.94,-93.36 1509.67,-88.95 1522.13,-84.76\"/>\n",
       "<polygon fill=\"black\" stroke=\"black\" points=\"1522.93,-88.19 1531.26,-81.65 1520.67,-81.56 1522.93,-88.19\"/>\n",
       "</g>\n",
       "</g>\n",
       "</svg>\n"
      ],
      "text/html": [
       "<?xml version=\"1.0\" encoding=\"UTF-8\" standalone=\"no\"?>\n",
       "<!DOCTYPE svg PUBLIC \"-//W3C//DTD SVG 1.1//EN\"\n",
       " \"http://www.w3.org/Graphics/SVG/1.1/DTD/svg11.dtd\">\n",
       "<!-- Generated by graphviz version 13.1.2 (20250809.0930)\n",
       " -->\n",
       "<!-- Pages: 1 -->\n",
       "<svg width=\"1619pt\" height=\"152pt\"\n",
       " viewBox=\"0.00 0.00 1619.00 152.00\" xmlns=\"http://www.w3.org/2000/svg\" xmlns:xlink=\"http://www.w3.org/1999/xlink\">\n",
       "<g id=\"graph0\" class=\"graph\" transform=\"scale(1 1) rotate(0) translate(4 148)\">\n",
       "<polygon fill=\"white\" stroke=\"none\" points=\"-4,4 -4,-148 1614.71,-148 1614.71,4 -4,4\"/>\n",
       "<!-- vision&#45;lm&#45;Reader -->\n",
       "<g id=\"node1\" class=\"node\">\n",
       "<title>vision&#45;lm&#45;Reader</title>\n",
       "<g id=\"a_node1\"><a xlink:title=\"LoadScans(cache_csv=PosixPath(&#39;/raid/ggattiglia/magoh_ai/zecchin_archaeo&#45;extraction&#45;prompt&#45;eval/prompt_enhancing/data/interim/miscel/scans.csv&#39;))\">\n",
       "<polygon fill=\"none\" stroke=\"black\" points=\"133,-74 0,-74 0,-38 133,-38 133,-74\"/>\n",
       "<text xml:space=\"preserve\" text-anchor=\"middle\" x=\"66.5\" y=\"-51.33\" font-family=\"SANS\" font-size=\"14.00\">vision&#45;lm&#45;Reader</text>\n",
       "</a>\n",
       "</g>\n",
       "</g>\n",
       "<!-- NER&#45;Extractor -->\n",
       "<g id=\"node2\" class=\"node\">\n",
       "<title>NER&#45;Extractor</title>\n",
       "<g id=\"a_node2\"><a xlink:title=\"NerModel()\">\n",
       "<polygon fill=\"none\" stroke=\"black\" points=\"282.5,-120 169,-120 169,-84 282.5,-84 282.5,-120\"/>\n",
       "<text xml:space=\"preserve\" text-anchor=\"middle\" x=\"225.75\" y=\"-97.33\" font-family=\"SANS\" font-size=\"14.00\">NER&#45;Extractor</text>\n",
       "</a>\n",
       "</g>\n",
       "</g>\n",
       "<!-- vision&#45;lm&#45;Reader&#45;&gt;NER&#45;Extractor -->\n",
       "<g id=\"edge1\" class=\"edge\">\n",
       "<title>vision&#45;lm&#45;Reader&#45;&gt;NER&#45;Extractor</title>\n",
       "<path fill=\"none\" stroke=\"black\" d=\"M130.55,-74.44C139.48,-77.06 148.69,-79.75 157.69,-82.38\"/>\n",
       "<polygon fill=\"black\" stroke=\"black\" points=\"156.51,-85.68 167.09,-85.13 158.47,-78.96 156.51,-85.68\"/>\n",
       "</g>\n",
       "<!-- ner&#45;featured -->\n",
       "<g id=\"node3\" class=\"node\">\n",
       "<title>ner&#45;featured</title>\n",
       "<g id=\"a_node3\"><a xlink:title=\"&#39;passthrough&#39;\">\n",
       "<polygon fill=\"none\" stroke=\"black\" points=\"482.93,-87 441.82,-105 359.61,-105 318.5,-87 359.61,-69 441.82,-69 482.93,-87\"/>\n",
       "<text xml:space=\"preserve\" text-anchor=\"middle\" x=\"400.72\" y=\"-82.33\" font-family=\"SANS\" font-size=\"14.00\">ner&#45;featured</text>\n",
       "</a>\n",
       "</g>\n",
       "</g>\n",
       "<!-- vision&#45;lm&#45;Reader&#45;&gt;ner&#45;featured -->\n",
       "<g id=\"edge2\" class=\"edge\">\n",
       "<title>vision&#45;lm&#45;Reader&#45;&gt;ner&#45;featured</title>\n",
       "<path fill=\"none\" stroke=\"black\" d=\"M133.39,-61.58C175.95,-65.25 232.52,-70.23 282.5,-75 295.26,-76.22 308.79,-77.56 321.96,-78.89\"/>\n",
       "<polygon fill=\"black\" stroke=\"black\" points=\"321.59,-82.37 331.9,-79.9 322.3,-75.4 321.59,-82.37\"/>\n",
       "</g>\n",
       "<!-- archiving&#45;date&#45;Oracle -->\n",
       "<g id=\"node4\" class=\"node\">\n",
       "<title>archiving&#45;date&#45;Oracle</title>\n",
       "<g id=\"a_node4\"><a xlink:title=\"ArchivingDateProvider()\">\n",
       "<ellipse fill=\"none\" stroke=\"black\" cx=\"788.63\" cy=\"-18\" rx=\"116.45\" ry=\"18\"/>\n",
       "<text xml:space=\"preserve\" text-anchor=\"middle\" x=\"788.63\" y=\"-13.32\" font-family=\"SANS\" font-size=\"14.00\">archiving&#45;date&#45;Oracle</text>\n",
       "</a>\n",
       "</g>\n",
       "</g>\n",
       "<!-- vision&#45;lm&#45;Reader&#45;&gt;archiving&#45;date&#45;Oracle -->\n",
       "<g id=\"edge3\" class=\"edge\">\n",
       "<title>vision&#45;lm&#45;Reader&#45;&gt;archiving&#45;date&#45;Oracle</title>\n",
       "<path fill=\"none\" stroke=\"black\" d=\"M133.32,-52.53C254.16,-46.15 513.06,-32.49 666.48,-24.39\"/>\n",
       "<polygon fill=\"black\" stroke=\"black\" points=\"666.49,-27.9 676.29,-23.88 666.12,-20.91 666.49,-27.9\"/>\n",
       "</g>\n",
       "<!-- NER&#45;Extractor&#45;&gt;ner&#45;featured -->\n",
       "<g id=\"edge4\" class=\"edge\">\n",
       "<title>NER&#45;Extractor&#45;&gt;ner&#45;featured</title>\n",
       "<path fill=\"none\" stroke=\"black\" d=\"M282.91,-97.13C294.69,-96.11 307.33,-95.01 319.79,-93.93\"/>\n",
       "<polygon fill=\"black\" stroke=\"black\" points=\"319.98,-97.43 329.64,-93.08 319.38,-90.45 319.98,-97.43\"/>\n",
       "</g>\n",
       "<!-- comune&#45;CF -->\n",
       "<g id=\"node5\" class=\"node\">\n",
       "<title>comune&#45;CF</title>\n",
       "<g id=\"a_node5\"><a xlink:title=\"NeSelector(compatible_entities={&#39;LUOGO&#39;, &#39;CODICE_POSTALE&#39;, &#39;INDIRIZZO&#39;},&#10; &#160;&#160;&#160;&#160;&#160;&#160;&#160;&#160;&#160;&#160;field_name=&#39;comune&#39;,&#10; &#160;&#160;&#160;&#160;&#160;&#160;&#160;&#160;&#160;&#160;wanted_matches=&lt;function load_comune at 0x7fecdd5ec4a0&gt;)\">\n",
       "<polygon fill=\"none\" stroke=\"black\" points=\"624.93,-144 530.18,-144 530.18,-108 624.93,-108 624.93,-144\"/>\n",
       "<text xml:space=\"preserve\" text-anchor=\"middle\" x=\"577.56\" y=\"-121.33\" font-family=\"SANS\" font-size=\"14.00\">comune&#45;CF</text>\n",
       "</a>\n",
       "</g>\n",
       "</g>\n",
       "<!-- ner&#45;featured&#45;&gt;comune&#45;CF -->\n",
       "<g id=\"edge5\" class=\"edge\">\n",
       "<title>ner&#45;featured&#45;&gt;comune&#45;CF</title>\n",
       "<path fill=\"none\" stroke=\"black\" d=\"M456.08,-99.13C476.04,-103.58 498.7,-108.63 518.93,-113.15\"/>\n",
       "<polygon fill=\"black\" stroke=\"black\" points=\"517.9,-116.5 528.42,-115.26 519.42,-109.67 517.9,-116.5\"/>\n",
       "</g>\n",
       "<!-- interv&#45;start&#45;CF -->\n",
       "<g id=\"node6\" class=\"node\">\n",
       "<title>interv&#45;start&#45;CF</title>\n",
       "<g id=\"a_node6\"><a xlink:title=\"NeSelector(compatible_entities={&#39;DATA&#39;}, field_name=&#39;data&#39;,&#10; &#160;&#160;&#160;&#160;&#160;&#160;&#160;&#160;&#160;&#160;keep_chunks_without_identified_values=True,&#10; &#160;&#160;&#160;&#160;&#160;&#160;&#160;&#160;&#160;&#160;wanted_matches=&lt;function get_training_dag.&lt;locals&gt;.&lt;lambda&gt; at 0x7fecdd5ec180&gt;)\">\n",
       "<polygon fill=\"none\" stroke=\"black\" points=\"636.18,-90 518.93,-90 518.93,-54 636.18,-54 636.18,-90\"/>\n",
       "<text xml:space=\"preserve\" text-anchor=\"middle\" x=\"577.56\" y=\"-67.33\" font-family=\"SANS\" font-size=\"14.00\">interv&#45;start&#45;CF</text>\n",
       "</a>\n",
       "</g>\n",
       "</g>\n",
       "<!-- ner&#45;featured&#45;&gt;interv&#45;start&#45;CF -->\n",
       "<g id=\"edge6\" class=\"edge\">\n",
       "<title>ner&#45;featured&#45;&gt;interv&#45;start&#45;CF</title>\n",
       "<path fill=\"none\" stroke=\"black\" d=\"M470.57,-81.09C482.59,-80.06 495.1,-78.99 507.14,-77.96\"/>\n",
       "<polygon fill=\"black\" stroke=\"black\" points=\"507.33,-81.45 516.99,-77.11 506.73,-74.48 507.33,-81.45\"/>\n",
       "</g>\n",
       "<!-- interv&#45;start&#45;entrypoint -->\n",
       "<g id=\"node7\" class=\"node\">\n",
       "<title>interv&#45;start&#45;entrypoint</title>\n",
       "<g id=\"a_node7\"><a xlink:title=\"&#39;passthrough&#39;\">\n",
       "<polygon fill=\"none\" stroke=\"black\" points=\"1218.5,-70 1149.14,-88 1010.43,-88 941.07,-70 1010.43,-52 1149.14,-52 1218.5,-70\"/>\n",
       "<text xml:space=\"preserve\" text-anchor=\"middle\" x=\"1079.79\" y=\"-65.33\" font-family=\"SANS\" font-size=\"14.00\">interv&#45;start&#45;entrypoint</text>\n",
       "</a>\n",
       "</g>\n",
       "</g>\n",
       "<!-- archiving&#45;date&#45;Oracle&#45;&gt;interv&#45;start&#45;entrypoint -->\n",
       "<g id=\"edge7\" class=\"edge\">\n",
       "<title>archiving&#45;date&#45;Oracle&#45;&gt;interv&#45;start&#45;entrypoint</title>\n",
       "<path fill=\"none\" stroke=\"black\" d=\"M866.36,-31.8C902.83,-38.36 946.75,-46.26 985.17,-53.16\"/>\n",
       "<polygon fill=\"black\" stroke=\"black\" points=\"984.42,-56.59 994.88,-54.91 985.66,-49.7 984.42,-56.59\"/>\n",
       "</g>\n",
       "<!-- FINAL -->\n",
       "<g id=\"node8\" class=\"node\">\n",
       "<title>FINAL</title>\n",
       "<g id=\"a_node8\"><a xlink:title=\"&#39;passthrough&#39;\">\n",
       "<polygon fill=\"none\" stroke=\"black\" points=\"1610.71,-70 1587.83,-88 1542.06,-88 1519.18,-70 1542.06,-52 1587.83,-52 1610.71,-70\"/>\n",
       "<text xml:space=\"preserve\" text-anchor=\"middle\" x=\"1564.95\" y=\"-65.33\" font-family=\"SANS\" font-size=\"14.00\">FINAL</text>\n",
       "</a>\n",
       "</g>\n",
       "</g>\n",
       "<!-- archiving&#45;date&#45;Oracle&#45;&gt;FINAL -->\n",
       "<g id=\"edge8\" class=\"edge\">\n",
       "<title>archiving&#45;date&#45;Oracle&#45;&gt;FINAL</title>\n",
       "<path fill=\"none\" stroke=\"black\" d=\"M899.68,-12.34C1037.34,-7.45 1279.71,-6.12 1483.18,-43 1496.57,-45.43 1510.77,-49.6 1523.47,-53.95\"/>\n",
       "<polygon fill=\"black\" stroke=\"black\" points=\"1522.17,-57.2 1532.76,-57.27 1524.52,-50.61 1522.17,-57.2\"/>\n",
       "</g>\n",
       "<!-- comune&#45;CM -->\n",
       "<g id=\"node9\" class=\"node\">\n",
       "<title>comune&#45;CM</title>\n",
       "<g id=\"a_node9\"><a xlink:title=\"FunctionTransformer(func=&lt;function ChunksToText.&lt;locals&gt;.ChunksToPromptContent at 0x7feb4ca625c0&gt;)\">\n",
       "<polygon fill=\"none\" stroke=\"black\" points=\"837.88,-144 739.38,-144 739.38,-108 837.88,-108 837.88,-144\"/>\n",
       "<text xml:space=\"preserve\" text-anchor=\"middle\" x=\"788.63\" y=\"-121.33\" font-family=\"SANS\" font-size=\"14.00\">comune&#45;CM</text>\n",
       "</a>\n",
       "</g>\n",
       "</g>\n",
       "<!-- comune&#45;CF&#45;&gt;comune&#45;CM -->\n",
       "<g id=\"edge9\" class=\"edge\">\n",
       "<title>comune&#45;CF&#45;&gt;comune&#45;CM</title>\n",
       "<path fill=\"none\" stroke=\"black\" d=\"M625.22,-126C655.47,-126 695.16,-126 727.73,-126\"/>\n",
       "<polygon fill=\"black\" stroke=\"black\" points=\"727.42,-129.5 737.42,-126 727.42,-122.5 727.42,-129.5\"/>\n",
       "</g>\n",
       "<!-- interv&#45;start&#45;CM -->\n",
       "<g id=\"node10\" class=\"node\">\n",
       "<title>interv&#45;start&#45;CM</title>\n",
       "<g id=\"a_node10\"><a xlink:title=\"FunctionTransformer(func=&lt;function ChunksToText.&lt;locals&gt;.ChunksToPromptContent at 0x7feb4ca62020&gt;)\">\n",
       "<polygon fill=\"none\" stroke=\"black\" points=\"849.13,-90 728.13,-90 728.13,-54 849.13,-54 849.13,-90\"/>\n",
       "<text xml:space=\"preserve\" text-anchor=\"middle\" x=\"788.63\" y=\"-67.33\" font-family=\"SANS\" font-size=\"14.00\">interv&#45;start&#45;CM</text>\n",
       "</a>\n",
       "</g>\n",
       "</g>\n",
       "<!-- interv&#45;start&#45;CF&#45;&gt;interv&#45;start&#45;CM -->\n",
       "<g id=\"edge10\" class=\"edge\">\n",
       "<title>interv&#45;start&#45;CF&#45;&gt;interv&#45;start&#45;CM</title>\n",
       "<path fill=\"none\" stroke=\"black\" d=\"M636.52,-72C661.26,-72 690.37,-72 716.4,-72\"/>\n",
       "<polygon fill=\"black\" stroke=\"black\" points=\"716.22,-75.5 726.22,-72 716.22,-68.5 716.22,-75.5\"/>\n",
       "</g>\n",
       "<!-- interv&#45;start&#45;Extractor -->\n",
       "<g id=\"node11\" class=\"node\">\n",
       "<title>interv&#45;start&#45;Extractor</title>\n",
       "<g id=\"a_node11\"><a xlink:title=\"InterventionStartExtractor(llm_model_id=&#39;google/gemma&#45;3&#45;27b&#45;it&#39;,&#10; &#160;&#160;&#160;&#160;&#160;&#160;&#160;&#160;&#160;&#160;&#160;&#160;&#160;&#160;&#160;&#160;&#160;&#160;&#160;&#160;&#160;&#160;&#160;&#160;&#160;&#160;llm_model_provider=&#39;vllm&#39;, llm_temperature=0.05)\">\n",
       "<ellipse fill=\"none\" stroke=\"black\" cx=\"1368.84\" cy=\"-70\" rx=\"114.34\" ry=\"18\"/>\n",
       "<text xml:space=\"preserve\" text-anchor=\"middle\" x=\"1368.84\" y=\"-65.33\" font-family=\"SANS\" font-size=\"14.00\">interv&#45;start&#45;Extractor</text>\n",
       "</a>\n",
       "</g>\n",
       "</g>\n",
       "<!-- interv&#45;start&#45;entrypoint&#45;&gt;interv&#45;start&#45;Extractor -->\n",
       "<g id=\"edge11\" class=\"edge\">\n",
       "<title>interv&#45;start&#45;entrypoint&#45;&gt;interv&#45;start&#45;Extractor</title>\n",
       "<path fill=\"none\" stroke=\"black\" d=\"M1220.11,-70C1227.7,-70 1235.3,-70 1242.84,-70\"/>\n",
       "<polygon fill=\"black\" stroke=\"black\" points=\"1242.69,-73.5 1252.69,-70 1242.69,-66.5 1242.69,-73.5\"/>\n",
       "</g>\n",
       "<!-- comune&#45;Extractor -->\n",
       "<g id=\"node12\" class=\"node\">\n",
       "<title>comune&#45;Extractor</title>\n",
       "<g id=\"a_node12\"><a xlink:title=\"ComuneExtractor(llm_model_id=&#39;google/gemma&#45;3&#45;27b&#45;it&#39;, llm_model_provider=&#39;vllm&#39;,&#10; &#160;&#160;&#160;&#160;&#160;&#160;&#160;&#160;&#160;&#160;&#160;&#160;&#160;&#160;&#160;llm_temperature=0.05)\">\n",
       "<ellipse fill=\"none\" stroke=\"black\" cx=\"1368.84\" cy=\"-124\" rx=\"98.56\" ry=\"18\"/>\n",
       "<text xml:space=\"preserve\" text-anchor=\"middle\" x=\"1368.84\" y=\"-119.33\" font-family=\"SANS\" font-size=\"14.00\">comune&#45;Extractor</text>\n",
       "</a>\n",
       "</g>\n",
       "</g>\n",
       "<!-- comune&#45;CM&#45;&gt;comune&#45;Extractor -->\n",
       "<g id=\"edge12\" class=\"edge\">\n",
       "<title>comune&#45;CM&#45;&gt;comune&#45;Extractor</title>\n",
       "<path fill=\"none\" stroke=\"black\" d=\"M837.93,-125.83C929.95,-125.51 1132.44,-124.81 1258.76,-124.38\"/>\n",
       "<polygon fill=\"black\" stroke=\"black\" points=\"1258.48,-127.88 1268.47,-124.34 1258.46,-120.88 1258.48,-127.88\"/>\n",
       "</g>\n",
       "<!-- interv&#45;start&#45;CM&#45;&gt;interv&#45;start&#45;entrypoint -->\n",
       "<g id=\"edge13\" class=\"edge\">\n",
       "<title>interv&#45;start&#45;CM&#45;&gt;interv&#45;start&#45;entrypoint</title>\n",
       "<path fill=\"none\" stroke=\"black\" d=\"M849.54,-71.59C873.67,-71.42 902.66,-71.22 931.78,-71.02\"/>\n",
       "<polygon fill=\"black\" stroke=\"black\" points=\"931.44,-74.52 941.42,-70.95 931.4,-67.52 931.44,-74.52\"/>\n",
       "</g>\n",
       "<!-- interv&#45;start&#45;Extractor&#45;&gt;FINAL -->\n",
       "<g id=\"edge14\" class=\"edge\">\n",
       "<title>interv&#45;start&#45;Extractor&#45;&gt;FINAL</title>\n",
       "<path fill=\"none\" stroke=\"black\" d=\"M1483.59,-70C1491.63,-70 1499.51,-70 1507,-70\"/>\n",
       "<polygon fill=\"black\" stroke=\"black\" points=\"1506.91,-73.5 1516.91,-70 1506.91,-66.5 1506.91,-73.5\"/>\n",
       "</g>\n",
       "<!-- comune&#45;Extractor&#45;&gt;FINAL -->\n",
       "<g id=\"edge15\" class=\"edge\">\n",
       "<title>comune&#45;Extractor&#45;&gt;FINAL</title>\n",
       "<path fill=\"none\" stroke=\"black\" d=\"M1433.05,-109.99C1449.45,-106.07 1467.04,-101.61 1483.18,-97 1495.94,-93.36 1509.67,-88.95 1522.13,-84.76\"/>\n",
       "<polygon fill=\"black\" stroke=\"black\" points=\"1522.93,-88.19 1531.26,-81.65 1520.67,-81.56 1522.93,-88.19\"/>\n",
       "</g>\n",
       "</g>\n",
       "</svg>\n"
      ],
      "text/plain": [
       "DAG(graph=<networkx.classes.digraph.DiGraph object at 0x7feb4c9047d0>)"
      ]
     },
     "execution_count": 7,
     "metadata": {},
     "output_type": "execute_result"
    }
   ],
   "source": [
    "_base_parts = training.get_training_dag()\n",
    "from archaeo_super_prompt.modeling import predict as infering\n",
    "expected_final_pipeline = infering.build_complete_inference_dag(_base_parts)\n",
    "expected_final_pipeline\n"
   ]
  },
  {
   "cell_type": "code",
   "execution_count": 8,
   "id": "055a2f68-0a1e-4fae-bdf3-19e1204db502",
   "metadata": {},
   "outputs": [],
   "source": [
    "import re, datetime, pandas as pd\n",
    "from archaeo_super_prompt.modeling.struct_extract.extractors.archiving_date import ArchivingDateProvider, ArchivingDateOutputSchema\n",
    "\n",
    "def _predict_safe(self, X):\n",
    "    def parse(dp):\n",
    "        if dp is None: return datetime.date(1900,1,1)\n",
    "        if isinstance(dp, (datetime.date, datetime.datetime, pd.Timestamp)):\n",
    "            return dp.date() if hasattr(dp, \"date\") else dp\n",
    "        s = str(dp).strip()\n",
    "        if s == \"\" or s.lower() in (\"none\", \"nan\", \"nat\"): return datetime.date(1900,1,1)\n",
    "        for fmt in (\"%Y-%m-%d\",\"%d-%m-%Y\",\"%d/%m/%Y\",\"%Y/%m/%d\",\"%d.%m.%Y\",\"%Y.%m.%d\"):\n",
    "            try: return datetime.datetime.strptime(s, fmt).date()\n",
    "            except Exception: pass\n",
    "        parts = re.split(r\"[-/\\. ]+\", s)\n",
    "        try:\n",
    "            if len(parts) >= 3:\n",
    "                d, m, y = map(int, parts[:3])\n",
    "                if y < 100: y += 2000\n",
    "                return datetime.date(y, m, d)\n",
    "        except Exception: pass\n",
    "        m = re.search(r\"(\\d{4})\", s)\n",
    "        if m: return datetime.date(int(m.group(1)), 1, 1)\n",
    "        return datetime.date(1900,1,1)\n",
    "    rows = [{\"id\": a.id, \"data_protocollo\": parse(getattr(a, \"building__Data_Protocollo\", None))}\n",
    "            for a in self._mds.get_answers(set(X[\"id\"].to_list()))]\n",
    "    return ArchivingDateOutputSchema.validate(pd.DataFrame(rows).set_index(\"id\"))\n",
    "\n",
    "ArchivingDateProvider.predict = _predict_safe\n"
   ]
  },
  {
   "cell_type": "code",
   "execution_count": 9,
   "id": "681597a5-23f2-4b72-8dec-5fe07cc3c56e",
   "metadata": {},
   "outputs": [],
   "source": [
    "import re, calendar, datetime\n",
    "import archaeo_super_prompt.modeling.struct_extract.extractors.intervention_date as ide\n",
    "from archaeo_super_prompt.modeling.struct_extract.extractors.intervention_date import InterventionStartExtractor, ITALIAN_MONTHS, Data, DataInterventoInputData\n",
    "from archaeo_super_prompt.modeling.struct_extract.extractors.comune import ComuneExtractor, ComuneInputData, Comune\n",
    "from archaeo_super_prompt.dataset.thesauri import comune_province as cp\n",
    "\n",
    "def load_comune_aligned():\n",
    "    df = pd.read_csv(cp._get_comune_file())\n",
    "    df = df[df[\"nome\"].notnull() & df[\"provincia\"].notnull()]\n",
    "    return [(id_com, nome) for _, id_com, nome in df[[\"id_com\",\"nome\"]].itertuples()]\n",
    "\n",
    "cp.load_comune = load_comune_aligned\n",
    "\n",
    "\n",
    "DATE_RE = re.compile(r\"\\b(\\d{1,2}[\\/\\.-]\\d{1,2}[\\/\\.-]\\d{2,4}|gennaio|febbraio|marzo|aprile|maggio|giugno|luglio|agosto|settembre|ottobre|novembre|dicembre)\\b\", re.I)\n",
    "\n",
    "# remove bad ocr output\n",
    "def _strip_tables_and_noise(s):\n",
    "    s=re.sub(r\"^\\s*\\d+\\s*,\\s*\\d+\\s*=\\s*.*$\", \"\", s, flags=re.M|re.S)\n",
    "    s=re.sub(r\"`-+`\\s*\", \"\", s)\n",
    "    return s\n",
    "\n",
    "# avoids going over max context window for long (and badly read) documents\n",
    "def _focus_and_truncate(s, max_chars=20000):\n",
    "    s=_strip_tables_and_noise(s)\n",
    "    if len(s)<=max_chars: return s\n",
    "    lines=s.splitlines()\n",
    "    hits=[ln for ln in lines if DATE_RE.search(ln)]\n",
    "    head=\"\\n\".join(lines[:4000])\n",
    "    tail=\"\\n\".join(lines[-2000:])\n",
    "    middle=\"\\n\".join(hits)[:8000]\n",
    "    out=\"\\n\".join([head,middle,tail])\n",
    "    return out[:max_chars]\n",
    "\n",
    "# feed trimmed \"fragmenti relazione\" and fix month (went out of bounds)\n",
    "def _to_dspy_input_patched(self, x):\n",
    "    d=x.data_protocollo\n",
    "    return DataInterventoInputData(\n",
    "        fragmenti_relazione=_focus_and_truncate(x.merged_chunks),\n",
    "        data_di_archiviazone=Data(\n",
    "            giorno=int(getattr(d,\"day\",d.day)),\n",
    "            mese=ITALIAN_MONTHS[int(getattr(d,\"month\",d.month))-1],\n",
    "            anno=int(getattr(d,\"year\",d.year)),\n",
    "        ),\n",
    "    )\n",
    "# replace intervention start extractor to not crash when context is too large\n",
    "InterventionStartExtractor._to_dspy_input = _to_dspy_input_patched\n",
    "\n",
    "# fixes for invalid model outputs that broke the pipeline\n",
    "def _as_int(x,d): \n",
    "    try: return int(x)\n",
    "    except Exception: return d\n",
    "def _clamp_month(m):\n",
    "    m=_as_int(m,1)\n",
    "    return 1 if m<1 else 12 if m>12 else m\n",
    "def _clamp_day(y,m,d):\n",
    "    y=_as_int(y,1900); m=_clamp_month(m); d=_as_int(d,1)\n",
    "    last=calendar.monthrange(max(1,y),m)[1]\n",
    "    return 1 if d<1 else last if d>last else d\n",
    "def _get_min_date_safe(o):\n",
    "    y=_as_int(getattr(o,\"start_year\",1900),1900)\n",
    "    m=_clamp_month(getattr(o,\"start_month\",1))\n",
    "    d=_clamp_day(y,m,getattr(o,\"start_day\",1))\n",
    "    return datetime.date(y,m,d)\n",
    "def _get_max_date_safe(o):\n",
    "    y=getattr(o,\"end_year\",None)\n",
    "    if y is None: y=getattr(o,\"start_year\",1900)\n",
    "    y=_as_int(y,1900)\n",
    "    m=_clamp_month(getattr(o,\"end_month\",12))\n",
    "    d=_clamp_day(y,m,getattr(o,\"end_day\",28))\n",
    "    return datetime.date(y,m,d)\n",
    "ide._get_min_date = _get_min_date_safe\n",
    "ide._get_max_date = _get_max_date_safe\n",
    "\n",
    "# comune fixing section\n",
    "\n",
    "def _read_comuni_tables_strict():\n",
    "    comuni = pd.read_csv(cp._get_comune_file())[\n",
    "        [\"id_com\", \"nome\", \"provincia\"]\n",
    "    ].rename(columns={\"id_com\":\"comune_id\",\"nome\":\"name\",\"provincia\":\"province_id\"})\n",
    "    comuni = comuni.dropna(subset=[\"name\",\"province_id\"]).copy()\n",
    "    comuni[\"comune_id\"] = comuni[\"comune_id\"].astype(int)\n",
    "    comuni[\"province_id\"] = comuni[\"province_id\"].astype(int)\n",
    "\n",
    "    # drop duplicated comuni keeping the first occurrence\n",
    "    dups = comuni[\"comune_id\"].duplicated(keep=\"first\").sum()\n",
    "    if dups:\n",
    "        print(f\"[warn] dropping {dups} duplicated comuni by comune_id\")\n",
    "        comuni = comuni.drop_duplicates(subset=[\"comune_id\"], keep=\"first\")\n",
    "\n",
    "    province = pd.read_csv(cp._get_provincie_file())[\n",
    "        [\"id_prov\",\"nome\",\"sigla\"]\n",
    "    ].rename(columns={\"id_prov\":\"province_id\",\"nome\":\"province_name\"})\n",
    "    province[\"province_id\"] = province[\"province_id\"].astype(int)\n",
    "    province = province.drop_duplicates(subset=[\"province_id\"], keep=\"first\")\n",
    "\n",
    "    # each comune refers to exactly one province\n",
    "    merged = comuni.merge(\n",
    "        province[[\"province_id\",\"province_name\",\"sigla\"]],\n",
    "        on=\"province_id\",\n",
    "        how=\"left\",\n",
    "        validate=\"m:1\",   # raise if a province_id maps to multiple province rows\n",
    "        copy=False,\n",
    "    )\n",
    "\n",
    "    comuni = comuni.set_index(\"comune_id\").sort_index()\n",
    "    merged = merged.set_index(\"comune_id\").sort_index()\n",
    "    return comuni, merged\n",
    "\n",
    "_COMUNI, _MERGED = _read_comuni_tables_strict()\n",
    "_POS2ID = _COMUNI.index.to_list()\n",
    "\n",
    "_FIELDS = set(Comune.model_fields.keys())\n",
    "\n",
    "def _mk_from_pos(pos: int):\n",
    "    if not (0 <= pos < len(_POS2ID)):\n",
    "        return None\n",
    "    cid = _POS2ID[pos]\n",
    "    if cid not in _MERGED.index:\n",
    "        return None\n",
    "    # scalar gets:\n",
    "    name = str(_MERGED.at[cid, \"name\"])\n",
    "    prov_name = str(_MERGED.at[cid, \"province_name\"])\n",
    "    sigla = str(_MERGED.at[cid, \"sigla\"])\n",
    "    kw = {}\n",
    "    if \"citta_nome\" in _FIELDS:      kw[\"citta_nome\"] = name\n",
    "    if \"provicia_nome\" in _FIELDS:   kw[\"provicia_nome\"] = prov_name\n",
    "    if \"provincia_sigla\" in _FIELDS: kw[\"provincia_sigla\"] = sigla\n",
    "    if \"id\" in _FIELDS:              kw[\"id\"] = int(cid)\n",
    "    # not sure if name or nome is used\n",
    "    if \"nome\" in _FIELDS and \"citta_nome\" not in _FIELDS: kw[\"nome\"] = name\n",
    "    if \"name\" in _FIELDS and \"citta_nome\" not in _FIELDS: kw[\"name\"] = name\n",
    "    return Comune(**kw)\n",
    "\n",
    "def _comune_to_dspy_input(self, x):\n",
    "    pos_list = getattr(x, \"identified_thesaurus\", None) or getattr(x, \"possibili_comuni\", None) or []\n",
    "    if not isinstance(pos_list, list): pos_list = [pos_list]\n",
    "    pos_list = [int(v) for v in pos_list if str(v).isdigit()]\n",
    "    cands = [c for c in (_mk_from_pos(p) for p in pos_list) if c is not None]\n",
    "    return ComuneInputData(\n",
    "        fragmenti_relazione=getattr(x, \"merged_chunks\", \"\"),\n",
    "        possibili_comuni=cands,\n",
    "    )\n",
    "\n",
    "# replace comune extractor code here because the original didn't work\n",
    "ComuneExtractor._to_dspy_input = _comune_to_dspy_input"
   ]
  },
  {
   "cell_type": "code",
   "execution_count": 14,
   "id": "5",
   "metadata": {
    "scrolled": true
   },
   "outputs": [
    {
     "name": "stderr",
     "output_type": "stream",
     "text": [
      "NER analysing:   0%|                                                   | 0/4 [00:00<?, ?Fraction of total text chunks/s]"
     ]
    },
    {
     "name": "stdout",
     "output_type": "stream",
     "text": [
      "Fetching the transformers model\n"
     ]
    },
    {
     "name": "stderr",
     "output_type": "stream",
     "text": [
      "NER analysing:  25%|██████████▊                                | 1/4 [00:00<00:02,  1.15Fraction of total text chunks/s]"
     ]
    },
    {
     "name": "stdout",
     "output_type": "stream",
     "text": [
      "Fetching the transformers model\n"
     ]
    },
    {
     "name": "stderr",
     "output_type": "stream",
     "text": [
      "NER analysing:  50%|█████████████████████▌                     | 2/4 [00:01<00:01,  1.28Fraction of total text chunks/s]"
     ]
    },
    {
     "name": "stdout",
     "output_type": "stream",
     "text": [
      "Fetching the transformers model\n"
     ]
    },
    {
     "name": "stderr",
     "output_type": "stream",
     "text": [
      "NER analysing:  75%|████████████████████████████████▎          | 3/4 [00:02<00:00,  1.28Fraction of total text chunks/s]"
     ]
    },
    {
     "name": "stdout",
     "output_type": "stream",
     "text": [
      "Fetching the transformers model\n"
     ]
    },
    {
     "name": "stderr",
     "output_type": "stream",
     "text": [
      "NER analysing: 100%|███████████████████████████████████████████| 4/4 [00:02<00:00,  1.35Fraction of total text chunks/s]\n",
      "Fuzzy-search thesaurus in text chunks.: 100%|█████████████████████████████| 198/198 [00:06<00:00, 31.58analyzed chunk/s]\n",
      "Fuzzy-search thesaurus in text chunks.: 100%|███████████████████████████| 198/198 [00:00<00:00, 7232.19analyzed chunk/s]\n",
      "Gathering filtered chunks: 100%|██████████████████████████████████████████████| 9/9 [00:00<00:00, 2966.97intervention/s]\n",
      "Gathering filtered chunks: 100%|██████████████████████████████████████████████| 9/9 [00:00<00:00, 2243.34intervention/s]\n",
      "2025/09/03 13:26:57 INFO dspy.teleprompt.mipro_optimizer_v2: \n",
      "RUNNING WITH THE FOLLOWING MEDIUM AUTO RUN SETTINGS:\n",
      "num_trials: 18\n",
      "minibatch: False\n",
      "num_fewshot_candidates: 12\n",
      "num_instruct_candidates: 6\n",
      "valset size: 7\n",
      "\n",
      "2025/09/03 13:26:57 INFO dspy.teleprompt.mipro_optimizer_v2: \n",
      "==> STEP 1: BOOTSTRAP FEWSHOT EXAMPLES <==\n",
      "2025/09/03 13:26:57 INFO dspy.teleprompt.mipro_optimizer_v2: These will be used as few-shot example candidates for our program and for creating instructions.\n",
      "\n",
      "2025/09/03 13:26:57 INFO dspy.teleprompt.mipro_optimizer_v2: Bootstrapping N=12 sets of demonstrations...\n"
     ]
    },
    {
     "name": "stdout",
     "output_type": "stream",
     "text": [
      "Bootstrapping set 1/12\n",
      "Bootstrapping set 2/12\n",
      "Bootstrapping set 3/12\n"
     ]
    },
    {
     "name": "stderr",
     "output_type": "stream",
     "text": [
      "100%|████████████████████████████████████████████████████████████████████████████████████| 2/2 [00:00<00:00, 410.32it/s]\n"
     ]
    },
    {
     "name": "stdout",
     "output_type": "stream",
     "text": [
      "Bootstrapped 0 full traces after 1 examples for up to 1 rounds, amounting to 2 attempts.\n",
      "Bootstrapping set 4/12\n"
     ]
    },
    {
     "name": "stderr",
     "output_type": "stream",
     "text": [
      "100%|████████████████████████████████████████████████████████████████████████████████████| 2/2 [00:00<00:00, 461.39it/s]\n"
     ]
    },
    {
     "name": "stdout",
     "output_type": "stream",
     "text": [
      "Bootstrapped 0 full traces after 1 examples for up to 1 rounds, amounting to 2 attempts.\n",
      "Bootstrapping set 5/12\n"
     ]
    },
    {
     "name": "stderr",
     "output_type": "stream",
     "text": [
      "100%|████████████████████████████████████████████████████████████████████████████████████| 2/2 [00:00<00:00, 540.12it/s]\n"
     ]
    },
    {
     "name": "stdout",
     "output_type": "stream",
     "text": [
      "Bootstrapped 0 full traces after 1 examples for up to 1 rounds, amounting to 2 attempts.\n",
      "Bootstrapping set 6/12\n"
     ]
    },
    {
     "name": "stderr",
     "output_type": "stream",
     "text": [
      "100%|████████████████████████████████████████████████████████████████████████████████████| 2/2 [00:00<00:00, 510.72it/s]\n"
     ]
    },
    {
     "name": "stdout",
     "output_type": "stream",
     "text": [
      "Bootstrapped 0 full traces after 1 examples for up to 1 rounds, amounting to 2 attempts.\n",
      "Bootstrapping set 7/12\n"
     ]
    },
    {
     "name": "stderr",
     "output_type": "stream",
     "text": [
      "100%|████████████████████████████████████████████████████████████████████████████████████| 2/2 [00:00<00:00, 507.29it/s]\n"
     ]
    },
    {
     "name": "stdout",
     "output_type": "stream",
     "text": [
      "Bootstrapped 0 full traces after 1 examples for up to 1 rounds, amounting to 2 attempts.\n",
      "Bootstrapping set 8/12\n"
     ]
    },
    {
     "name": "stderr",
     "output_type": "stream",
     "text": [
      "100%|████████████████████████████████████████████████████████████████████████████████████| 2/2 [00:00<00:00, 503.73it/s]\n"
     ]
    },
    {
     "name": "stdout",
     "output_type": "stream",
     "text": [
      "Bootstrapped 0 full traces after 1 examples for up to 1 rounds, amounting to 2 attempts.\n",
      "Bootstrapping set 9/12\n"
     ]
    },
    {
     "name": "stderr",
     "output_type": "stream",
     "text": [
      "100%|████████████████████████████████████████████████████████████████████████████████████| 2/2 [00:00<00:00, 558.57it/s]\n"
     ]
    },
    {
     "name": "stdout",
     "output_type": "stream",
     "text": [
      "Bootstrapped 0 full traces after 1 examples for up to 1 rounds, amounting to 2 attempts.\n",
      "Bootstrapping set 10/12\n"
     ]
    },
    {
     "name": "stderr",
     "output_type": "stream",
     "text": [
      "100%|████████████████████████████████████████████████████████████████████████████████████| 2/2 [00:00<00:00, 484.11it/s]\n"
     ]
    },
    {
     "name": "stdout",
     "output_type": "stream",
     "text": [
      "Bootstrapped 0 full traces after 1 examples for up to 1 rounds, amounting to 2 attempts.\n",
      "Bootstrapping set 11/12\n"
     ]
    },
    {
     "name": "stderr",
     "output_type": "stream",
     "text": [
      "100%|████████████████████████████████████████████████████████████████████████████████████| 2/2 [00:00<00:00, 569.18it/s]\n"
     ]
    },
    {
     "name": "stdout",
     "output_type": "stream",
     "text": [
      "Bootstrapped 0 full traces after 1 examples for up to 1 rounds, amounting to 2 attempts.\n",
      "Bootstrapping set 12/12\n"
     ]
    },
    {
     "name": "stderr",
     "output_type": "stream",
     "text": [
      "100%|████████████████████████████████████████████████████████████████████████████████████| 2/2 [00:00<00:00, 538.94it/s]\n",
      "2025/09/03 13:26:57 INFO dspy.teleprompt.mipro_optimizer_v2: \n",
      "==> STEP 2: PROPOSE INSTRUCTION CANDIDATES <==\n",
      "2025/09/03 13:26:57 INFO dspy.teleprompt.mipro_optimizer_v2: We will use the few-shot examples from the previous step, a generated dataset summary, a summary of the program code, and a randomly selected prompting tip to propose instructions.\n",
      "2025/09/03 13:26:57 INFO dspy.teleprompt.mipro_optimizer_v2: \n",
      "Proposing N=6 instructions...\n",
      "\n",
      "2025/09/03 13:26:57 INFO dspy.teleprompt.mipro_optimizer_v2: Proposed Instructions for Predictor 0:\n",
      "\n",
      "2025/09/03 13:26:57 INFO dspy.teleprompt.mipro_optimizer_v2: 0: Degli framenti datti di relazione archeologiche, stima il momento di partenza dell'indagine in una finestra de due date, con un precisione al giorno, al mese o all'anno più vicino. Se non ci sono molte informazione, ritorna almeno una finestra prima di la data di archiviazone datta. La data minima può essere lasciata sconosciuta.\n",
      "\n",
      "1. Innanzitutto, determina se c'è una data minima e la precisione con cui puoi approssimare la finestra.\n",
      "2. Quindi, determina la finestra, inserendo valori predefiniti (ma ben tipizzati) nei campi non coperti dalla precisione.\n",
      "   a. Se possibile, restringi la finestra a un punto impostando le stesse date minima e massima.\n",
      "\n",
      "2025/09/03 13:26:57 INFO dspy.teleprompt.mipro_optimizer_v2: 1: Analizza i seguenti frammenti di relazione archeologica e la data di archiviazione per stimare l'intervallo di tempo in cui è iniziata l'indagine. Fornisci una data di inizio stimata con la massima precisione possibile (giorno, mese o anno). Se i frammenti non contengono informazioni sufficienti, fornisci un intervallo di tempo ragionevole precedente alla data di archiviazione. Indica chiaramente il tuo ragionamento passo dopo passo.\n",
      "\n",
      "Output:\n",
      "* **Ragionamento:** Spiega il tuo processo di pensiero.\n",
      "* **Data minima di inizio:** La data di inizio più antica stimata (se disponibile, altrimenti lascia vuoto).\n",
      "* **Data massima di inizio:** La data di inizio più recente stimata.\n",
      "* **Precisione:** Indica se la data di inizio è stimata con precisione al giorno, al mese o all'anno.\n",
      "\n",
      "2025/09/03 13:26:57 INFO dspy.teleprompt.mipro_optimizer_v2: 2: You are an expert archaeologist tasked with extracting the start date of an archaeological investigation from textual reports. You will be given fragments of archaeological reports (`fragmenti_relazione`) and the date the report was archived (`data_di_archiviazone`). Your goal is to estimate the earliest and latest possible start dates of the investigation, along with the precision of your estimate (day, month, or year).\n",
      "\n",
      "Here's how to approach this task:\n",
      "\n",
      "1. **Analyze the Report Fragments:** Carefully read the `fragmenti_relazione` to identify any clues about the start date of the investigation. Look for explicit dates, references to time periods, or descriptions of events that can help you infer the start date.\n",
      "2. **Determine the Date Range:** Based on your analysis, determine a reasonable date range for the start of the investigation. Provide both a minimum (`data_minima_di_inizio`) and a maximum (`data_massima_di_inizio`) start date. If a minimum date cannot be determined, leave it blank.\n",
      "3. **Specify the Precision:** Indicate the precision of your estimate (`precisione`). Choose from \"giorno\" (day), \"mese\" (month), or \"anno\" (year), depending on how accurately you can determine the start date.\n",
      "4. **Reasoning:** Explain your reasoning step-by-step (`reasoning`). Describe how you arrived at your estimate, citing specific evidence from the report fragments.\n",
      "5. **Default to Before Archiving Date:** If no date information is available in the report fragments, estimate a date range *before* the `data_di_archiviazone`.\n",
      "\n",
      "Your response should include the following fields: `reasoning`, `data_minima_di_inizio`, `data_massima_di_inizio`, and `precisione`. Ensure that the dates are formatted correctly and that the precision is one of the allowed values.\n",
      "\n",
      "2025/09/03 13:26:57 INFO dspy.teleprompt.mipro_optimizer_v2: 3: Analizza i frammenti di relazione archeologica forniti e, basandosi su queste informazioni e sulla data di archiviazione, stima un intervallo di date per l'inizio dell'indagine. Indica la data minima e massima dell'intervallo, e specifica la precisione della stima (giorno, mese, anno). Se le informazioni sono insufficienti, fornisci un intervallo che precede la data di archiviazione. Motiva il tuo ragionamento passo dopo passo.\n",
      "\n",
      "2025/09/03 13:26:57 INFO dspy.teleprompt.mipro_optimizer_v2: 4: You are an expert archaeological historian tasked with extracting the timeframe of archaeological investigations from historical reports. Given archaeological report fragments and an archiving date, your goal is to estimate the start date of the investigation. Provide a start date range (minimum and maximum start dates) with the highest possible precision – day, month, or year. If the report fragments contain insufficient information, provide a reasonable date range *before* the provided archiving date, erring on the side of caution. If a minimum start date cannot be determined, leave it blank.\n",
      "\n",
      "Here's how to approach this task:\n",
      "\n",
      "1. **Analyze Report Fragments:** Carefully examine the provided report fragments for any mentions of dates, time periods, or events that could indicate when the archaeological investigation began. Pay attention to contextual clues.\n",
      "2. **Determine Date Range:** Based on your analysis, identify the earliest possible start date (minimum) and the latest possible start date (maximum) for the investigation.\n",
      "3. **Assess Precision:** Determine the precision with which you can estimate the start date. Is it accurate to the day, month, or only the year?\n",
      "4. **Reasoning:** Clearly explain your reasoning process, outlining how you arrived at the estimated date range and precision level.\n",
      "5. **Output Format:** Provide your response in the following format:\n",
      "\n",
      "   * **Reasoning:** [Your step-by-step reasoning]\n",
      "   * **Data Minima Di Inizio:** [Earliest possible start date, or leave blank if unknown]\n",
      "   * **Data Massima Di Inizio:** [Latest possible start date]\n",
      "   * **Precisione:** [giorno, mese, or anno – representing day, month, or year precision]\n",
      "\n",
      "Remember to prioritize accuracy and provide a well-reasoned estimate based on the available evidence.\n",
      "\n",
      "2025/09/03 13:26:57 INFO dspy.teleprompt.mipro_optimizer_v2: 5: You are an expert archaeologist analyzing Italian archaeological reports. Your task is to estimate the start date of the archaeological investigation described in the provided report fragments.\n",
      "\n",
      "**Input:**\n",
      "\n",
      "*   **Report Fragments:** Text snippets from archaeological reports (`fragmenti_relazione`). These fragments may contain descriptions of findings, locations, and observations.\n",
      "*   **Archiving Date:** The date the report was archived (`data_di_archiviazone`).\n",
      "\n",
      "**Output:**\n",
      "\n",
      "Provide the following information:\n",
      "\n",
      "*   **Reasoning:** Explain your step-by-step reasoning for determining the start date.\n",
      "*   **Minimum Start Date:** The earliest possible date the investigation could have begun. If unknown, state \"Unknown\".\n",
      "*   **Maximum Start Date:** The latest possible date the investigation could have begun.\n",
      "*   **Precision:** The precision of your estimate: \"day\", \"month\", or \"year\".\n",
      "\n",
      "**Instructions:**\n",
      "\n",
      "1.  Carefully analyze the report fragments for any clues about the start date of the investigation. Look for explicit dates, references to events, or contextual information that can help you estimate the timeframe.\n",
      "2.  If the report fragments provide a specific date range, use that as your estimate.\n",
      "3.  If the report fragments only provide a vague timeframe, use your archaeological knowledge and reasoning to estimate a plausible date range.\n",
      "4.  If no information about the start date is available, default to a date *before* the archiving date.\n",
      "5.  Always state the precision of your estimate (day, month, or year) based on the available information. Prioritize the highest possible precision.\n",
      "6.  Clearly articulate your reasoning process.\n",
      "\n",
      "**Example:**\n",
      "\n",
      "Let's say the report fragments mention \"excavations began shortly after the discovery of the mosaic in early March 1985\" and the archiving date is \"2023-10-26\".\n",
      "\n",
      "Your response should be similar to:\n",
      "\n",
      "```\n",
      "Reasoning: The report fragments state that excavations began shortly after the discovery of the mosaic in early March 1985. Therefore, a reasonable estimate for the start date is early March 1985.\n",
      "Data Minima Di Inizio: 1985-03-01\n",
      "Data Massima Di Inizio: 1985-03-15\n",
      "Precisione: mese\n",
      "```\n",
      "\n",
      "2025/09/03 13:26:57 INFO dspy.teleprompt.mipro_optimizer_v2: \n",
      "\n",
      "2025/09/03 13:26:57 INFO dspy.teleprompt.mipro_optimizer_v2: ==> STEP 3: FINDING OPTIMAL PROMPT PARAMETERS <==\n",
      "2025/09/03 13:26:57 INFO dspy.teleprompt.mipro_optimizer_v2: We will evaluate the program over a series of trials with different combinations of instructions and few-shot examples to find the optimal combination using Bayesian Optimization.\n",
      "\n",
      "2025/09/03 13:26:57 INFO dspy.teleprompt.mipro_optimizer_v2: == Trial 1 / 18 - Full Evaluation of Default Program ==\n"
     ]
    },
    {
     "name": "stdout",
     "output_type": "stream",
     "text": [
      "Bootstrapped 0 full traces after 1 examples for up to 1 rounds, amounting to 2 attempts.\n",
      "Average Metric: 5.20 / 7 (74.3%): 100%|█████████████████████████████████████████████████| 7/7 [00:00<00:00, 3825.92it/s]"
     ]
    },
    {
     "name": "stderr",
     "output_type": "stream",
     "text": [
      "2025/09/03 13:26:57 INFO dspy.evaluate.evaluate: Average Metric: 5.2 / 7 (74.3%)\n",
      "2025/09/03 13:26:57 INFO dspy.teleprompt.mipro_optimizer_v2: Default program score: 74.29\n",
      "\n",
      "/raid/ggattiglia/magoh_ai/env/lib/python3.13/site-packages/optuna/_experimental.py:32: ExperimentalWarning:\n",
      "\n",
      "Argument ``multivariate`` is an experimental feature. The interface can change in the future.\n",
      "\n",
      "2025/09/03 13:26:57 INFO dspy.teleprompt.mipro_optimizer_v2: ===== Trial 2 / 18 =====\n"
     ]
    },
    {
     "name": "stdout",
     "output_type": "stream",
     "text": [
      "\n",
      "Average Metric: 4.60 / 7 (65.7%): 100%|█████████████████████████████████████████████████| 7/7 [00:00<00:00, 3762.19it/s]"
     ]
    },
    {
     "name": "stderr",
     "output_type": "stream",
     "text": [
      "2025/09/03 13:26:57 INFO dspy.evaluate.evaluate: Average Metric: 4.6 / 7 (65.7%)\n",
      "2025/09/03 13:26:57 INFO dspy.teleprompt.mipro_optimizer_v2: Score: 65.71 with parameters ['Predictor 0: Instruction 1', 'Predictor 0: Few-Shot Set 6'].\n",
      "2025/09/03 13:26:57 INFO dspy.teleprompt.mipro_optimizer_v2: Scores so far: [74.29, 65.71]\n",
      "2025/09/03 13:26:57 INFO dspy.teleprompt.mipro_optimizer_v2: Best score so far: 74.29\n",
      "2025/09/03 13:26:57 INFO dspy.teleprompt.mipro_optimizer_v2: ========================\n",
      "\n",
      "\n",
      "2025/09/03 13:26:57 INFO dspy.teleprompt.mipro_optimizer_v2: ===== Trial 3 / 18 =====\n"
     ]
    },
    {
     "name": "stdout",
     "output_type": "stream",
     "text": [
      "\n",
      "Average Metric: 5.18 / 7 (74.0%): 100%|█████████████████████████████████████████████████| 7/7 [00:00<00:00, 3761.71it/s]"
     ]
    },
    {
     "name": "stderr",
     "output_type": "stream",
     "text": [
      "2025/09/03 13:26:57 INFO dspy.evaluate.evaluate: Average Metric: 5.18 / 7 (74.0%)\n",
      "2025/09/03 13:26:57 INFO dspy.teleprompt.mipro_optimizer_v2: Score: 74.0 with parameters ['Predictor 0: Instruction 4', 'Predictor 0: Few-Shot Set 2'].\n",
      "2025/09/03 13:26:57 INFO dspy.teleprompt.mipro_optimizer_v2: Scores so far: [74.29, 65.71, 74.0]\n",
      "2025/09/03 13:26:57 INFO dspy.teleprompt.mipro_optimizer_v2: Best score so far: 74.29\n",
      "2025/09/03 13:26:57 INFO dspy.teleprompt.mipro_optimizer_v2: ========================\n",
      "\n",
      "\n",
      "2025/09/03 13:26:57 INFO dspy.teleprompt.mipro_optimizer_v2: ===== Trial 4 / 18 =====\n"
     ]
    },
    {
     "name": "stdout",
     "output_type": "stream",
     "text": [
      "\n",
      "Average Metric: 5.20 / 7 (74.3%): 100%|█████████████████████████████████████████████████| 7/7 [00:00<00:00, 3296.67it/s]"
     ]
    },
    {
     "name": "stderr",
     "output_type": "stream",
     "text": [
      "2025/09/03 13:26:57 INFO dspy.evaluate.evaluate: Average Metric: 5.2 / 7 (74.3%)\n",
      "2025/09/03 13:26:57 INFO dspy.teleprompt.mipro_optimizer_v2: Score: 74.29 with parameters ['Predictor 0: Instruction 0', 'Predictor 0: Few-Shot Set 6'].\n",
      "2025/09/03 13:26:57 INFO dspy.teleprompt.mipro_optimizer_v2: Scores so far: [74.29, 65.71, 74.0, 74.29]\n",
      "2025/09/03 13:26:57 INFO dspy.teleprompt.mipro_optimizer_v2: Best score so far: 74.29\n",
      "2025/09/03 13:26:57 INFO dspy.teleprompt.mipro_optimizer_v2: ========================\n",
      "\n",
      "\n",
      "2025/09/03 13:26:57 INFO dspy.teleprompt.mipro_optimizer_v2: ===== Trial 5 / 18 =====\n"
     ]
    },
    {
     "name": "stdout",
     "output_type": "stream",
     "text": [
      "\n",
      "Average Metric: 4.63 / 7 (66.1%): 100%|█████████████████████████████████████████████████| 7/7 [00:00<00:00, 3494.42it/s]"
     ]
    },
    {
     "name": "stderr",
     "output_type": "stream",
     "text": [
      "2025/09/03 13:26:57 INFO dspy.evaluate.evaluate: Average Metric: 4.63 / 7 (66.1%)\n",
      "2025/09/03 13:26:57 INFO dspy.teleprompt.mipro_optimizer_v2: Score: 66.14 with parameters ['Predictor 0: Instruction 2', 'Predictor 0: Few-Shot Set 4'].\n",
      "2025/09/03 13:26:57 INFO dspy.teleprompt.mipro_optimizer_v2: Scores so far: [74.29, 65.71, 74.0, 74.29, 66.14]\n",
      "2025/09/03 13:26:57 INFO dspy.teleprompt.mipro_optimizer_v2: Best score so far: 74.29\n",
      "2025/09/03 13:26:57 INFO dspy.teleprompt.mipro_optimizer_v2: ========================\n",
      "\n",
      "\n",
      "2025/09/03 13:26:57 INFO dspy.teleprompt.mipro_optimizer_v2: ===== Trial 6 / 18 =====\n"
     ]
    },
    {
     "name": "stdout",
     "output_type": "stream",
     "text": [
      "\n",
      "Average Metric: 4.63 / 7 (66.1%): 100%|█████████████████████████████████████████████████| 7/7 [00:00<00:00, 3770.89it/s]"
     ]
    },
    {
     "name": "stderr",
     "output_type": "stream",
     "text": [
      "2025/09/03 13:26:57 INFO dspy.evaluate.evaluate: Average Metric: 4.63 / 7 (66.1%)\n"
     ]
    },
    {
     "name": "stdout",
     "output_type": "stream",
     "text": [
      "\n"
     ]
    },
    {
     "name": "stderr",
     "output_type": "stream",
     "text": [
      "2025/09/03 13:26:57 INFO dspy.teleprompt.mipro_optimizer_v2: Score: 66.14 with parameters ['Predictor 0: Instruction 3', 'Predictor 0: Few-Shot Set 5'].\n",
      "2025/09/03 13:26:57 INFO dspy.teleprompt.mipro_optimizer_v2: Scores so far: [74.29, 65.71, 74.0, 74.29, 66.14, 66.14]\n",
      "2025/09/03 13:26:57 INFO dspy.teleprompt.mipro_optimizer_v2: Best score so far: 74.29\n",
      "2025/09/03 13:26:57 INFO dspy.teleprompt.mipro_optimizer_v2: ========================\n",
      "\n",
      "\n",
      "2025/09/03 13:26:57 INFO dspy.teleprompt.mipro_optimizer_v2: ===== Trial 7 / 18 =====\n"
     ]
    },
    {
     "name": "stdout",
     "output_type": "stream",
     "text": [
      "Average Metric: 5.18 / 7 (74.0%): 100%|█████████████████████████████████████████████████| 7/7 [00:00<00:00, 3825.92it/s]"
     ]
    },
    {
     "name": "stderr",
     "output_type": "stream",
     "text": [
      "2025/09/03 13:26:57 INFO dspy.evaluate.evaluate: Average Metric: 5.18 / 7 (74.0%)\n",
      "2025/09/03 13:26:57 INFO dspy.teleprompt.mipro_optimizer_v2: Score: 74.0 with parameters ['Predictor 0: Instruction 4', 'Predictor 0: Few-Shot Set 6'].\n",
      "2025/09/03 13:26:57 INFO dspy.teleprompt.mipro_optimizer_v2: Scores so far: [74.29, 65.71, 74.0, 74.29, 66.14, 66.14, 74.0]\n"
     ]
    },
    {
     "name": "stdout",
     "output_type": "stream",
     "text": [
      "\n"
     ]
    },
    {
     "name": "stderr",
     "output_type": "stream",
     "text": [
      "2025/09/03 13:26:57 INFO dspy.teleprompt.mipro_optimizer_v2: Best score so far: 74.29\n",
      "2025/09/03 13:26:57 INFO dspy.teleprompt.mipro_optimizer_v2: ========================\n",
      "\n",
      "\n",
      "2025/09/03 13:26:57 INFO dspy.teleprompt.mipro_optimizer_v2: ===== Trial 8 / 18 =====\n"
     ]
    },
    {
     "name": "stdout",
     "output_type": "stream",
     "text": [
      "Average Metric: 4.30 / 7 (61.4%): 100%|█████████████████████████████████████████████████| 7/7 [00:00<00:00, 3806.08it/s]"
     ]
    },
    {
     "name": "stderr",
     "output_type": "stream",
     "text": [
      "2025/09/03 13:26:57 INFO dspy.evaluate.evaluate: Average Metric: 4.3 / 7 (61.4%)\n",
      "2025/09/03 13:26:57 INFO dspy.teleprompt.mipro_optimizer_v2: Score: 61.43 with parameters ['Predictor 0: Instruction 5', 'Predictor 0: Few-Shot Set 1'].\n"
     ]
    },
    {
     "name": "stdout",
     "output_type": "stream",
     "text": [
      "\n"
     ]
    },
    {
     "name": "stderr",
     "output_type": "stream",
     "text": [
      "2025/09/03 13:26:57 INFO dspy.teleprompt.mipro_optimizer_v2: Scores so far: [74.29, 65.71, 74.0, 74.29, 66.14, 66.14, 74.0, 61.43]\n",
      "2025/09/03 13:26:57 INFO dspy.teleprompt.mipro_optimizer_v2: Best score so far: 74.29\n",
      "2025/09/03 13:26:57 INFO dspy.teleprompt.mipro_optimizer_v2: ========================\n",
      "\n",
      "\n",
      "2025/09/03 13:26:57 INFO dspy.teleprompt.mipro_optimizer_v2: ===== Trial 9 / 18 =====\n"
     ]
    },
    {
     "name": "stdout",
     "output_type": "stream",
     "text": [
      "Average Metric: 4.63 / 7 (66.1%): 100%|█████████████████████████████████████████████████| 7/7 [00:00<00:00, 3837.42it/s]"
     ]
    },
    {
     "name": "stderr",
     "output_type": "stream",
     "text": [
      "2025/09/03 13:26:57 INFO dspy.evaluate.evaluate: Average Metric: 4.63 / 7 (66.1%)\n",
      "2025/09/03 13:26:57 INFO dspy.teleprompt.mipro_optimizer_v2: Score: 66.14 with parameters ['Predictor 0: Instruction 3', 'Predictor 0: Few-Shot Set 3'].\n",
      "2025/09/03 13:26:57 INFO dspy.teleprompt.mipro_optimizer_v2: Scores so far: [74.29, 65.71, 74.0, 74.29, 66.14, 66.14, 74.0, 61.43, 66.14]\n",
      "2025/09/03 13:26:57 INFO dspy.teleprompt.mipro_optimizer_v2: Best score so far: 74.29\n",
      "2025/09/03 13:26:57 INFO dspy.teleprompt.mipro_optimizer_v2: ========================\n",
      "\n",
      "\n",
      "2025/09/03 13:26:57 INFO dspy.teleprompt.mipro_optimizer_v2: ===== Trial 10 / 18 =====\n"
     ]
    },
    {
     "name": "stdout",
     "output_type": "stream",
     "text": [
      "\n",
      "Average Metric: 4.63 / 7 (66.1%): 100%|█████████████████████████████████████████████████| 7/7 [00:00<00:00, 3235.63it/s]"
     ]
    },
    {
     "name": "stderr",
     "output_type": "stream",
     "text": [
      "2025/09/03 13:26:57 INFO dspy.evaluate.evaluate: Average Metric: 4.63 / 7 (66.1%)\n",
      "2025/09/03 13:26:57 INFO dspy.teleprompt.mipro_optimizer_v2: Score: 66.14 with parameters ['Predictor 0: Instruction 3', 'Predictor 0: Few-Shot Set 10'].\n",
      "2025/09/03 13:26:57 INFO dspy.teleprompt.mipro_optimizer_v2: Scores so far: [74.29, 65.71, 74.0, 74.29, 66.14, 66.14, 74.0, 61.43, 66.14, 66.14]\n",
      "2025/09/03 13:26:57 INFO dspy.teleprompt.mipro_optimizer_v2: Best score so far: 74.29\n",
      "2025/09/03 13:26:57 INFO dspy.teleprompt.mipro_optimizer_v2: =========================\n",
      "\n",
      "\n",
      "2025/09/03 13:26:57 INFO dspy.teleprompt.mipro_optimizer_v2: ===== Trial 11 / 18 =====\n"
     ]
    },
    {
     "name": "stdout",
     "output_type": "stream",
     "text": [
      "\n",
      "Average Metric: 5.20 / 7 (74.3%): 100%|█████████████████████████████████████████████████| 7/7 [00:00<00:00, 3344.74it/s]"
     ]
    },
    {
     "name": "stderr",
     "output_type": "stream",
     "text": [
      "2025/09/03 13:26:57 INFO dspy.evaluate.evaluate: Average Metric: 5.2 / 7 (74.3%)\n",
      "2025/09/03 13:26:57 INFO dspy.teleprompt.mipro_optimizer_v2: Score: 74.29 with parameters ['Predictor 0: Instruction 0', 'Predictor 0: Few-Shot Set 0'].\n",
      "2025/09/03 13:26:57 INFO dspy.teleprompt.mipro_optimizer_v2: Scores so far: [74.29, 65.71, 74.0, 74.29, 66.14, 66.14, 74.0, 61.43, 66.14, 66.14, 74.29]\n",
      "2025/09/03 13:26:57 INFO dspy.teleprompt.mipro_optimizer_v2: Best score so far: 74.29\n",
      "2025/09/03 13:26:57 INFO dspy.teleprompt.mipro_optimizer_v2: =========================\n",
      "\n",
      "\n",
      "2025/09/03 13:26:57 INFO dspy.teleprompt.mipro_optimizer_v2: ===== Trial 12 / 18 =====\n"
     ]
    },
    {
     "name": "stdout",
     "output_type": "stream",
     "text": [
      "\n",
      "Average Metric: 5.20 / 7 (74.3%): 100%|█████████████████████████████████████████████████| 7/7 [00:00<00:00, 3853.54it/s]"
     ]
    },
    {
     "name": "stderr",
     "output_type": "stream",
     "text": [
      "2025/09/03 13:26:58 INFO dspy.evaluate.evaluate: Average Metric: 5.2 / 7 (74.3%)\n",
      "2025/09/03 13:26:58 INFO dspy.teleprompt.mipro_optimizer_v2: Score: 74.29 with parameters ['Predictor 0: Instruction 0', 'Predictor 0: Few-Shot Set 6'].\n",
      "2025/09/03 13:26:58 INFO dspy.teleprompt.mipro_optimizer_v2: Scores so far: [74.29, 65.71, 74.0, 74.29, 66.14, 66.14, 74.0, 61.43, 66.14, 66.14, 74.29, 74.29]\n",
      "2025/09/03 13:26:58 INFO dspy.teleprompt.mipro_optimizer_v2: Best score so far: 74.29\n",
      "2025/09/03 13:26:58 INFO dspy.teleprompt.mipro_optimizer_v2: =========================\n",
      "\n",
      "\n",
      "2025/09/03 13:26:58 INFO dspy.teleprompt.mipro_optimizer_v2: ===== Trial 13 / 18 =====\n"
     ]
    },
    {
     "name": "stdout",
     "output_type": "stream",
     "text": [
      "\n",
      "Average Metric: 5.20 / 7 (74.3%): 100%|█████████████████████████████████████████████████| 7/7 [00:00<00:00, 3851.52it/s]"
     ]
    },
    {
     "name": "stderr",
     "output_type": "stream",
     "text": [
      "2025/09/03 13:26:58 INFO dspy.evaluate.evaluate: Average Metric: 5.2 / 7 (74.3%)\n",
      "2025/09/03 13:26:58 INFO dspy.teleprompt.mipro_optimizer_v2: Score: 74.29 with parameters ['Predictor 0: Instruction 0', 'Predictor 0: Few-Shot Set 8'].\n",
      "2025/09/03 13:26:58 INFO dspy.teleprompt.mipro_optimizer_v2: Scores so far: [74.29, 65.71, 74.0, 74.29, 66.14, 66.14, 74.0, 61.43, 66.14, 66.14, 74.29, 74.29, 74.29]\n",
      "2025/09/03 13:26:58 INFO dspy.teleprompt.mipro_optimizer_v2: Best score so far: 74.29\n",
      "2025/09/03 13:26:58 INFO dspy.teleprompt.mipro_optimizer_v2: =========================\n",
      "\n",
      "\n",
      "2025/09/03 13:26:58 INFO dspy.teleprompt.mipro_optimizer_v2: ===== Trial 14 / 18 =====\n"
     ]
    },
    {
     "name": "stdout",
     "output_type": "stream",
     "text": [
      "\n",
      "Average Metric: 5.20 / 7 (74.3%): 100%|█████████████████████████████████████████████████| 7/7 [00:00<00:00, 3764.60it/s]"
     ]
    },
    {
     "name": "stderr",
     "output_type": "stream",
     "text": [
      "2025/09/03 13:26:58 INFO dspy.evaluate.evaluate: Average Metric: 5.2 / 7 (74.3%)\n",
      "2025/09/03 13:26:58 INFO dspy.teleprompt.mipro_optimizer_v2: Score: 74.29 with parameters ['Predictor 0: Instruction 0', 'Predictor 0: Few-Shot Set 9'].\n",
      "2025/09/03 13:26:58 INFO dspy.teleprompt.mipro_optimizer_v2: Scores so far: [74.29, 65.71, 74.0, 74.29, 66.14, 66.14, 74.0, 61.43, 66.14, 66.14, 74.29, 74.29, 74.29, 74.29]\n",
      "2025/09/03 13:26:58 INFO dspy.teleprompt.mipro_optimizer_v2: Best score so far: 74.29\n",
      "2025/09/03 13:26:58 INFO dspy.teleprompt.mipro_optimizer_v2: =========================\n",
      "\n",
      "\n",
      "2025/09/03 13:26:58 INFO dspy.teleprompt.mipro_optimizer_v2: ===== Trial 15 / 18 =====\n"
     ]
    },
    {
     "name": "stdout",
     "output_type": "stream",
     "text": [
      "\n",
      "Average Metric: 5.20 / 7 (74.3%): 100%|█████████████████████████████████████████████████| 7/7 [00:00<00:00, 3840.44it/s]"
     ]
    },
    {
     "name": "stderr",
     "output_type": "stream",
     "text": [
      "2025/09/03 13:26:58 INFO dspy.evaluate.evaluate: Average Metric: 5.2 / 7 (74.3%)\n",
      "2025/09/03 13:26:58 INFO dspy.teleprompt.mipro_optimizer_v2: Score: 74.29 with parameters ['Predictor 0: Instruction 0', 'Predictor 0: Few-Shot Set 7'].\n",
      "2025/09/03 13:26:58 INFO dspy.teleprompt.mipro_optimizer_v2: Scores so far: [74.29, 65.71, 74.0, 74.29, 66.14, 66.14, 74.0, 61.43, 66.14, 66.14, 74.29, 74.29, 74.29, 74.29, 74.29]\n",
      "2025/09/03 13:26:58 INFO dspy.teleprompt.mipro_optimizer_v2: Best score so far: 74.29\n",
      "2025/09/03 13:26:58 INFO dspy.teleprompt.mipro_optimizer_v2: =========================\n",
      "\n",
      "\n",
      "2025/09/03 13:26:58 INFO dspy.teleprompt.mipro_optimizer_v2: ===== Trial 16 / 18 =====\n"
     ]
    },
    {
     "name": "stdout",
     "output_type": "stream",
     "text": [
      "\n",
      "Average Metric: 4.60 / 7 (65.7%): 100%|█████████████████████████████████████████████████| 7/7 [00:00<00:00, 3856.58it/s]"
     ]
    },
    {
     "name": "stderr",
     "output_type": "stream",
     "text": [
      "2025/09/03 13:26:58 INFO dspy.evaluate.evaluate: Average Metric: 4.6 / 7 (65.7%)\n",
      "2025/09/03 13:26:58 INFO dspy.teleprompt.mipro_optimizer_v2: Score: 65.71 with parameters ['Predictor 0: Instruction 1', 'Predictor 0: Few-Shot Set 0'].\n",
      "2025/09/03 13:26:58 INFO dspy.teleprompt.mipro_optimizer_v2: Scores so far: [74.29, 65.71, 74.0, 74.29, 66.14, 66.14, 74.0, 61.43, 66.14, 66.14, 74.29, 74.29, 74.29, 74.29, 74.29, 65.71]\n",
      "2025/09/03 13:26:58 INFO dspy.teleprompt.mipro_optimizer_v2: Best score so far: 74.29\n",
      "2025/09/03 13:26:58 INFO dspy.teleprompt.mipro_optimizer_v2: =========================\n",
      "\n",
      "\n",
      "2025/09/03 13:26:58 INFO dspy.teleprompt.mipro_optimizer_v2: ===== Trial 17 / 18 =====\n"
     ]
    },
    {
     "name": "stdout",
     "output_type": "stream",
     "text": [
      "\n",
      "Average Metric: 5.20 / 7 (74.3%): 100%|█████████████████████████████████████████████████| 7/7 [00:00<00:00, 3359.67it/s]"
     ]
    },
    {
     "name": "stderr",
     "output_type": "stream",
     "text": [
      "2025/09/03 13:26:58 INFO dspy.evaluate.evaluate: Average Metric: 5.2 / 7 (74.3%)\n",
      "2025/09/03 13:26:58 INFO dspy.teleprompt.mipro_optimizer_v2: Score: 74.29 with parameters ['Predictor 0: Instruction 0', 'Predictor 0: Few-Shot Set 11'].\n",
      "2025/09/03 13:26:58 INFO dspy.teleprompt.mipro_optimizer_v2: Scores so far: [74.29, 65.71, 74.0, 74.29, 66.14, 66.14, 74.0, 61.43, 66.14, 66.14, 74.29, 74.29, 74.29, 74.29, 74.29, 65.71, 74.29]\n",
      "2025/09/03 13:26:58 INFO dspy.teleprompt.mipro_optimizer_v2: Best score so far: 74.29\n",
      "2025/09/03 13:26:58 INFO dspy.teleprompt.mipro_optimizer_v2: =========================\n",
      "\n",
      "\n",
      "2025/09/03 13:26:58 INFO dspy.teleprompt.mipro_optimizer_v2: ===== Trial 18 / 18 =====\n"
     ]
    },
    {
     "name": "stdout",
     "output_type": "stream",
     "text": [
      "\n",
      "Average Metric: 4.30 / 7 (61.4%): 100%|█████████████████████████████████████████████████| 7/7 [00:00<00:00, 3779.63it/s]"
     ]
    },
    {
     "name": "stderr",
     "output_type": "stream",
     "text": [
      "2025/09/03 13:26:58 INFO dspy.evaluate.evaluate: Average Metric: 4.3 / 7 (61.4%)\n",
      "2025/09/03 13:26:58 INFO dspy.teleprompt.mipro_optimizer_v2: Score: 61.43 with parameters ['Predictor 0: Instruction 5', 'Predictor 0: Few-Shot Set 0'].\n",
      "2025/09/03 13:26:58 INFO dspy.teleprompt.mipro_optimizer_v2: Scores so far: [74.29, 65.71, 74.0, 74.29, 66.14, 66.14, 74.0, 61.43, 66.14, 66.14, 74.29, 74.29, 74.29, 74.29, 74.29, 65.71, 74.29, 61.43]\n",
      "2025/09/03 13:26:58 INFO dspy.teleprompt.mipro_optimizer_v2: Best score so far: 74.29\n",
      "2025/09/03 13:26:58 INFO dspy.teleprompt.mipro_optimizer_v2: =========================\n",
      "\n",
      "\n",
      "2025/09/03 13:26:58 INFO dspy.teleprompt.mipro_optimizer_v2: ===== Trial 19 / 18 =====\n"
     ]
    },
    {
     "name": "stdout",
     "output_type": "stream",
     "text": [
      "\n",
      "Average Metric: 4.63 / 7 (66.1%): 100%|█████████████████████████████████████████████████| 7/7 [00:00<00:00, 3823.43it/s]"
     ]
    },
    {
     "name": "stderr",
     "output_type": "stream",
     "text": [
      "2025/09/03 13:26:58 INFO dspy.evaluate.evaluate: Average Metric: 4.63 / 7 (66.1%)\n",
      "2025/09/03 13:26:58 INFO dspy.teleprompt.mipro_optimizer_v2: Score: 66.14 with parameters ['Predictor 0: Instruction 2', 'Predictor 0: Few-Shot Set 0'].\n",
      "2025/09/03 13:26:58 INFO dspy.teleprompt.mipro_optimizer_v2: Scores so far: [74.29, 65.71, 74.0, 74.29, 66.14, 66.14, 74.0, 61.43, 66.14, 66.14, 74.29, 74.29, 74.29, 74.29, 74.29, 65.71, 74.29, 61.43, 66.14]\n",
      "2025/09/03 13:26:58 INFO dspy.teleprompt.mipro_optimizer_v2: Best score so far: 74.29\n",
      "2025/09/03 13:26:58 INFO dspy.teleprompt.mipro_optimizer_v2: =========================\n",
      "\n",
      "\n",
      "2025/09/03 13:26:58 INFO dspy.teleprompt.mipro_optimizer_v2: Returning best identified program with score 74.29!\n"
     ]
    },
    {
     "name": "stdout",
     "output_type": "stream",
     "text": [
      "\n"
     ]
    },
    {
     "name": "stderr",
     "output_type": "stream",
     "text": [
      "2025/09/03 13:26:58 INFO dspy.teleprompt.mipro_optimizer_v2: \n",
      "RUNNING WITH THE FOLLOWING MEDIUM AUTO RUN SETTINGS:\n",
      "num_trials: 18\n",
      "minibatch: False\n",
      "num_fewshot_candidates: 12\n",
      "num_instruct_candidates: 6\n",
      "valset size: 7\n",
      "\n",
      "2025/09/03 13:26:58 INFO dspy.teleprompt.mipro_optimizer_v2: \n",
      "==> STEP 1: BOOTSTRAP FEWSHOT EXAMPLES <==\n",
      "2025/09/03 13:26:58 INFO dspy.teleprompt.mipro_optimizer_v2: These will be used as few-shot example candidates for our program and for creating instructions.\n",
      "\n",
      "2025/09/03 13:26:58 INFO dspy.teleprompt.mipro_optimizer_v2: Bootstrapping N=12 sets of demonstrations...\n"
     ]
    },
    {
     "name": "stdout",
     "output_type": "stream",
     "text": [
      "Bootstrapping set 1/12\n",
      "Bootstrapping set 2/12\n",
      "Bootstrapping set 3/12\n"
     ]
    },
    {
     "name": "stderr",
     "output_type": "stream",
     "text": [
      "100%|█████████████████████████████████████████████████████████████████████████████████████| 2/2 [00:16<00:00,  8.10s/it]\n"
     ]
    },
    {
     "name": "stdout",
     "output_type": "stream",
     "text": [
      "Bootstrapped 0 full traces after 1 examples for up to 1 rounds, amounting to 2 attempts.\n",
      "Bootstrapping set 4/12\n"
     ]
    },
    {
     "name": "stderr",
     "output_type": "stream",
     "text": [
      "100%|████████████████████████████████████████████████████████████████████████████████████| 2/2 [00:00<00:00, 800.36it/s]\n"
     ]
    },
    {
     "name": "stdout",
     "output_type": "stream",
     "text": [
      "Bootstrapped 0 full traces after 1 examples for up to 1 rounds, amounting to 2 attempts.\n",
      "Bootstrapping set 5/12\n"
     ]
    },
    {
     "name": "stderr",
     "output_type": "stream",
     "text": [
      "100%|████████████████████████████████████████████████████████████████████████████████████| 2/2 [00:00<00:00, 894.50it/s]\n"
     ]
    },
    {
     "name": "stdout",
     "output_type": "stream",
     "text": [
      "Bootstrapped 0 full traces after 1 examples for up to 1 rounds, amounting to 2 attempts.\n",
      "Bootstrapping set 6/12\n"
     ]
    },
    {
     "name": "stderr",
     "output_type": "stream",
     "text": [
      "100%|████████████████████████████████████████████████████████████████████████████████████| 2/2 [00:00<00:00, 951.31it/s]\n"
     ]
    },
    {
     "name": "stdout",
     "output_type": "stream",
     "text": [
      "Bootstrapped 0 full traces after 1 examples for up to 1 rounds, amounting to 2 attempts.\n",
      "Bootstrapping set 7/12\n"
     ]
    },
    {
     "name": "stderr",
     "output_type": "stream",
     "text": [
      "100%|████████████████████████████████████████████████████████████████████████████████████| 2/2 [00:00<00:00, 937.27it/s]\n"
     ]
    },
    {
     "name": "stdout",
     "output_type": "stream",
     "text": [
      "Bootstrapped 0 full traces after 1 examples for up to 1 rounds, amounting to 2 attempts.\n",
      "Bootstrapping set 8/12\n"
     ]
    },
    {
     "name": "stderr",
     "output_type": "stream",
     "text": [
      "100%|████████████████████████████████████████████████████████████████████████████████████| 2/2 [00:00<00:00, 887.40it/s]\n"
     ]
    },
    {
     "name": "stdout",
     "output_type": "stream",
     "text": [
      "Bootstrapped 0 full traces after 1 examples for up to 1 rounds, amounting to 2 attempts.\n",
      "Bootstrapping set 9/12\n"
     ]
    },
    {
     "name": "stderr",
     "output_type": "stream",
     "text": [
      "100%|████████████████████████████████████████████████████████████████████████████████████| 2/2 [00:00<00:00, 914.89it/s]\n"
     ]
    },
    {
     "name": "stdout",
     "output_type": "stream",
     "text": [
      "Bootstrapped 0 full traces after 1 examples for up to 1 rounds, amounting to 2 attempts.\n",
      "Bootstrapping set 10/12\n"
     ]
    },
    {
     "name": "stderr",
     "output_type": "stream",
     "text": [
      "100%|████████████████████████████████████████████████████████████████████████████████████| 2/2 [00:00<00:00, 910.62it/s]\n"
     ]
    },
    {
     "name": "stdout",
     "output_type": "stream",
     "text": [
      "Bootstrapped 0 full traces after 1 examples for up to 1 rounds, amounting to 2 attempts.\n",
      "Bootstrapping set 11/12\n"
     ]
    },
    {
     "name": "stderr",
     "output_type": "stream",
     "text": [
      "100%|████████████████████████████████████████████████████████████████████████████████████| 2/2 [00:00<00:00, 916.09it/s]\n"
     ]
    },
    {
     "name": "stdout",
     "output_type": "stream",
     "text": [
      "Bootstrapped 0 full traces after 1 examples for up to 1 rounds, amounting to 2 attempts.\n",
      "Bootstrapping set 12/12\n"
     ]
    },
    {
     "name": "stderr",
     "output_type": "stream",
     "text": [
      "100%|████████████████████████████████████████████████████████████████████████████████████| 2/2 [00:00<00:00, 934.66it/s]\n",
      "2025/09/03 13:27:14 INFO dspy.teleprompt.mipro_optimizer_v2: \n",
      "==> STEP 2: PROPOSE INSTRUCTION CANDIDATES <==\n",
      "2025/09/03 13:27:14 INFO dspy.teleprompt.mipro_optimizer_v2: We will use the few-shot examples from the previous step, a generated dataset summary, a summary of the program code, and a randomly selected prompting tip to propose instructions.\n"
     ]
    },
    {
     "name": "stdout",
     "output_type": "stream",
     "text": [
      "Bootstrapped 0 full traces after 1 examples for up to 1 rounds, amounting to 2 attempts.\n"
     ]
    },
    {
     "name": "stderr",
     "output_type": "stream",
     "text": [
      "2025/09/03 13:27:29 INFO dspy.teleprompt.mipro_optimizer_v2: \n",
      "Proposing N=6 instructions...\n",
      "\n",
      "2025/09/03 13:27:47 INFO dspy.teleprompt.mipro_optimizer_v2: Proposed Instructions for Predictor 0:\n",
      "\n",
      "2025/09/03 13:27:47 INFO dspy.teleprompt.mipro_optimizer_v2: 0: Identifica il unico comune in cui si sono svolti i lavori archeologici descritti in questi frammenti di relazione. I comuni possibili sono indicati.\n",
      "\n",
      "2025/09/03 13:27:47 INFO dspy.teleprompt.mipro_optimizer_v2: 1: Analizza attentamente i seguenti frammenti di relazione archeologica. Tra i comuni elencati, determina con precisione quale è il luogo in cui si sono svolti gli scavi o le ricerche descritte. Fornisci una spiegazione dettagliata del tuo ragionamento, indicando quali elementi testuali ti hanno portato a questa conclusione. Infine, specifica il comune e la relativa provincia.\n",
      "\n",
      "2025/09/03 13:27:47 INFO dspy.teleprompt.mipro_optimizer_v2: 2: You are an expert archaeologist tasked with identifying the location of archaeological digs based on reports. You will be provided with fragments of archaeological reports and a list of possible Italian municipalities. Your task is to carefully analyze the report fragments and determine the *single* municipality where the archaeological work described took place.  Provide a step-by-step reasoning explaining how you arrived at your answer.  Finally, state the identified municipality and its corresponding province. Consider OCR errors and variations in place name spelling.\n",
      "\n",
      "Here's the format for your response:\n",
      "\n",
      "Reasoning: [Your detailed, step-by-step reasoning process]\n",
      "Comune: [The full name of the municipality]\n",
      "Provincia: [The full name of the province]\n",
      "\n",
      "Fragmenti Relazione: [The provided text fragments]\n",
      "Possibili Comuni: [The list of possible municipalities]\n",
      "\n",
      "2025/09/03 13:27:47 INFO dspy.teleprompt.mipro_optimizer_v2: 3: Analizza i seguenti frammenti di relazione archeologica e, tra i comuni elencati, determina con precisione in quale si sono svolti gli scavi o i lavori descritti. Fornisci anche la provincia corrispondente e spiega il tuo ragionamento passo dopo passo.\n",
      "\n",
      "2025/09/03 13:27:47 INFO dspy.teleprompt.mipro_optimizer_v2: 4: Analizza attentamente i seguenti frammenti di relazione archeologica. Determina il comune italiano in cui si sono svolti i lavori descritti, scegliendo tra i comuni forniti. Fornisci una spiegazione dettagliata del tuo ragionamento, indicando quali elementi dei frammenti ti hanno portato a questa conclusione. Infine, indica il comune e la sua provincia corrispondente. Se non sei sicuro o i frammenti non forniscono informazioni sufficienti, indica esplicitamente che non è possibile determinare il comune.\n",
      "\n",
      "2025/09/03 13:27:47 INFO dspy.teleprompt.mipro_optimizer_v2: 5: Analizza attentamente i seguenti frammenti di relazione archeologica. Tra i comuni elencati, determina quale è il più probabile luogo in cui si sono svolti gli scavi o le ricerche descritte. Fornisci una spiegazione passo passo del tuo ragionamento, indicando quali elementi dei frammenti ti hanno portato a questa conclusione. Infine, specifica il nome del comune e della provincia corrispondente.\n",
      "\n",
      "Fragmenti Relazione: [inserire frammenti qui]\n",
      "Possibili Comuni: [inserire lista comuni qui]\n",
      "\n",
      "Reasoning:\n",
      "Comune:\n",
      "Provincia:\n",
      "\n",
      "2025/09/03 13:27:47 INFO dspy.teleprompt.mipro_optimizer_v2: \n",
      "\n",
      "2025/09/03 13:27:47 INFO dspy.teleprompt.mipro_optimizer_v2: ==> STEP 3: FINDING OPTIMAL PROMPT PARAMETERS <==\n",
      "2025/09/03 13:27:47 INFO dspy.teleprompt.mipro_optimizer_v2: We will evaluate the program over a series of trials with different combinations of instructions and few-shot examples to find the optimal combination using Bayesian Optimization.\n",
      "\n",
      "2025/09/03 13:27:47 INFO dspy.teleprompt.mipro_optimizer_v2: == Trial 1 / 18 - Full Evaluation of Default Program ==\n"
     ]
    },
    {
     "name": "stdout",
     "output_type": "stream",
     "text": [
      "Average Metric: 4.00 / 7 (57.1%): 100%|███████████████████████████████████████████████████| 7/7 [00:10<00:00,  1.56s/it]"
     ]
    },
    {
     "name": "stderr",
     "output_type": "stream",
     "text": [
      "2025/09/03 13:27:58 INFO dspy.evaluate.evaluate: Average Metric: 4.0 / 7 (57.1%)\n",
      "2025/09/03 13:27:58 INFO dspy.teleprompt.mipro_optimizer_v2: Default program score: 57.14\n",
      "\n",
      "2025/09/03 13:27:58 INFO dspy.teleprompt.mipro_optimizer_v2: ===== Trial 2 / 18 =====\n"
     ]
    },
    {
     "name": "stdout",
     "output_type": "stream",
     "text": [
      "\n",
      "Average Metric: 4.60 / 7 (65.7%): 100%|███████████████████████████████████████████████████| 7/7 [00:10<00:00,  1.55s/it]"
     ]
    },
    {
     "name": "stderr",
     "output_type": "stream",
     "text": [
      "2025/09/03 13:28:09 INFO dspy.evaluate.evaluate: Average Metric: 4.6 / 7 (65.7%)\n",
      "2025/09/03 13:28:09 INFO dspy.teleprompt.mipro_optimizer_v2: \u001b[92mBest full score so far!\u001b[0m Score: 65.71\n",
      "2025/09/03 13:28:09 INFO dspy.teleprompt.mipro_optimizer_v2: Score: 65.71 with parameters ['Predictor 0: Instruction 1', 'Predictor 0: Few-Shot Set 6'].\n",
      "2025/09/03 13:28:09 INFO dspy.teleprompt.mipro_optimizer_v2: Scores so far: [57.14, 65.71]\n",
      "2025/09/03 13:28:09 INFO dspy.teleprompt.mipro_optimizer_v2: Best score so far: 65.71\n",
      "2025/09/03 13:28:09 INFO dspy.teleprompt.mipro_optimizer_v2: ========================\n",
      "\n",
      "\n",
      "2025/09/03 13:28:09 INFO dspy.teleprompt.mipro_optimizer_v2: ===== Trial 3 / 18 =====\n"
     ]
    },
    {
     "name": "stdout",
     "output_type": "stream",
     "text": [
      "\n",
      "Average Metric: 4.30 / 7 (61.4%): 100%|███████████████████████████████████████████████████| 7/7 [00:09<00:00,  1.39s/it]"
     ]
    },
    {
     "name": "stderr",
     "output_type": "stream",
     "text": [
      "2025/09/03 13:28:19 INFO dspy.evaluate.evaluate: Average Metric: 4.3 / 7 (61.4%)\n",
      "2025/09/03 13:28:19 INFO dspy.teleprompt.mipro_optimizer_v2: Score: 61.43 with parameters ['Predictor 0: Instruction 4', 'Predictor 0: Few-Shot Set 2'].\n",
      "2025/09/03 13:28:19 INFO dspy.teleprompt.mipro_optimizer_v2: Scores so far: [57.14, 65.71, 61.43]\n",
      "2025/09/03 13:28:19 INFO dspy.teleprompt.mipro_optimizer_v2: Best score so far: 65.71\n",
      "2025/09/03 13:28:19 INFO dspy.teleprompt.mipro_optimizer_v2: ========================\n",
      "\n",
      "\n",
      "2025/09/03 13:28:19 INFO dspy.teleprompt.mipro_optimizer_v2: ===== Trial 4 / 18 =====\n"
     ]
    },
    {
     "name": "stdout",
     "output_type": "stream",
     "text": [
      "\n",
      "Average Metric: 4.60 / 7 (65.7%): 100%|███████████████████████████████████████████████████| 7/7 [00:10<00:00,  1.50s/it]"
     ]
    },
    {
     "name": "stderr",
     "output_type": "stream",
     "text": [
      "2025/09/03 13:28:29 INFO dspy.evaluate.evaluate: Average Metric: 4.6 / 7 (65.7%)\n",
      "2025/09/03 13:28:29 INFO dspy.teleprompt.mipro_optimizer_v2: Score: 65.71 with parameters ['Predictor 0: Instruction 0', 'Predictor 0: Few-Shot Set 6'].\n",
      "2025/09/03 13:28:29 INFO dspy.teleprompt.mipro_optimizer_v2: Scores so far: [57.14, 65.71, 61.43, 65.71]\n",
      "2025/09/03 13:28:29 INFO dspy.teleprompt.mipro_optimizer_v2: Best score so far: 65.71\n",
      "2025/09/03 13:28:29 INFO dspy.teleprompt.mipro_optimizer_v2: ========================\n",
      "\n",
      "\n",
      "2025/09/03 13:28:29 INFO dspy.teleprompt.mipro_optimizer_v2: ===== Trial 5 / 18 =====\n"
     ]
    },
    {
     "name": "stdout",
     "output_type": "stream",
     "text": [
      "\n",
      "Average Metric: 4.60 / 7 (65.7%): 100%|███████████████████████████████████████████████████| 7/7 [00:10<00:00,  1.57s/it]"
     ]
    },
    {
     "name": "stderr",
     "output_type": "stream",
     "text": [
      "2025/09/03 13:28:40 INFO dspy.evaluate.evaluate: Average Metric: 4.6 / 7 (65.7%)\n",
      "2025/09/03 13:28:40 INFO dspy.teleprompt.mipro_optimizer_v2: Score: 65.71 with parameters ['Predictor 0: Instruction 2', 'Predictor 0: Few-Shot Set 4'].\n",
      "2025/09/03 13:28:40 INFO dspy.teleprompt.mipro_optimizer_v2: Scores so far: [57.14, 65.71, 61.43, 65.71, 65.71]\n",
      "2025/09/03 13:28:40 INFO dspy.teleprompt.mipro_optimizer_v2: Best score so far: 65.71\n",
      "2025/09/03 13:28:40 INFO dspy.teleprompt.mipro_optimizer_v2: ========================\n",
      "\n",
      "\n",
      "2025/09/03 13:28:40 INFO dspy.teleprompt.mipro_optimizer_v2: ===== Trial 6 / 18 =====\n"
     ]
    },
    {
     "name": "stdout",
     "output_type": "stream",
     "text": [
      "\n",
      "Average Metric: 4.90 / 7 (70.0%): 100%|███████████████████████████████████████████████████| 7/7 [00:10<00:00,  1.49s/it]"
     ]
    },
    {
     "name": "stderr",
     "output_type": "stream",
     "text": [
      "2025/09/03 13:28:51 INFO dspy.evaluate.evaluate: Average Metric: 4.9 / 7 (70.0%)\n",
      "2025/09/03 13:28:51 INFO dspy.teleprompt.mipro_optimizer_v2: \u001b[92mBest full score so far!\u001b[0m Score: 70.0\n",
      "2025/09/03 13:28:51 INFO dspy.teleprompt.mipro_optimizer_v2: Score: 70.0 with parameters ['Predictor 0: Instruction 3', 'Predictor 0: Few-Shot Set 5'].\n",
      "2025/09/03 13:28:51 INFO dspy.teleprompt.mipro_optimizer_v2: Scores so far: [57.14, 65.71, 61.43, 65.71, 65.71, 70.0]\n",
      "2025/09/03 13:28:51 INFO dspy.teleprompt.mipro_optimizer_v2: Best score so far: 70.0\n",
      "2025/09/03 13:28:51 INFO dspy.teleprompt.mipro_optimizer_v2: ========================\n",
      "\n",
      "\n",
      "2025/09/03 13:28:51 INFO dspy.teleprompt.mipro_optimizer_v2: ===== Trial 7 / 18 =====\n"
     ]
    },
    {
     "name": "stdout",
     "output_type": "stream",
     "text": [
      "\n",
      "Average Metric: 5.60 / 7 (80.0%): 100%|███████████████████████████████████████████████████| 7/7 [00:11<00:00,  1.60s/it]"
     ]
    },
    {
     "name": "stderr",
     "output_type": "stream",
     "text": [
      "2025/09/03 13:29:02 INFO dspy.evaluate.evaluate: Average Metric: 5.6 / 7 (80.0%)\n",
      "2025/09/03 13:29:02 INFO dspy.teleprompt.mipro_optimizer_v2: \u001b[92mBest full score so far!\u001b[0m Score: 80.0\n",
      "2025/09/03 13:29:02 INFO dspy.teleprompt.mipro_optimizer_v2: Score: 80.0 with parameters ['Predictor 0: Instruction 4', 'Predictor 0: Few-Shot Set 6'].\n",
      "2025/09/03 13:29:02 INFO dspy.teleprompt.mipro_optimizer_v2: Scores so far: [57.14, 65.71, 61.43, 65.71, 65.71, 70.0, 80.0]\n",
      "2025/09/03 13:29:02 INFO dspy.teleprompt.mipro_optimizer_v2: Best score so far: 80.0\n",
      "2025/09/03 13:29:02 INFO dspy.teleprompt.mipro_optimizer_v2: ========================\n",
      "\n",
      "\n",
      "2025/09/03 13:29:02 INFO dspy.teleprompt.mipro_optimizer_v2: ===== Trial 8 / 18 =====\n"
     ]
    },
    {
     "name": "stdout",
     "output_type": "stream",
     "text": [
      "\n",
      "Average Metric: 4.30 / 7 (61.4%): 100%|███████████████████████████████████████████████████| 7/7 [00:10<00:00,  1.48s/it]"
     ]
    },
    {
     "name": "stderr",
     "output_type": "stream",
     "text": [
      "2025/09/03 13:29:12 INFO dspy.evaluate.evaluate: Average Metric: 4.3 / 7 (61.4%)\n",
      "2025/09/03 13:29:12 INFO dspy.teleprompt.mipro_optimizer_v2: Score: 61.43 with parameters ['Predictor 0: Instruction 5', 'Predictor 0: Few-Shot Set 1'].\n",
      "2025/09/03 13:29:12 INFO dspy.teleprompt.mipro_optimizer_v2: Scores so far: [57.14, 65.71, 61.43, 65.71, 65.71, 70.0, 80.0, 61.43]\n",
      "2025/09/03 13:29:12 INFO dspy.teleprompt.mipro_optimizer_v2: Best score so far: 80.0\n",
      "2025/09/03 13:29:12 INFO dspy.teleprompt.mipro_optimizer_v2: ========================\n",
      "\n",
      "\n",
      "2025/09/03 13:29:12 INFO dspy.teleprompt.mipro_optimizer_v2: ===== Trial 9 / 18 =====\n"
     ]
    },
    {
     "name": "stdout",
     "output_type": "stream",
     "text": [
      "\n",
      "Average Metric: 4.30 / 7 (61.4%): 100%|███████████████████████████████████████████████████| 7/7 [00:10<00:00,  1.51s/it]"
     ]
    },
    {
     "name": "stderr",
     "output_type": "stream",
     "text": [
      "2025/09/03 13:29:23 INFO dspy.evaluate.evaluate: Average Metric: 4.3 / 7 (61.4%)\n",
      "2025/09/03 13:29:23 INFO dspy.teleprompt.mipro_optimizer_v2: Score: 61.43 with parameters ['Predictor 0: Instruction 3', 'Predictor 0: Few-Shot Set 3'].\n",
      "2025/09/03 13:29:23 INFO dspy.teleprompt.mipro_optimizer_v2: Scores so far: [57.14, 65.71, 61.43, 65.71, 65.71, 70.0, 80.0, 61.43, 61.43]\n",
      "2025/09/03 13:29:23 INFO dspy.teleprompt.mipro_optimizer_v2: Best score so far: 80.0\n",
      "2025/09/03 13:29:23 INFO dspy.teleprompt.mipro_optimizer_v2: ========================\n",
      "\n",
      "\n",
      "2025/09/03 13:29:23 INFO dspy.teleprompt.mipro_optimizer_v2: ===== Trial 10 / 18 =====\n"
     ]
    },
    {
     "name": "stdout",
     "output_type": "stream",
     "text": [
      "\n",
      "Average Metric: 4.90 / 7 (70.0%): 100%|█████████████████████████████████████████████████| 7/7 [00:00<00:00, 4034.65it/s]"
     ]
    },
    {
     "name": "stderr",
     "output_type": "stream",
     "text": [
      "2025/09/03 13:29:23 INFO dspy.evaluate.evaluate: Average Metric: 4.9 / 7 (70.0%)\n",
      "2025/09/03 13:29:23 INFO dspy.teleprompt.mipro_optimizer_v2: Score: 70.0 with parameters ['Predictor 0: Instruction 3', 'Predictor 0: Few-Shot Set 10'].\n",
      "2025/09/03 13:29:23 INFO dspy.teleprompt.mipro_optimizer_v2: Scores so far: [57.14, 65.71, 61.43, 65.71, 65.71, 70.0, 80.0, 61.43, 61.43, 70.0]\n",
      "2025/09/03 13:29:23 INFO dspy.teleprompt.mipro_optimizer_v2: Best score so far: 80.0\n",
      "2025/09/03 13:29:23 INFO dspy.teleprompt.mipro_optimizer_v2: =========================\n",
      "\n",
      "\n",
      "2025/09/03 13:29:23 INFO dspy.teleprompt.mipro_optimizer_v2: ===== Trial 11 / 18 =====\n"
     ]
    },
    {
     "name": "stdout",
     "output_type": "stream",
     "text": [
      "\n",
      "Average Metric: 4.30 / 7 (61.4%): 100%|█████████████████████████████████████████████████| 7/7 [00:00<00:00, 3840.44it/s]"
     ]
    },
    {
     "name": "stderr",
     "output_type": "stream",
     "text": [
      "2025/09/03 13:29:23 INFO dspy.evaluate.evaluate: Average Metric: 4.3 / 7 (61.4%)\n",
      "2025/09/03 13:29:23 INFO dspy.teleprompt.mipro_optimizer_v2: Score: 61.43 with parameters ['Predictor 0: Instruction 4', 'Predictor 0: Few-Shot Set 11'].\n",
      "2025/09/03 13:29:23 INFO dspy.teleprompt.mipro_optimizer_v2: Scores so far: [57.14, 65.71, 61.43, 65.71, 65.71, 70.0, 80.0, 61.43, 61.43, 70.0, 61.43]\n",
      "2025/09/03 13:29:23 INFO dspy.teleprompt.mipro_optimizer_v2: Best score so far: 80.0\n",
      "2025/09/03 13:29:23 INFO dspy.teleprompt.mipro_optimizer_v2: =========================\n",
      "\n",
      "\n",
      "2025/09/03 13:29:23 INFO dspy.teleprompt.mipro_optimizer_v2: ===== Trial 12 / 18 =====\n"
     ]
    },
    {
     "name": "stdout",
     "output_type": "stream",
     "text": [
      "\n",
      "Average Metric: 4.90 / 7 (70.0%): 100%|█████████████████████████████████████████████████| 7/7 [00:00<00:00, 3331.46it/s]"
     ]
    },
    {
     "name": "stderr",
     "output_type": "stream",
     "text": [
      "2025/09/03 13:29:23 INFO dspy.evaluate.evaluate: Average Metric: 4.9 / 7 (70.0%)\n",
      "2025/09/03 13:29:23 INFO dspy.teleprompt.mipro_optimizer_v2: Score: 70.0 with parameters ['Predictor 0: Instruction 3', 'Predictor 0: Few-Shot Set 5'].\n",
      "2025/09/03 13:29:23 INFO dspy.teleprompt.mipro_optimizer_v2: Scores so far: [57.14, 65.71, 61.43, 65.71, 65.71, 70.0, 80.0, 61.43, 61.43, 70.0, 61.43, 70.0]\n",
      "2025/09/03 13:29:23 INFO dspy.teleprompt.mipro_optimizer_v2: Best score so far: 80.0\n",
      "2025/09/03 13:29:23 INFO dspy.teleprompt.mipro_optimizer_v2: =========================\n",
      "\n",
      "\n",
      "2025/09/03 13:29:23 INFO dspy.teleprompt.mipro_optimizer_v2: ===== Trial 13 / 18 =====\n"
     ]
    },
    {
     "name": "stdout",
     "output_type": "stream",
     "text": [
      "\n",
      "Average Metric: 5.60 / 7 (80.0%): 100%|█████████████████████████████████████████████████| 7/7 [00:00<00:00, 3918.34it/s]"
     ]
    },
    {
     "name": "stderr",
     "output_type": "stream",
     "text": [
      "2025/09/03 13:29:23 INFO dspy.evaluate.evaluate: Average Metric: 5.6 / 7 (80.0%)\n",
      "2025/09/03 13:29:23 INFO dspy.teleprompt.mipro_optimizer_v2: Score: 80.0 with parameters ['Predictor 0: Instruction 4', 'Predictor 0: Few-Shot Set 6'].\n",
      "2025/09/03 13:29:23 INFO dspy.teleprompt.mipro_optimizer_v2: Scores so far: [57.14, 65.71, 61.43, 65.71, 65.71, 70.0, 80.0, 61.43, 61.43, 70.0, 61.43, 70.0, 80.0]\n",
      "2025/09/03 13:29:23 INFO dspy.teleprompt.mipro_optimizer_v2: Best score so far: 80.0\n",
      "2025/09/03 13:29:23 INFO dspy.teleprompt.mipro_optimizer_v2: =========================\n",
      "\n",
      "\n",
      "2025/09/03 13:29:23 INFO dspy.teleprompt.mipro_optimizer_v2: ===== Trial 14 / 18 =====\n"
     ]
    },
    {
     "name": "stdout",
     "output_type": "stream",
     "text": [
      "\n",
      "Average Metric: 5.60 / 7 (80.0%): 100%|█████████████████████████████████████████████████| 7/7 [00:00<00:00, 3917.82it/s]"
     ]
    },
    {
     "name": "stderr",
     "output_type": "stream",
     "text": [
      "2025/09/03 13:29:23 INFO dspy.evaluate.evaluate: Average Metric: 5.6 / 7 (80.0%)\n",
      "2025/09/03 13:29:23 INFO dspy.teleprompt.mipro_optimizer_v2: Score: 80.0 with parameters ['Predictor 0: Instruction 4', 'Predictor 0: Few-Shot Set 6'].\n",
      "2025/09/03 13:29:23 INFO dspy.teleprompt.mipro_optimizer_v2: Scores so far: [57.14, 65.71, 61.43, 65.71, 65.71, 70.0, 80.0, 61.43, 61.43, 70.0, 61.43, 70.0, 80.0, 80.0]\n",
      "2025/09/03 13:29:23 INFO dspy.teleprompt.mipro_optimizer_v2: Best score so far: 80.0\n",
      "2025/09/03 13:29:23 INFO dspy.teleprompt.mipro_optimizer_v2: =========================\n",
      "\n",
      "\n",
      "2025/09/03 13:29:23 INFO dspy.teleprompt.mipro_optimizer_v2: ===== Trial 15 / 18 =====\n"
     ]
    },
    {
     "name": "stdout",
     "output_type": "stream",
     "text": [
      "\n",
      "Average Metric: 5.60 / 7 (80.0%): 100%|█████████████████████████████████████████████████| 7/7 [00:00<00:00, 3201.06it/s]"
     ]
    },
    {
     "name": "stderr",
     "output_type": "stream",
     "text": [
      "2025/09/03 13:29:23 INFO dspy.evaluate.evaluate: Average Metric: 5.6 / 7 (80.0%)\n",
      "2025/09/03 13:29:23 INFO dspy.teleprompt.mipro_optimizer_v2: Score: 80.0 with parameters ['Predictor 0: Instruction 4', 'Predictor 0: Few-Shot Set 8'].\n",
      "2025/09/03 13:29:23 INFO dspy.teleprompt.mipro_optimizer_v2: Scores so far: [57.14, 65.71, 61.43, 65.71, 65.71, 70.0, 80.0, 61.43, 61.43, 70.0, 61.43, 70.0, 80.0, 80.0, 80.0]\n",
      "2025/09/03 13:29:23 INFO dspy.teleprompt.mipro_optimizer_v2: Best score so far: 80.0\n",
      "2025/09/03 13:29:23 INFO dspy.teleprompt.mipro_optimizer_v2: =========================\n",
      "\n",
      "\n",
      "2025/09/03 13:29:23 INFO dspy.teleprompt.mipro_optimizer_v2: ===== Trial 16 / 18 =====\n"
     ]
    },
    {
     "name": "stdout",
     "output_type": "stream",
     "text": [
      "\n",
      "Average Metric: 4.60 / 7 (65.7%): 100%|███████████████████████████████████████████████████| 7/7 [00:11<00:00,  1.62s/it]"
     ]
    },
    {
     "name": "stderr",
     "output_type": "stream",
     "text": [
      "2025/09/03 13:29:34 INFO dspy.evaluate.evaluate: Average Metric: 4.6 / 7 (65.7%)\n",
      "2025/09/03 13:29:34 INFO dspy.teleprompt.mipro_optimizer_v2: Score: 65.71 with parameters ['Predictor 0: Instruction 5', 'Predictor 0: Few-Shot Set 9'].\n",
      "2025/09/03 13:29:34 INFO dspy.teleprompt.mipro_optimizer_v2: Scores so far: [57.14, 65.71, 61.43, 65.71, 65.71, 70.0, 80.0, 61.43, 61.43, 70.0, 61.43, 70.0, 80.0, 80.0, 80.0, 65.71]\n",
      "2025/09/03 13:29:34 INFO dspy.teleprompt.mipro_optimizer_v2: Best score so far: 80.0\n",
      "2025/09/03 13:29:34 INFO dspy.teleprompt.mipro_optimizer_v2: =========================\n",
      "\n",
      "\n",
      "2025/09/03 13:29:34 INFO dspy.teleprompt.mipro_optimizer_v2: ===== Trial 17 / 18 =====\n"
     ]
    },
    {
     "name": "stdout",
     "output_type": "stream",
     "text": [
      "\n",
      "Average Metric: 4.60 / 7 (65.7%): 100%|█████████████████████████████████████████████████| 7/7 [00:00<00:00, 3235.63it/s]"
     ]
    },
    {
     "name": "stderr",
     "output_type": "stream",
     "text": [
      "2025/09/03 13:29:34 INFO dspy.evaluate.evaluate: Average Metric: 4.6 / 7 (65.7%)\n",
      "2025/09/03 13:29:34 INFO dspy.teleprompt.mipro_optimizer_v2: Score: 65.71 with parameters ['Predictor 0: Instruction 2', 'Predictor 0: Few-Shot Set 6'].\n",
      "2025/09/03 13:29:34 INFO dspy.teleprompt.mipro_optimizer_v2: Scores so far: [57.14, 65.71, 61.43, 65.71, 65.71, 70.0, 80.0, 61.43, 61.43, 70.0, 61.43, 70.0, 80.0, 80.0, 80.0, 65.71, 65.71]\n",
      "2025/09/03 13:29:34 INFO dspy.teleprompt.mipro_optimizer_v2: Best score so far: 80.0\n",
      "2025/09/03 13:29:34 INFO dspy.teleprompt.mipro_optimizer_v2: =========================\n",
      "\n",
      "\n",
      "2025/09/03 13:29:34 INFO dspy.teleprompt.mipro_optimizer_v2: ===== Trial 18 / 18 =====\n"
     ]
    },
    {
     "name": "stdout",
     "output_type": "stream",
     "text": [
      "\n",
      "Average Metric: 4.30 / 7 (61.4%): 100%|█████████████████████████████████████████████████| 7/7 [00:00<00:00, 3976.18it/s]"
     ]
    },
    {
     "name": "stderr",
     "output_type": "stream",
     "text": [
      "2025/09/03 13:29:34 INFO dspy.evaluate.evaluate: Average Metric: 4.3 / 7 (61.4%)\n",
      "2025/09/03 13:29:34 INFO dspy.teleprompt.mipro_optimizer_v2: Score: 61.43 with parameters ['Predictor 0: Instruction 4', 'Predictor 0: Few-Shot Set 3'].\n",
      "2025/09/03 13:29:34 INFO dspy.teleprompt.mipro_optimizer_v2: Scores so far: [57.14, 65.71, 61.43, 65.71, 65.71, 70.0, 80.0, 61.43, 61.43, 70.0, 61.43, 70.0, 80.0, 80.0, 80.0, 65.71, 65.71, 61.43]\n",
      "2025/09/03 13:29:34 INFO dspy.teleprompt.mipro_optimizer_v2: Best score so far: 80.0\n",
      "2025/09/03 13:29:34 INFO dspy.teleprompt.mipro_optimizer_v2: =========================\n",
      "\n",
      "\n",
      "2025/09/03 13:29:34 INFO dspy.teleprompt.mipro_optimizer_v2: ===== Trial 19 / 18 =====\n"
     ]
    },
    {
     "name": "stdout",
     "output_type": "stream",
     "text": [
      "\n",
      "Average Metric: 4.30 / 7 (61.4%): 100%|███████████████████████████████████████████████████| 7/7 [00:12<00:00,  1.75s/it]"
     ]
    },
    {
     "name": "stderr",
     "output_type": "stream",
     "text": [
      "2025/09/03 13:29:47 INFO dspy.evaluate.evaluate: Average Metric: 4.3 / 7 (61.4%)\n",
      "2025/09/03 13:29:47 INFO dspy.teleprompt.mipro_optimizer_v2: Score: 61.43 with parameters ['Predictor 0: Instruction 4', 'Predictor 0: Few-Shot Set 0'].\n",
      "2025/09/03 13:29:47 INFO dspy.teleprompt.mipro_optimizer_v2: Scores so far: [57.14, 65.71, 61.43, 65.71, 65.71, 70.0, 80.0, 61.43, 61.43, 70.0, 61.43, 70.0, 80.0, 80.0, 80.0, 65.71, 65.71, 61.43, 61.43]\n",
      "2025/09/03 13:29:47 INFO dspy.teleprompt.mipro_optimizer_v2: Best score so far: 80.0\n",
      "2025/09/03 13:29:47 INFO dspy.teleprompt.mipro_optimizer_v2: =========================\n",
      "\n",
      "\n",
      "2025/09/03 13:29:47 INFO dspy.teleprompt.mipro_optimizer_v2: Returning best identified program with score 80.0!\n"
     ]
    },
    {
     "name": "stdout",
     "output_type": "stream",
     "text": [
      "\n"
     ]
    },
    {
     "name": "stderr",
     "output_type": "stream",
     "text": [
      "NER analysing:   0%|                                                  | 0/39 [00:00<?, ?Fraction of total text chunks/s]"
     ]
    },
    {
     "name": "stdout",
     "output_type": "stream",
     "text": [
      "Fetching the transformers model\n"
     ]
    },
    {
     "name": "stderr",
     "output_type": "stream",
     "text": [
      "NER analysing:   3%|█                                         | 1/39 [00:00<00:26,  1.41Fraction of total text chunks/s]"
     ]
    },
    {
     "name": "stdout",
     "output_type": "stream",
     "text": [
      "Fetching the transformers model\n"
     ]
    },
    {
     "name": "stderr",
     "output_type": "stream",
     "text": [
      "NER analysing:   5%|██▏                                       | 2/39 [00:01<00:26,  1.40Fraction of total text chunks/s]"
     ]
    },
    {
     "name": "stdout",
     "output_type": "stream",
     "text": [
      "Fetching the transformers model\n"
     ]
    },
    {
     "name": "stderr",
     "output_type": "stream",
     "text": [
      "NER analysing:   8%|███▏                                      | 3/39 [00:02<00:25,  1.43Fraction of total text chunks/s]"
     ]
    },
    {
     "name": "stdout",
     "output_type": "stream",
     "text": [
      "Fetching the transformers model\n"
     ]
    },
    {
     "name": "stderr",
     "output_type": "stream",
     "text": [
      "NER analysing:  10%|████▎                                     | 4/39 [00:02<00:23,  1.46Fraction of total text chunks/s]"
     ]
    },
    {
     "name": "stdout",
     "output_type": "stream",
     "text": [
      "Fetching the transformers model\n"
     ]
    },
    {
     "name": "stderr",
     "output_type": "stream",
     "text": [
      "NER analysing:  13%|█████▍                                    | 5/39 [00:03<00:23,  1.46Fraction of total text chunks/s]"
     ]
    },
    {
     "name": "stdout",
     "output_type": "stream",
     "text": [
      "Fetching the transformers model\n"
     ]
    },
    {
     "name": "stderr",
     "output_type": "stream",
     "text": [
      "NER analysing:  15%|██████▍                                   | 6/39 [00:04<00:24,  1.33Fraction of total text chunks/s]"
     ]
    },
    {
     "name": "stdout",
     "output_type": "stream",
     "text": [
      "Fetching the transformers model\n"
     ]
    },
    {
     "name": "stderr",
     "output_type": "stream",
     "text": [
      "NER analysing:  18%|███████▌                                  | 7/39 [00:05<00:24,  1.28Fraction of total text chunks/s]"
     ]
    },
    {
     "name": "stdout",
     "output_type": "stream",
     "text": [
      "Fetching the transformers model\n"
     ]
    },
    {
     "name": "stderr",
     "output_type": "stream",
     "text": [
      "NER analysing:  21%|████████▌                                 | 8/39 [00:06<00:25,  1.23Fraction of total text chunks/s]"
     ]
    },
    {
     "name": "stdout",
     "output_type": "stream",
     "text": [
      "Fetching the transformers model\n"
     ]
    },
    {
     "name": "stderr",
     "output_type": "stream",
     "text": [
      "NER analysing:  23%|█████████▋                                | 9/39 [00:06<00:25,  1.20Fraction of total text chunks/s]"
     ]
    },
    {
     "name": "stdout",
     "output_type": "stream",
     "text": [
      "Fetching the transformers model\n"
     ]
    },
    {
     "name": "stderr",
     "output_type": "stream",
     "text": [
      "NER analysing:  26%|██████████▌                              | 10/39 [00:07<00:23,  1.21Fraction of total text chunks/s]"
     ]
    },
    {
     "name": "stdout",
     "output_type": "stream",
     "text": [
      "Fetching the transformers model\n"
     ]
    },
    {
     "name": "stderr",
     "output_type": "stream",
     "text": [
      "NER analysing:  28%|███████████▌                             | 11/39 [00:08<00:22,  1.23Fraction of total text chunks/s]"
     ]
    },
    {
     "name": "stdout",
     "output_type": "stream",
     "text": [
      "Fetching the transformers model\n"
     ]
    },
    {
     "name": "stderr",
     "output_type": "stream",
     "text": [
      "NER analysing:  31%|████████████▌                            | 12/39 [00:09<00:21,  1.24Fraction of total text chunks/s]"
     ]
    },
    {
     "name": "stdout",
     "output_type": "stream",
     "text": [
      "Fetching the transformers model\n"
     ]
    },
    {
     "name": "stderr",
     "output_type": "stream",
     "text": [
      "NER analysing:  33%|█████████████▋                           | 13/39 [00:10<00:20,  1.29Fraction of total text chunks/s]"
     ]
    },
    {
     "name": "stdout",
     "output_type": "stream",
     "text": [
      "Fetching the transformers model\n"
     ]
    },
    {
     "name": "stderr",
     "output_type": "stream",
     "text": [
      "NER analysing:  36%|██████████████▋                          | 14/39 [00:10<00:18,  1.32Fraction of total text chunks/s]"
     ]
    },
    {
     "name": "stdout",
     "output_type": "stream",
     "text": [
      "Fetching the transformers model\n"
     ]
    },
    {
     "name": "stderr",
     "output_type": "stream",
     "text": [
      "NER analysing:  38%|███████████████▊                         | 15/39 [00:11<00:17,  1.35Fraction of total text chunks/s]"
     ]
    },
    {
     "name": "stdout",
     "output_type": "stream",
     "text": [
      "Fetching the transformers model\n"
     ]
    },
    {
     "name": "stderr",
     "output_type": "stream",
     "text": [
      "NER analysing:  41%|████████████████▊                        | 16/39 [00:12<00:17,  1.31Fraction of total text chunks/s]"
     ]
    },
    {
     "name": "stdout",
     "output_type": "stream",
     "text": [
      "Fetching the transformers model\n"
     ]
    },
    {
     "name": "stderr",
     "output_type": "stream",
     "text": [
      "NER analysing:  44%|█████████████████▊                       | 17/39 [00:12<00:16,  1.35Fraction of total text chunks/s]"
     ]
    },
    {
     "name": "stdout",
     "output_type": "stream",
     "text": [
      "Fetching the transformers model\n"
     ]
    },
    {
     "name": "stderr",
     "output_type": "stream",
     "text": [
      "NER analysing:  46%|██████████████████▉                      | 18/39 [00:13<00:16,  1.27Fraction of total text chunks/s]"
     ]
    },
    {
     "name": "stdout",
     "output_type": "stream",
     "text": [
      "Fetching the transformers model\n"
     ]
    },
    {
     "name": "stderr",
     "output_type": "stream",
     "text": [
      "NER analysing:  49%|███████████████████▉                     | 19/39 [00:14<00:16,  1.24Fraction of total text chunks/s]"
     ]
    },
    {
     "name": "stdout",
     "output_type": "stream",
     "text": [
      "Fetching the transformers model\n"
     ]
    },
    {
     "name": "stderr",
     "output_type": "stream",
     "text": [
      "NER analysing:  51%|█████████████████████                    | 20/39 [00:15<00:15,  1.20Fraction of total text chunks/s]"
     ]
    },
    {
     "name": "stdout",
     "output_type": "stream",
     "text": [
      "Fetching the transformers model\n"
     ]
    },
    {
     "name": "stderr",
     "output_type": "stream",
     "text": [
      "NER analysing:  54%|██████████████████████                   | 21/39 [00:16<00:14,  1.22Fraction of total text chunks/s]"
     ]
    },
    {
     "name": "stdout",
     "output_type": "stream",
     "text": [
      "Fetching the transformers model\n"
     ]
    },
    {
     "name": "stderr",
     "output_type": "stream",
     "text": [
      "NER analysing:  56%|███████████████████████▏                 | 22/39 [00:17<00:13,  1.24Fraction of total text chunks/s]"
     ]
    },
    {
     "name": "stdout",
     "output_type": "stream",
     "text": [
      "Fetching the transformers model\n"
     ]
    },
    {
     "name": "stderr",
     "output_type": "stream",
     "text": [
      "NER analysing:  59%|████████████████████████▏                | 23/39 [00:18<00:14,  1.08Fraction of total text chunks/s]"
     ]
    },
    {
     "name": "stdout",
     "output_type": "stream",
     "text": [
      "Fetching the transformers model\n"
     ]
    },
    {
     "name": "stderr",
     "output_type": "stream",
     "text": [
      "NER analysing:  62%|█████████████████████████▏               | 24/39 [00:19<00:13,  1.12Fraction of total text chunks/s]"
     ]
    },
    {
     "name": "stdout",
     "output_type": "stream",
     "text": [
      "Fetching the transformers model\n"
     ]
    },
    {
     "name": "stderr",
     "output_type": "stream",
     "text": [
      "NER analysing:  64%|██████████████████████████▎              | 25/39 [00:20<00:12,  1.14Fraction of total text chunks/s]"
     ]
    },
    {
     "name": "stdout",
     "output_type": "stream",
     "text": [
      "Fetching the transformers model\n"
     ]
    },
    {
     "name": "stderr",
     "output_type": "stream",
     "text": [
      "NER analysing:  67%|███████████████████████████▎             | 26/39 [00:20<00:11,  1.17Fraction of total text chunks/s]"
     ]
    },
    {
     "name": "stdout",
     "output_type": "stream",
     "text": [
      "Fetching the transformers model\n"
     ]
    },
    {
     "name": "stderr",
     "output_type": "stream",
     "text": [
      "NER analysing:  69%|████████████████████████████▍            | 27/39 [00:21<00:10,  1.15Fraction of total text chunks/s]"
     ]
    },
    {
     "name": "stdout",
     "output_type": "stream",
     "text": [
      "Fetching the transformers model\n"
     ]
    },
    {
     "name": "stderr",
     "output_type": "stream",
     "text": [
      "NER analysing:  72%|█████████████████████████████▍           | 28/39 [00:22<00:09,  1.21Fraction of total text chunks/s]"
     ]
    },
    {
     "name": "stdout",
     "output_type": "stream",
     "text": [
      "Fetching the transformers model\n"
     ]
    },
    {
     "name": "stderr",
     "output_type": "stream",
     "text": [
      "NER analysing:  74%|██████████████████████████████▍          | 29/39 [00:23<00:07,  1.25Fraction of total text chunks/s]"
     ]
    },
    {
     "name": "stdout",
     "output_type": "stream",
     "text": [
      "Fetching the transformers model\n"
     ]
    },
    {
     "name": "stderr",
     "output_type": "stream",
     "text": [
      "NER analysing:  77%|███████████████████████████████▌         | 30/39 [00:23<00:06,  1.38Fraction of total text chunks/s]"
     ]
    },
    {
     "name": "stdout",
     "output_type": "stream",
     "text": [
      "Fetching the transformers model\n"
     ]
    },
    {
     "name": "stderr",
     "output_type": "stream",
     "text": [
      "NER analysing:  79%|████████████████████████████████▌        | 31/39 [00:24<00:06,  1.30Fraction of total text chunks/s]"
     ]
    },
    {
     "name": "stdout",
     "output_type": "stream",
     "text": [
      "Fetching the transformers model\n"
     ]
    },
    {
     "name": "stderr",
     "output_type": "stream",
     "text": [
      "NER analysing:  82%|█████████████████████████████████▋       | 32/39 [00:25<00:05,  1.24Fraction of total text chunks/s]"
     ]
    },
    {
     "name": "stdout",
     "output_type": "stream",
     "text": [
      "Fetching the transformers model\n"
     ]
    },
    {
     "name": "stderr",
     "output_type": "stream",
     "text": [
      "NER analysing:  85%|██████████████████████████████████▋      | 33/39 [00:26<00:04,  1.23Fraction of total text chunks/s]"
     ]
    },
    {
     "name": "stdout",
     "output_type": "stream",
     "text": [
      "Fetching the transformers model\n"
     ]
    },
    {
     "name": "stderr",
     "output_type": "stream",
     "text": [
      "NER analysing:  87%|███████████████████████████████████▋     | 34/39 [00:27<00:03,  1.27Fraction of total text chunks/s]"
     ]
    },
    {
     "name": "stdout",
     "output_type": "stream",
     "text": [
      "Fetching the transformers model\n"
     ]
    },
    {
     "name": "stderr",
     "output_type": "stream",
     "text": [
      "NER analysing:  90%|████████████████████████████████████▊    | 35/39 [00:27<00:02,  1.34Fraction of total text chunks/s]"
     ]
    },
    {
     "name": "stdout",
     "output_type": "stream",
     "text": [
      "Fetching the transformers model\n"
     ]
    },
    {
     "name": "stderr",
     "output_type": "stream",
     "text": [
      "NER analysing:  92%|█████████████████████████████████████▊   | 36/39 [00:28<00:02,  1.35Fraction of total text chunks/s]"
     ]
    },
    {
     "name": "stdout",
     "output_type": "stream",
     "text": [
      "Fetching the transformers model\n"
     ]
    },
    {
     "name": "stderr",
     "output_type": "stream",
     "text": [
      "NER analysing:  95%|██████████████████████████████████████▉  | 37/39 [00:29<00:01,  1.39Fraction of total text chunks/s]"
     ]
    },
    {
     "name": "stdout",
     "output_type": "stream",
     "text": [
      "Fetching the transformers model\n"
     ]
    },
    {
     "name": "stderr",
     "output_type": "stream",
     "text": [
      "NER analysing:  97%|███████████████████████████████████████▉ | 38/39 [00:29<00:00,  1.30Fraction of total text chunks/s]"
     ]
    },
    {
     "name": "stdout",
     "output_type": "stream",
     "text": [
      "Fetching the transformers model\n"
     ]
    },
    {
     "name": "stderr",
     "output_type": "stream",
     "text": [
      "NER analysing: 100%|█████████████████████████████████████████| 39/39 [00:30<00:00,  1.28Fraction of total text chunks/s]\n",
      "Fuzzy-search thesaurus in text chunks.: 100%|███████████████████████████| 1935/1935 [01:01<00:00, 31.53analyzed chunk/s]\n",
      "Fuzzy-search thesaurus in text chunks.: 100%|█████████████████████████| 1935/1935 [00:00<00:00, 7073.81analyzed chunk/s]\n",
      "Gathering filtered chunks: 100%|████████████████████████████████████████████| 62/62 [00:00<00:00, 2952.70intervention/s]\n",
      "Gathering filtered chunks: 100%|████████████████████████████████████████████| 62/62 [00:00<00:00, 2931.26intervention/s]\n"
     ]
    },
    {
     "name": "stdout",
     "output_type": "stream",
     "text": [
      "Average Metric: 32.36 / 62 (52.2%): 100%|██████████████████████████████████████████████| 62/62 [00:00<00:00, 440.29it/s]"
     ]
    },
    {
     "name": "stderr",
     "output_type": "stream",
     "text": [
      "2025/09/03 13:31:19 INFO dspy.evaluate.evaluate: Average Metric: 32.36 / 62 (52.2%)\n"
     ]
    },
    {
     "name": "stdout",
     "output_type": "stream",
     "text": [
      "\n"
     ]
    },
    {
     "data": {
      "text/html": [
       "<div>\n",
       "<style scoped>\n",
       "    .dataframe tbody tr th:only-of-type {\n",
       "        vertical-align: middle;\n",
       "    }\n",
       "\n",
       "    .dataframe tbody tr th {\n",
       "        vertical-align: top;\n",
       "    }\n",
       "\n",
       "    .dataframe thead th {\n",
       "        text-align: right;\n",
       "    }\n",
       "</style>\n",
       "<table border=\"1\" class=\"dataframe\">\n",
       "  <thead>\n",
       "    <tr style=\"text-align: right;\">\n",
       "      <th></th>\n",
       "      <th>fragmenti_relazione</th>\n",
       "      <th>data_di_archiviazone</th>\n",
       "      <th>example_start_day</th>\n",
       "      <th>example_start_month</th>\n",
       "      <th>example_start_year</th>\n",
       "      <th>example_end_day</th>\n",
       "      <th>example_end_month</th>\n",
       "      <th>example_end_year</th>\n",
       "      <th>example_precision</th>\n",
       "      <th>pred_start_day</th>\n",
       "      <th>pred_start_month</th>\n",
       "      <th>pred_start_year</th>\n",
       "      <th>pred_end_day</th>\n",
       "      <th>pred_end_month</th>\n",
       "      <th>pred_end_year</th>\n",
       "      <th>pred_precision</th>\n",
       "      <th>method</th>\n",
       "    </tr>\n",
       "  </thead>\n",
       "  <tbody>\n",
       "    <tr>\n",
       "      <th>0</th>\n",
       "      <td>`%% relazione.pdf | Page [37] (['table']) %%`\\n</td>\n",
       "      <td>{'giorno': 27, 'mese': 'Ottobre', 'anno': 1987}</td>\n",
       "      <td>1.0</td>\n",
       "      <td>10.0</td>\n",
       "      <td>1987.0</td>\n",
       "      <td>28</td>\n",
       "      <td>11</td>\n",
       "      <td>1987</td>\n",
       "      <td>month</td>\n",
       "      <td>NaN</td>\n",
       "      <td>NaN</td>\n",
       "      <td>NaN</td>\n",
       "      <td>27</td>\n",
       "      <td>9</td>\n",
       "      <td>1987</td>\n",
       "      <td>day</td>\n",
       "      <td>✔️ [0.450]</td>\n",
       "    </tr>\n",
       "    <tr>\n",
       "      <th>1</th>\n",
       "      <td>`%% relazione.pdf | Page [37] (['table']) %%`\\n</td>\n",
       "      <td>{'giorno': 27, 'mese': 'Ottobre', 'anno': 1987}</td>\n",
       "      <td>1.0</td>\n",
       "      <td>10.0</td>\n",
       "      <td>1987.0</td>\n",
       "      <td>28</td>\n",
       "      <td>11</td>\n",
       "      <td>1987</td>\n",
       "      <td>month</td>\n",
       "      <td>NaN</td>\n",
       "      <td>NaN</td>\n",
       "      <td>NaN</td>\n",
       "      <td>27</td>\n",
       "      <td>9</td>\n",
       "      <td>1987</td>\n",
       "      <td>day</td>\n",
       "      <td>✔️ [0.450]</td>\n",
       "    </tr>\n",
       "    <tr>\n",
       "      <th>2</th>\n",
       "      <td>`%% Relazione_Assistenza.pdf | Page [1, 2] (['table']) %%`\\n</td>\n",
       "      <td>{'giorno': 2, 'mese': 'Luglio', 'anno': 2015}</td>\n",
       "      <td>1.0</td>\n",
       "      <td>6.0</td>\n",
       "      <td>2014.0</td>\n",
       "      <td>28</td>\n",
       "      <td>9</td>\n",
       "      <td>2014</td>\n",
       "      <td>month</td>\n",
       "      <td>NaN</td>\n",
       "      <td>NaN</td>\n",
       "      <td>NaN</td>\n",
       "      <td>2</td>\n",
       "      <td>6</td>\n",
       "      <td>2015</td>\n",
       "      <td>month</td>\n",
       "      <td>✔️ [0.500]</td>\n",
       "    </tr>\n",
       "    <tr>\n",
       "      <th>3</th>\n",
       "      <td>`%% Relazione_assistenza.pdf | Page [3] (['table']) %%`\\n</td>\n",
       "      <td>{'giorno': 19, 'mese': 'Settembre', 'anno': 2012}</td>\n",
       "      <td>18.0</td>\n",
       "      <td>1.0</td>\n",
       "      <td>2012.0</td>\n",
       "      <td>18</td>\n",
       "      <td>1</td>\n",
       "      <td>2012</td>\n",
       "      <td>day</td>\n",
       "      <td>NaN</td>\n",
       "      <td>NaN</td>\n",
       "      <td>NaN</td>\n",
       "      <td>19</td>\n",
       "      <td>8</td>\n",
       "      <td>2012</td>\n",
       "      <td>month</td>\n",
       "      <td>✔️ [0.450]</td>\n",
       "    </tr>\n",
       "    <tr>\n",
       "      <th>4</th>\n",
       "      <td>`%% Relazione_di_fine_scavo.pdf | Page [1, 2] (['table', 'text']) ...</td>\n",
       "      <td>{'giorno': 13, 'mese': 'Dicembre', 'anno': 2001}</td>\n",
       "      <td>23.0</td>\n",
       "      <td>11.0</td>\n",
       "      <td>2001.0</td>\n",
       "      <td>23</td>\n",
       "      <td>11</td>\n",
       "      <td>2001</td>\n",
       "      <td>day</td>\n",
       "      <td>1.0</td>\n",
       "      <td>0.0</td>\n",
       "      <td>2001.0</td>\n",
       "      <td>13</td>\n",
       "      <td>11</td>\n",
       "      <td>2001</td>\n",
       "      <td>month</td>\n",
       "      <td>✔️ [0.480]</td>\n",
       "    </tr>\n",
       "  </tbody>\n",
       "</table>\n",
       "</div>"
      ],
      "text/plain": [
       "                                                     fragmenti_relazione  \\\n",
       "0                        `%% relazione.pdf | Page [37] (['table']) %%`\\n   \n",
       "1                        `%% relazione.pdf | Page [37] (['table']) %%`\\n   \n",
       "2           `%% Relazione_Assistenza.pdf | Page [1, 2] (['table']) %%`\\n   \n",
       "3              `%% Relazione_assistenza.pdf | Page [3] (['table']) %%`\\n   \n",
       "4  `%% Relazione_di_fine_scavo.pdf | Page [1, 2] (['table', 'text']) ...   \n",
       "\n",
       "                                data_di_archiviazone  example_start_day  \\\n",
       "0    {'giorno': 27, 'mese': 'Ottobre', 'anno': 1987}                1.0   \n",
       "1    {'giorno': 27, 'mese': 'Ottobre', 'anno': 1987}                1.0   \n",
       "2      {'giorno': 2, 'mese': 'Luglio', 'anno': 2015}                1.0   \n",
       "3  {'giorno': 19, 'mese': 'Settembre', 'anno': 2012}               18.0   \n",
       "4   {'giorno': 13, 'mese': 'Dicembre', 'anno': 2001}               23.0   \n",
       "\n",
       "   example_start_month  example_start_year  example_end_day  \\\n",
       "0                 10.0              1987.0               28   \n",
       "1                 10.0              1987.0               28   \n",
       "2                  6.0              2014.0               28   \n",
       "3                  1.0              2012.0               18   \n",
       "4                 11.0              2001.0               23   \n",
       "\n",
       "   example_end_month  example_end_year example_precision  pred_start_day  \\\n",
       "0                 11              1987             month             NaN   \n",
       "1                 11              1987             month             NaN   \n",
       "2                  9              2014             month             NaN   \n",
       "3                  1              2012               day             NaN   \n",
       "4                 11              2001               day             1.0   \n",
       "\n",
       "   pred_start_month  pred_start_year  pred_end_day  pred_end_month  \\\n",
       "0               NaN              NaN            27               9   \n",
       "1               NaN              NaN            27               9   \n",
       "2               NaN              NaN             2               6   \n",
       "3               NaN              NaN            19               8   \n",
       "4               0.0           2001.0            13              11   \n",
       "\n",
       "   pred_end_year pred_precision      method  \n",
       "0           1987            day  ✔️ [0.450]  \n",
       "1           1987            day  ✔️ [0.450]  \n",
       "2           2015          month  ✔️ [0.500]  \n",
       "3           2012          month  ✔️ [0.450]  \n",
       "4           2001          month  ✔️ [0.480]  "
      ]
     },
     "metadata": {},
     "output_type": "display_data"
    },
    {
     "data": {
      "text/html": [
       "\n",
       "            <div style='\n",
       "                text-align: center;\n",
       "                font-size: 16px;\n",
       "                font-weight: bold;\n",
       "                color: #555;\n",
       "                margin: 10px 0;'>\n",
       "                ... 57 more rows not displayed ...\n",
       "            </div>\n",
       "            "
      ],
      "text/plain": [
       "<IPython.core.display.HTML object>"
      ]
     },
     "metadata": {},
     "output_type": "display_data"
    },
    {
     "name": "stdout",
     "output_type": "stream",
     "text": [
      "Average Metric: 45.90 / 62 (74.0%): 100%|███████████████████████████████████████████████| 62/62 [03:09<00:00,  3.06s/it]"
     ]
    },
    {
     "name": "stderr",
     "output_type": "stream",
     "text": [
      "2025/09/03 13:34:29 INFO dspy.evaluate.evaluate: Average Metric: 45.9 / 62 (74.0%)\n"
     ]
    },
    {
     "name": "stdout",
     "output_type": "stream",
     "text": [
      "\n"
     ]
    },
    {
     "data": {
      "text/html": [
       "<div>\n",
       "<style scoped>\n",
       "    .dataframe tbody tr th:only-of-type {\n",
       "        vertical-align: middle;\n",
       "    }\n",
       "\n",
       "    .dataframe tbody tr th {\n",
       "        vertical-align: top;\n",
       "    }\n",
       "\n",
       "    .dataframe thead th {\n",
       "        text-align: right;\n",
       "    }\n",
       "</style>\n",
       "<table border=\"1\" class=\"dataframe\">\n",
       "  <thead>\n",
       "    <tr style=\"text-align: right;\">\n",
       "      <th></th>\n",
       "      <th>fragmenti_relazione</th>\n",
       "      <th>possibili_comuni</th>\n",
       "      <th>example_comune</th>\n",
       "      <th>example_provincia</th>\n",
       "      <th>pred_comune</th>\n",
       "      <th>pred_provincia</th>\n",
       "      <th>method</th>\n",
       "    </tr>\n",
       "  </thead>\n",
       "  <tbody>\n",
       "    <tr>\n",
       "      <th>0</th>\n",
       "      <td>`%% relazione.pdf | Page [1] (['table']) %%` 0, 0 = società cooper...</td>\n",
       "      <td>[{'citta_nome': 'Appiano Gentile', 'provicia_nome': 'Como', 'provi...</td>\n",
       "      <td>Pisa</td>\n",
       "      <td>Pisa</td>\n",
       "      <td>Pisa</td>\n",
       "      <td>Pisa</td>\n",
       "      <td>✔️ [1.000]</td>\n",
       "    </tr>\n",
       "    <tr>\n",
       "      <th>1</th>\n",
       "      <td>`%% relazione.pdf | Page [1] (['table']) %%` 0, 0 = società cooper...</td>\n",
       "      <td>[{'citta_nome': 'Appiano Gentile', 'provicia_nome': 'Como', 'provi...</td>\n",
       "      <td>Pisa</td>\n",
       "      <td>Pisa</td>\n",
       "      <td>Pisa</td>\n",
       "      <td>Pisa</td>\n",
       "      <td>✔️ [1.000]</td>\n",
       "    </tr>\n",
       "    <tr>\n",
       "      <th>2</th>\n",
       "      <td>`%% Relazione_Assistenza.pdf | Page [1, 2] (['table']) %%` 0, 0 = ...</td>\n",
       "      <td>[{'citta_nome': 'Appiano Gentile', 'provicia_nome': 'Como', 'provi...</td>\n",
       "      <td>Pisa</td>\n",
       "      <td>Pisa</td>\n",
       "      <td>Pisa</td>\n",
       "      <td>Pisa</td>\n",
       "      <td>✔️ [1.000]</td>\n",
       "    </tr>\n",
       "    <tr>\n",
       "      <th>3</th>\n",
       "      <td>`%% Relazione_assistenza.pdf | Page [1] (['table']) %%` 0, 0 = Com...</td>\n",
       "      <td>[{'citta_nome': 'Monte San Giacomo', 'provicia_nome': 'Salerno', '...</td>\n",
       "      <td>Pisa</td>\n",
       "      <td>Pisa</td>\n",
       "      <td>Pisa</td>\n",
       "      <td>Pisa</td>\n",
       "      <td>✔️ [1.000]</td>\n",
       "    </tr>\n",
       "    <tr>\n",
       "      <th>4</th>\n",
       "      <td>`%% Relazione_di_fine_scavo.pdf | Page [1, 2] (['table', 'text']) ...</td>\n",
       "      <td>[{'citta_nome': 'Monte San Giacomo', 'provicia_nome': 'Salerno', '...</td>\n",
       "      <td>Carmignano</td>\n",
       "      <td>Prato</td>\n",
       "      <td>Carmignano</td>\n",
       "      <td>Prato</td>\n",
       "      <td>✔️ [1.000]</td>\n",
       "    </tr>\n",
       "  </tbody>\n",
       "</table>\n",
       "</div>"
      ],
      "text/plain": [
       "                                                     fragmenti_relazione  \\\n",
       "0  `%% relazione.pdf | Page [1] (['table']) %%` 0, 0 = società cooper...   \n",
       "1  `%% relazione.pdf | Page [1] (['table']) %%` 0, 0 = società cooper...   \n",
       "2  `%% Relazione_Assistenza.pdf | Page [1, 2] (['table']) %%` 0, 0 = ...   \n",
       "3  `%% Relazione_assistenza.pdf | Page [1] (['table']) %%` 0, 0 = Com...   \n",
       "4  `%% Relazione_di_fine_scavo.pdf | Page [1, 2] (['table', 'text']) ...   \n",
       "\n",
       "                                                        possibili_comuni  \\\n",
       "0  [{'citta_nome': 'Appiano Gentile', 'provicia_nome': 'Como', 'provi...   \n",
       "1  [{'citta_nome': 'Appiano Gentile', 'provicia_nome': 'Como', 'provi...   \n",
       "2  [{'citta_nome': 'Appiano Gentile', 'provicia_nome': 'Como', 'provi...   \n",
       "3  [{'citta_nome': 'Monte San Giacomo', 'provicia_nome': 'Salerno', '...   \n",
       "4  [{'citta_nome': 'Monte San Giacomo', 'provicia_nome': 'Salerno', '...   \n",
       "\n",
       "  example_comune example_provincia pred_comune pred_provincia      method  \n",
       "0           Pisa              Pisa        Pisa           Pisa  ✔️ [1.000]  \n",
       "1           Pisa              Pisa        Pisa           Pisa  ✔️ [1.000]  \n",
       "2           Pisa              Pisa        Pisa           Pisa  ✔️ [1.000]  \n",
       "3           Pisa              Pisa        Pisa           Pisa  ✔️ [1.000]  \n",
       "4     Carmignano             Prato  Carmignano          Prato  ✔️ [1.000]  "
      ]
     },
     "metadata": {},
     "output_type": "display_data"
    },
    {
     "data": {
      "text/html": [
       "\n",
       "            <div style='\n",
       "                text-align: center;\n",
       "                font-size: 16px;\n",
       "                font-weight: bold;\n",
       "                color: #555;\n",
       "                margin: 10px 0;'>\n",
       "                ... 57 more rows not displayed ...\n",
       "            </div>\n",
       "            "
      ],
      "text/plain": [
       "<IPython.core.display.HTML object>"
      ]
     },
     "metadata": {},
     "output_type": "display_data"
    }
   ],
   "source": [
    "from archaeo_super_prompt.modeling import predict as infering\n",
    "with mlflow.start_run():\n",
    "    trained_dag_parts = training.train_from_scratch(train_inputs, ds)\n",
    "    per_field_scores, detailed_results = infering.score_dag(trained_dag_parts, eval_inputs, ds)\n"
   ]
  },
  {
   "cell_type": "code",
   "execution_count": 15,
   "id": "6",
   "metadata": {},
   "outputs": [],
   "source": [
    "visualizator.init_complete_vizualisation_engine(detailed_results)"
   ]
  },
  {
   "cell_type": "code",
   "execution_count": null,
   "id": "7",
   "metadata": {},
   "outputs": [],
   "source": [
    "visualizator.run_display_server()"
   ]
  }
 ],
 "metadata": {
  "kernelspec": {
   "display_name": "Poetry",
   "language": "python",
   "name": "poetry-kernel"
  },
  "language_info": {
   "codemirror_mode": {
    "name": "ipython",
    "version": 3
   },
   "file_extension": ".py",
   "mimetype": "text/x-python",
   "name": "python",
   "nbconvert_exporter": "python",
   "pygments_lexer": "ipython3",
   "version": "3.13.5"
  }
 },
 "nbformat": 4,
 "nbformat_minor": 5
}
